{
 "cells": [
  {
   "cell_type": "markdown",
   "id": "e5e043b2",
   "metadata": {},
   "source": [
    "## Week 4, Lab 1: Predicting Left-Handedness from Psychological Factors\n",
    "> Author: Matt Brems\n",
    "\n",
    "One way to define the data science process is as follows:\n",
    "\n",
    "1. Define the problem.\n",
    "2. Obtain the data.\n",
    "3. Explore the data.\n",
    "4. Model the data.\n",
    "5. Evaluate the model.\n",
    "6. Answer the problem.\n",
    "\n",
    "We'll walk through a full data science problem in this lab. \n",
    "\n",
    "---\n",
    "## Define The Problem.\n",
    "\n",
    "You're currently a data scientist working at a university. A professor of psychology is attempting to study the relationship between personalities and left-handedness. They have tasked you with gathering evidence so that they may publish.\n",
    "\n",
    "As a data scientist, you know that any real data science problem must be **specific** and **conclusively answerable**. For example:\n",
    "- Bad data science problem: \"What is the link between obesity and blood pressure?\"\n",
    "    - This is vague and is not conclusively answerable. That is, two people might look at the conclusion and one may say \"Sure, the problem has been answered!\" and the other may say \"The problem has not yet been answered.\"\n",
    "- Good data science problem: \"Does an association exist between obesity and blood pressure?\"\n",
    "    - This is more specific and is conclusively answerable. The problem specifically is asking for a \"Yes\" or \"No\" answer. Based on that, two independent people should both be able to say either \"Yes, the problem has been answered\" or \"No, the problem has not yet been answered.\"\n",
    "- Excellent data science problem: \"As obesity increases, how does blood pressure change?\"\n",
    "    - This is very specific and is conclusively answerable. The problem specifically seeks to understand the effect of one variable on the other.\n",
    "\n",
    "### In the context of the left-handedness and personality example, what are three specific and conclusively answerable problems that you could answer using data science? \n",
    "\n",
    "> You might find it helpful to check out the codebook in the repo for some inspiration."
   ]
  },
  {
   "cell_type": "markdown",
   "id": "d51beacc",
   "metadata": {},
   "source": [
    "### Problem Statements \n",
    "1. Does an association exist between creativity and left-handedness?\n",
    "\n",
    "2. Do people who are attention to detail to be left-handed?\n",
    "\n",
    "3. Do people who are like exciting to be left-handed?"
   ]
  },
  {
   "cell_type": "markdown",
   "id": "32144652",
   "metadata": {},
   "source": [
    "---\n",
    "## Step 2: Obtain the data.\n",
    "\n",
    "### Read in the file titled \"data.csv\":\n",
    "> Hint: Despite being saved as a .csv file, you won't be able to simply `pd.read_csv()` this data!"
   ]
  },
  {
   "cell_type": "code",
   "execution_count": 40,
   "id": "2a154e91",
   "metadata": {},
   "outputs": [],
   "source": [
    "# Library imports\n",
    "import pandas as pd\n",
    "import seaborn as sns\n",
    "import numpy as np\n",
    "import matplotlib.pyplot as plt\n",
    "\n",
    "from sklearn.neighbors import KNeighborsClassifier\n",
    "from sklearn.model_selection import train_test_split, cross_val_score\n",
    "from sklearn.preprocessing import StandardScaler\n",
    "from sklearn.metrics import confusion_matrix, ConfusionMatrixDisplay\n",
    "from sklearn.linear_model import LogisticRegression"
   ]
  },
  {
   "cell_type": "code",
   "execution_count": 2,
   "id": "1e730059",
   "metadata": {},
   "outputs": [],
   "source": [
    "# https://pandas.pydata.org/docs/reference/api/pandas.read_csv.html\n",
    "# Open dataset divided column by \\t \n",
    "df = pd.read_csv(\"./data.csv\", sep=\"\\t\")"
   ]
  },
  {
   "cell_type": "code",
   "execution_count": 3,
   "id": "d9d5e22b",
   "metadata": {},
   "outputs": [
    {
     "data": {
      "text/html": [
       "<div>\n",
       "<style scoped>\n",
       "    .dataframe tbody tr th:only-of-type {\n",
       "        vertical-align: middle;\n",
       "    }\n",
       "\n",
       "    .dataframe tbody tr th {\n",
       "        vertical-align: top;\n",
       "    }\n",
       "\n",
       "    .dataframe thead th {\n",
       "        text-align: right;\n",
       "    }\n",
       "</style>\n",
       "<table border=\"1\" class=\"dataframe\">\n",
       "  <thead>\n",
       "    <tr style=\"text-align: right;\">\n",
       "      <th></th>\n",
       "      <th>Q1</th>\n",
       "      <th>Q2</th>\n",
       "      <th>Q3</th>\n",
       "      <th>Q4</th>\n",
       "      <th>Q5</th>\n",
       "      <th>Q6</th>\n",
       "      <th>Q7</th>\n",
       "      <th>Q8</th>\n",
       "      <th>Q9</th>\n",
       "      <th>Q10</th>\n",
       "      <th>...</th>\n",
       "      <th>country</th>\n",
       "      <th>fromgoogle</th>\n",
       "      <th>engnat</th>\n",
       "      <th>age</th>\n",
       "      <th>education</th>\n",
       "      <th>gender</th>\n",
       "      <th>orientation</th>\n",
       "      <th>race</th>\n",
       "      <th>religion</th>\n",
       "      <th>hand</th>\n",
       "    </tr>\n",
       "  </thead>\n",
       "  <tbody>\n",
       "    <tr>\n",
       "      <th>0</th>\n",
       "      <td>4</td>\n",
       "      <td>1</td>\n",
       "      <td>5</td>\n",
       "      <td>1</td>\n",
       "      <td>5</td>\n",
       "      <td>1</td>\n",
       "      <td>5</td>\n",
       "      <td>1</td>\n",
       "      <td>4</td>\n",
       "      <td>1</td>\n",
       "      <td>...</td>\n",
       "      <td>US</td>\n",
       "      <td>2</td>\n",
       "      <td>1</td>\n",
       "      <td>22</td>\n",
       "      <td>3</td>\n",
       "      <td>1</td>\n",
       "      <td>1</td>\n",
       "      <td>3</td>\n",
       "      <td>2</td>\n",
       "      <td>3</td>\n",
       "    </tr>\n",
       "    <tr>\n",
       "      <th>1</th>\n",
       "      <td>1</td>\n",
       "      <td>5</td>\n",
       "      <td>1</td>\n",
       "      <td>4</td>\n",
       "      <td>2</td>\n",
       "      <td>5</td>\n",
       "      <td>5</td>\n",
       "      <td>4</td>\n",
       "      <td>1</td>\n",
       "      <td>5</td>\n",
       "      <td>...</td>\n",
       "      <td>CA</td>\n",
       "      <td>2</td>\n",
       "      <td>1</td>\n",
       "      <td>14</td>\n",
       "      <td>1</td>\n",
       "      <td>2</td>\n",
       "      <td>2</td>\n",
       "      <td>6</td>\n",
       "      <td>1</td>\n",
       "      <td>1</td>\n",
       "    </tr>\n",
       "    <tr>\n",
       "      <th>2</th>\n",
       "      <td>1</td>\n",
       "      <td>2</td>\n",
       "      <td>1</td>\n",
       "      <td>1</td>\n",
       "      <td>5</td>\n",
       "      <td>4</td>\n",
       "      <td>3</td>\n",
       "      <td>2</td>\n",
       "      <td>1</td>\n",
       "      <td>4</td>\n",
       "      <td>...</td>\n",
       "      <td>NL</td>\n",
       "      <td>2</td>\n",
       "      <td>2</td>\n",
       "      <td>30</td>\n",
       "      <td>4</td>\n",
       "      <td>1</td>\n",
       "      <td>1</td>\n",
       "      <td>1</td>\n",
       "      <td>1</td>\n",
       "      <td>2</td>\n",
       "    </tr>\n",
       "    <tr>\n",
       "      <th>3</th>\n",
       "      <td>1</td>\n",
       "      <td>4</td>\n",
       "      <td>1</td>\n",
       "      <td>5</td>\n",
       "      <td>1</td>\n",
       "      <td>4</td>\n",
       "      <td>5</td>\n",
       "      <td>4</td>\n",
       "      <td>3</td>\n",
       "      <td>5</td>\n",
       "      <td>...</td>\n",
       "      <td>US</td>\n",
       "      <td>2</td>\n",
       "      <td>1</td>\n",
       "      <td>18</td>\n",
       "      <td>2</td>\n",
       "      <td>2</td>\n",
       "      <td>5</td>\n",
       "      <td>3</td>\n",
       "      <td>2</td>\n",
       "      <td>2</td>\n",
       "    </tr>\n",
       "    <tr>\n",
       "      <th>4</th>\n",
       "      <td>5</td>\n",
       "      <td>1</td>\n",
       "      <td>5</td>\n",
       "      <td>1</td>\n",
       "      <td>5</td>\n",
       "      <td>1</td>\n",
       "      <td>5</td>\n",
       "      <td>1</td>\n",
       "      <td>3</td>\n",
       "      <td>1</td>\n",
       "      <td>...</td>\n",
       "      <td>US</td>\n",
       "      <td>2</td>\n",
       "      <td>1</td>\n",
       "      <td>22</td>\n",
       "      <td>3</td>\n",
       "      <td>1</td>\n",
       "      <td>1</td>\n",
       "      <td>3</td>\n",
       "      <td>2</td>\n",
       "      <td>3</td>\n",
       "    </tr>\n",
       "  </tbody>\n",
       "</table>\n",
       "<p>5 rows × 56 columns</p>\n",
       "</div>"
      ],
      "text/plain": [
       "   Q1  Q2  Q3  Q4  Q5  Q6  Q7  Q8  Q9  Q10  ...  country  fromgoogle  engnat  \\\n",
       "0   4   1   5   1   5   1   5   1   4    1  ...       US           2       1   \n",
       "1   1   5   1   4   2   5   5   4   1    5  ...       CA           2       1   \n",
       "2   1   2   1   1   5   4   3   2   1    4  ...       NL           2       2   \n",
       "3   1   4   1   5   1   4   5   4   3    5  ...       US           2       1   \n",
       "4   5   1   5   1   5   1   5   1   3    1  ...       US           2       1   \n",
       "\n",
       "   age  education  gender  orientation  race  religion  hand  \n",
       "0   22          3       1            1     3         2     3  \n",
       "1   14          1       2            2     6         1     1  \n",
       "2   30          4       1            1     1         1     2  \n",
       "3   18          2       2            5     3         2     2  \n",
       "4   22          3       1            1     3         2     3  \n",
       "\n",
       "[5 rows x 56 columns]"
      ]
     },
     "execution_count": 3,
     "metadata": {},
     "output_type": "execute_result"
    }
   ],
   "source": [
    "# View dataset\n",
    "df.head()"
   ]
  },
  {
   "cell_type": "code",
   "execution_count": 4,
   "id": "b09314eb",
   "metadata": {},
   "outputs": [
    {
     "data": {
      "text/plain": [
       "(4184, 56)"
      ]
     },
     "execution_count": 4,
     "metadata": {},
     "output_type": "execute_result"
    }
   ],
   "source": [
    "# Check shape\n",
    "df.shape"
   ]
  },
  {
   "cell_type": "markdown",
   "id": "50b55b21",
   "metadata": {},
   "source": [
    "---\n",
    "\n",
    "## Step 3: Explore the data.\n",
    "\n",
    "### Conduct background research:\n",
    "\n",
    "Domain knowledge is irreplaceable. Figuring out what information is relevant to a problem, or what data would be useful to gather, is a major part of any end-to-end data science project! For this lab, you'll be using a dataset that someone else has put together, rather than collecting the data yourself.\n",
    "\n",
    "Do some background research about personality and handedness. What features, if any, are likely to help you make good predictions? How well do you think you'll be able to model this? Write a few bullet points summarizing what you believe, and remember to cite external sources.\n",
    "\n",
    "You don't have to be exhaustive here. Do enough research to form an opinion, and then move on.\n",
    "\n",
    "> You'll be using the answers to Q1-Q44 for modeling; you can disregard other features, e.g. country, age, internet browser."
   ]
  },
  {
   "cell_type": "code",
   "execution_count": 5,
   "id": "afd5bd09",
   "metadata": {},
   "outputs": [
    {
     "data": {
      "text/plain": [
       "['Q1',\n",
       " 'Q2',\n",
       " 'Q3',\n",
       " 'Q4',\n",
       " 'Q5',\n",
       " 'Q6',\n",
       " 'Q7',\n",
       " 'Q8',\n",
       " 'Q9',\n",
       " 'Q10',\n",
       " 'Q11',\n",
       " 'Q12',\n",
       " 'Q13',\n",
       " 'Q14',\n",
       " 'Q15',\n",
       " 'Q16',\n",
       " 'Q17',\n",
       " 'Q18',\n",
       " 'Q19',\n",
       " 'Q20',\n",
       " 'Q21',\n",
       " 'Q22',\n",
       " 'Q23',\n",
       " 'Q24',\n",
       " 'Q25',\n",
       " 'Q26',\n",
       " 'Q27',\n",
       " 'Q28',\n",
       " 'Q29',\n",
       " 'Q30',\n",
       " 'Q31',\n",
       " 'Q32',\n",
       " 'Q33',\n",
       " 'Q34',\n",
       " 'Q35',\n",
       " 'Q36',\n",
       " 'Q37',\n",
       " 'Q38',\n",
       " 'Q39',\n",
       " 'Q40',\n",
       " 'Q41',\n",
       " 'Q42',\n",
       " 'Q43',\n",
       " 'Q44',\n",
       " 'introelapse',\n",
       " 'testelapse',\n",
       " 'country',\n",
       " 'fromgoogle',\n",
       " 'engnat',\n",
       " 'age',\n",
       " 'education',\n",
       " 'gender',\n",
       " 'orientation',\n",
       " 'race',\n",
       " 'religion',\n",
       " 'hand']"
      ]
     },
     "execution_count": 5,
     "metadata": {},
     "output_type": "execute_result"
    }
   ],
   "source": [
    "# Check dtypes \n",
    "list(df.columns)"
   ]
  },
  {
   "cell_type": "code",
   "execution_count": 6,
   "id": "ac5eff1f",
   "metadata": {},
   "outputs": [],
   "source": [
    "# Disregard other features(not necessary)\n",
    "# Unrelated to the personality trait(topic and problem statement to study)\n",
    "# And related to ethics/privacy(sensitive topics)\n",
    "drop_columns = ['introelapse',\n",
    "                 'testelapse',\n",
    "                 'country',\n",
    "                 'fromgoogle',\n",
    "                 'engnat',\n",
    "                 'age',\n",
    "                 'education',\n",
    "                 'gender',\n",
    "                 'orientation',\n",
    "                 'race',\n",
    "                 'religion',]\n",
    "df.drop(columns=drop_columns, inplace=True)"
   ]
  },
  {
   "cell_type": "markdown",
   "id": "3adf0649",
   "metadata": {},
   "source": [
    "### Conduct exploratory data analysis on this dataset:\n",
    "\n",
    "If you haven't already, be sure to check out the codebook in the repo, as that will help in your EDA process.\n",
    "\n",
    "You might use this section to perform data cleaning if you find it to be necessary."
   ]
  },
  {
   "cell_type": "code",
   "execution_count": 7,
   "id": "bea10518",
   "metadata": {},
   "outputs": [
    {
     "data": {
      "text/plain": [
       "Index(['Q1', 'Q2', 'Q3', 'Q4', 'Q5', 'Q6', 'Q7', 'Q8', 'Q9', 'Q10', 'Q11',\n",
       "       'Q12', 'Q13', 'Q14', 'Q15', 'Q16', 'Q17', 'Q18', 'Q19', 'Q20', 'Q21',\n",
       "       'Q22', 'Q23', 'Q24', 'Q25', 'Q26', 'Q27', 'Q28', 'Q29', 'Q30', 'Q31',\n",
       "       'Q32', 'Q33', 'Q34', 'Q35', 'Q36', 'Q37', 'Q38', 'Q39', 'Q40', 'Q41',\n",
       "       'Q42', 'Q43', 'Q44', 'hand'],\n",
       "      dtype='object')"
      ]
     },
     "execution_count": 7,
     "metadata": {},
     "output_type": "execute_result"
    }
   ],
   "source": [
    "# Check columns\n",
    "df.columns"
   ]
  },
  {
   "cell_type": "code",
   "execution_count": 8,
   "id": "52de3d2d",
   "metadata": {},
   "outputs": [
    {
     "data": {
      "text/plain": [
       "Q1      int64\n",
       "Q2      int64\n",
       "Q3      int64\n",
       "Q4      int64\n",
       "Q5      int64\n",
       "Q6      int64\n",
       "Q7      int64\n",
       "Q8      int64\n",
       "Q9      int64\n",
       "Q10     int64\n",
       "Q11     int64\n",
       "Q12     int64\n",
       "Q13     int64\n",
       "Q14     int64\n",
       "Q15     int64\n",
       "Q16     int64\n",
       "Q17     int64\n",
       "Q18     int64\n",
       "Q19     int64\n",
       "Q20     int64\n",
       "Q21     int64\n",
       "Q22     int64\n",
       "Q23     int64\n",
       "Q24     int64\n",
       "Q25     int64\n",
       "Q26     int64\n",
       "Q27     int64\n",
       "Q28     int64\n",
       "Q29     int64\n",
       "Q30     int64\n",
       "Q31     int64\n",
       "Q32     int64\n",
       "Q33     int64\n",
       "Q34     int64\n",
       "Q35     int64\n",
       "Q36     int64\n",
       "Q37     int64\n",
       "Q38     int64\n",
       "Q39     int64\n",
       "Q40     int64\n",
       "Q41     int64\n",
       "Q42     int64\n",
       "Q43     int64\n",
       "Q44     int64\n",
       "hand    int64\n",
       "dtype: object"
      ]
     },
     "execution_count": 8,
     "metadata": {},
     "output_type": "execute_result"
    }
   ],
   "source": [
    "# Check dtypes\n",
    "df.dtypes"
   ]
  },
  {
   "cell_type": "code",
   "execution_count": 9,
   "id": "8344bb5b",
   "metadata": {},
   "outputs": [
    {
     "data": {
      "text/plain": [
       "0"
      ]
     },
     "execution_count": 9,
     "metadata": {},
     "output_type": "execute_result"
    }
   ],
   "source": [
    "# Check missing values\n",
    "df.isnull().sum().sum()"
   ]
  },
  {
   "cell_type": "code",
   "execution_count": 10,
   "id": "b15e64c3",
   "metadata": {},
   "outputs": [
    {
     "data": {
      "text/html": [
       "<div>\n",
       "<style scoped>\n",
       "    .dataframe tbody tr th:only-of-type {\n",
       "        vertical-align: middle;\n",
       "    }\n",
       "\n",
       "    .dataframe tbody tr th {\n",
       "        vertical-align: top;\n",
       "    }\n",
       "\n",
       "    .dataframe thead th {\n",
       "        text-align: right;\n",
       "    }\n",
       "</style>\n",
       "<table border=\"1\" class=\"dataframe\">\n",
       "  <thead>\n",
       "    <tr style=\"text-align: right;\">\n",
       "      <th></th>\n",
       "      <th>Q1</th>\n",
       "      <th>Q2</th>\n",
       "      <th>Q3</th>\n",
       "      <th>Q4</th>\n",
       "      <th>Q5</th>\n",
       "      <th>Q6</th>\n",
       "      <th>Q7</th>\n",
       "      <th>Q8</th>\n",
       "      <th>Q9</th>\n",
       "      <th>Q10</th>\n",
       "      <th>...</th>\n",
       "      <th>Q36</th>\n",
       "      <th>Q37</th>\n",
       "      <th>Q38</th>\n",
       "      <th>Q39</th>\n",
       "      <th>Q40</th>\n",
       "      <th>Q41</th>\n",
       "      <th>Q42</th>\n",
       "      <th>Q43</th>\n",
       "      <th>Q44</th>\n",
       "      <th>hand</th>\n",
       "    </tr>\n",
       "  </thead>\n",
       "  <tbody>\n",
       "    <tr>\n",
       "      <th>count</th>\n",
       "      <td>4184.000000</td>\n",
       "      <td>4184.000000</td>\n",
       "      <td>4184.000000</td>\n",
       "      <td>4184.000000</td>\n",
       "      <td>4184.000000</td>\n",
       "      <td>4184.000000</td>\n",
       "      <td>4184.000000</td>\n",
       "      <td>4184.000000</td>\n",
       "      <td>4184.000000</td>\n",
       "      <td>4184.000000</td>\n",
       "      <td>...</td>\n",
       "      <td>4184.000000</td>\n",
       "      <td>4184.000000</td>\n",
       "      <td>4184.000000</td>\n",
       "      <td>4184.000000</td>\n",
       "      <td>4184.000000</td>\n",
       "      <td>4184.000000</td>\n",
       "      <td>4184.000000</td>\n",
       "      <td>4184.000000</td>\n",
       "      <td>4184.000000</td>\n",
       "      <td>4184.000000</td>\n",
       "    </tr>\n",
       "    <tr>\n",
       "      <th>mean</th>\n",
       "      <td>1.962715</td>\n",
       "      <td>3.829589</td>\n",
       "      <td>2.846558</td>\n",
       "      <td>3.186902</td>\n",
       "      <td>2.865440</td>\n",
       "      <td>3.672084</td>\n",
       "      <td>3.216539</td>\n",
       "      <td>3.184512</td>\n",
       "      <td>2.761233</td>\n",
       "      <td>3.522945</td>\n",
       "      <td>...</td>\n",
       "      <td>2.610660</td>\n",
       "      <td>3.465344</td>\n",
       "      <td>2.798757</td>\n",
       "      <td>2.569312</td>\n",
       "      <td>2.984226</td>\n",
       "      <td>3.385277</td>\n",
       "      <td>2.704828</td>\n",
       "      <td>2.676386</td>\n",
       "      <td>2.736616</td>\n",
       "      <td>1.190966</td>\n",
       "    </tr>\n",
       "    <tr>\n",
       "      <th>std</th>\n",
       "      <td>1.360291</td>\n",
       "      <td>1.551683</td>\n",
       "      <td>1.664804</td>\n",
       "      <td>1.476879</td>\n",
       "      <td>1.545798</td>\n",
       "      <td>1.342238</td>\n",
       "      <td>1.490733</td>\n",
       "      <td>1.387382</td>\n",
       "      <td>1.511805</td>\n",
       "      <td>1.242890</td>\n",
       "      <td>...</td>\n",
       "      <td>1.409707</td>\n",
       "      <td>1.521460</td>\n",
       "      <td>1.413584</td>\n",
       "      <td>1.621772</td>\n",
       "      <td>1.483752</td>\n",
       "      <td>1.423055</td>\n",
       "      <td>1.544345</td>\n",
       "      <td>1.523097</td>\n",
       "      <td>1.471845</td>\n",
       "      <td>0.495357</td>\n",
       "    </tr>\n",
       "    <tr>\n",
       "      <th>min</th>\n",
       "      <td>0.000000</td>\n",
       "      <td>0.000000</td>\n",
       "      <td>0.000000</td>\n",
       "      <td>0.000000</td>\n",
       "      <td>0.000000</td>\n",
       "      <td>0.000000</td>\n",
       "      <td>0.000000</td>\n",
       "      <td>0.000000</td>\n",
       "      <td>0.000000</td>\n",
       "      <td>0.000000</td>\n",
       "      <td>...</td>\n",
       "      <td>0.000000</td>\n",
       "      <td>0.000000</td>\n",
       "      <td>0.000000</td>\n",
       "      <td>0.000000</td>\n",
       "      <td>0.000000</td>\n",
       "      <td>0.000000</td>\n",
       "      <td>0.000000</td>\n",
       "      <td>0.000000</td>\n",
       "      <td>0.000000</td>\n",
       "      <td>0.000000</td>\n",
       "    </tr>\n",
       "    <tr>\n",
       "      <th>25%</th>\n",
       "      <td>1.000000</td>\n",
       "      <td>3.000000</td>\n",
       "      <td>1.000000</td>\n",
       "      <td>2.000000</td>\n",
       "      <td>1.000000</td>\n",
       "      <td>3.000000</td>\n",
       "      <td>2.000000</td>\n",
       "      <td>2.000000</td>\n",
       "      <td>1.000000</td>\n",
       "      <td>3.000000</td>\n",
       "      <td>...</td>\n",
       "      <td>1.000000</td>\n",
       "      <td>2.000000</td>\n",
       "      <td>1.000000</td>\n",
       "      <td>1.000000</td>\n",
       "      <td>2.000000</td>\n",
       "      <td>2.000000</td>\n",
       "      <td>1.000000</td>\n",
       "      <td>1.000000</td>\n",
       "      <td>1.000000</td>\n",
       "      <td>1.000000</td>\n",
       "    </tr>\n",
       "    <tr>\n",
       "      <th>50%</th>\n",
       "      <td>1.000000</td>\n",
       "      <td>5.000000</td>\n",
       "      <td>3.000000</td>\n",
       "      <td>3.000000</td>\n",
       "      <td>3.000000</td>\n",
       "      <td>4.000000</td>\n",
       "      <td>3.000000</td>\n",
       "      <td>3.000000</td>\n",
       "      <td>3.000000</td>\n",
       "      <td>4.000000</td>\n",
       "      <td>...</td>\n",
       "      <td>2.000000</td>\n",
       "      <td>4.000000</td>\n",
       "      <td>3.000000</td>\n",
       "      <td>2.000000</td>\n",
       "      <td>3.000000</td>\n",
       "      <td>4.000000</td>\n",
       "      <td>3.000000</td>\n",
       "      <td>3.000000</td>\n",
       "      <td>3.000000</td>\n",
       "      <td>1.000000</td>\n",
       "    </tr>\n",
       "    <tr>\n",
       "      <th>75%</th>\n",
       "      <td>3.000000</td>\n",
       "      <td>5.000000</td>\n",
       "      <td>5.000000</td>\n",
       "      <td>5.000000</td>\n",
       "      <td>4.000000</td>\n",
       "      <td>5.000000</td>\n",
       "      <td>5.000000</td>\n",
       "      <td>4.000000</td>\n",
       "      <td>4.000000</td>\n",
       "      <td>5.000000</td>\n",
       "      <td>...</td>\n",
       "      <td>4.000000</td>\n",
       "      <td>5.000000</td>\n",
       "      <td>4.000000</td>\n",
       "      <td>4.000000</td>\n",
       "      <td>4.000000</td>\n",
       "      <td>5.000000</td>\n",
       "      <td>4.000000</td>\n",
       "      <td>4.000000</td>\n",
       "      <td>4.000000</td>\n",
       "      <td>1.000000</td>\n",
       "    </tr>\n",
       "    <tr>\n",
       "      <th>max</th>\n",
       "      <td>5.000000</td>\n",
       "      <td>5.000000</td>\n",
       "      <td>5.000000</td>\n",
       "      <td>5.000000</td>\n",
       "      <td>5.000000</td>\n",
       "      <td>5.000000</td>\n",
       "      <td>5.000000</td>\n",
       "      <td>5.000000</td>\n",
       "      <td>5.000000</td>\n",
       "      <td>5.000000</td>\n",
       "      <td>...</td>\n",
       "      <td>5.000000</td>\n",
       "      <td>5.000000</td>\n",
       "      <td>5.000000</td>\n",
       "      <td>5.000000</td>\n",
       "      <td>5.000000</td>\n",
       "      <td>5.000000</td>\n",
       "      <td>5.000000</td>\n",
       "      <td>5.000000</td>\n",
       "      <td>5.000000</td>\n",
       "      <td>3.000000</td>\n",
       "    </tr>\n",
       "  </tbody>\n",
       "</table>\n",
       "<p>8 rows × 45 columns</p>\n",
       "</div>"
      ],
      "text/plain": [
       "                Q1           Q2           Q3           Q4           Q5  \\\n",
       "count  4184.000000  4184.000000  4184.000000  4184.000000  4184.000000   \n",
       "mean      1.962715     3.829589     2.846558     3.186902     2.865440   \n",
       "std       1.360291     1.551683     1.664804     1.476879     1.545798   \n",
       "min       0.000000     0.000000     0.000000     0.000000     0.000000   \n",
       "25%       1.000000     3.000000     1.000000     2.000000     1.000000   \n",
       "50%       1.000000     5.000000     3.000000     3.000000     3.000000   \n",
       "75%       3.000000     5.000000     5.000000     5.000000     4.000000   \n",
       "max       5.000000     5.000000     5.000000     5.000000     5.000000   \n",
       "\n",
       "                Q6           Q7           Q8           Q9          Q10  ...  \\\n",
       "count  4184.000000  4184.000000  4184.000000  4184.000000  4184.000000  ...   \n",
       "mean      3.672084     3.216539     3.184512     2.761233     3.522945  ...   \n",
       "std       1.342238     1.490733     1.387382     1.511805     1.242890  ...   \n",
       "min       0.000000     0.000000     0.000000     0.000000     0.000000  ...   \n",
       "25%       3.000000     2.000000     2.000000     1.000000     3.000000  ...   \n",
       "50%       4.000000     3.000000     3.000000     3.000000     4.000000  ...   \n",
       "75%       5.000000     5.000000     4.000000     4.000000     5.000000  ...   \n",
       "max       5.000000     5.000000     5.000000     5.000000     5.000000  ...   \n",
       "\n",
       "               Q36          Q37          Q38          Q39          Q40  \\\n",
       "count  4184.000000  4184.000000  4184.000000  4184.000000  4184.000000   \n",
       "mean      2.610660     3.465344     2.798757     2.569312     2.984226   \n",
       "std       1.409707     1.521460     1.413584     1.621772     1.483752   \n",
       "min       0.000000     0.000000     0.000000     0.000000     0.000000   \n",
       "25%       1.000000     2.000000     1.000000     1.000000     2.000000   \n",
       "50%       2.000000     4.000000     3.000000     2.000000     3.000000   \n",
       "75%       4.000000     5.000000     4.000000     4.000000     4.000000   \n",
       "max       5.000000     5.000000     5.000000     5.000000     5.000000   \n",
       "\n",
       "               Q41          Q42          Q43          Q44         hand  \n",
       "count  4184.000000  4184.000000  4184.000000  4184.000000  4184.000000  \n",
       "mean      3.385277     2.704828     2.676386     2.736616     1.190966  \n",
       "std       1.423055     1.544345     1.523097     1.471845     0.495357  \n",
       "min       0.000000     0.000000     0.000000     0.000000     0.000000  \n",
       "25%       2.000000     1.000000     1.000000     1.000000     1.000000  \n",
       "50%       4.000000     3.000000     3.000000     3.000000     1.000000  \n",
       "75%       5.000000     4.000000     4.000000     4.000000     1.000000  \n",
       "max       5.000000     5.000000     5.000000     5.000000     3.000000  \n",
       "\n",
       "[8 rows x 45 columns]"
      ]
     },
     "execution_count": 10,
     "metadata": {},
     "output_type": "execute_result"
    }
   ],
   "source": [
    "# Check an overview of data\n",
    "# Q1-Q44 have values in the range (0-5)\n",
    "# target label(hand) has values in the range (0-3)\n",
    "df.describe()"
   ]
  },
  {
   "cell_type": "code",
   "execution_count": 11,
   "id": "0d50cf8d",
   "metadata": {},
   "outputs": [
    {
     "data": {
      "image/png": "[encoded data removed]",
      "text/plain": [
       "<Figure size 1080x720 with 2 Axes>"
      ]
     },
     "metadata": {
      "needs_background": "light"
     },
     "output_type": "display_data"
    }
   ],
   "source": [
    "# Creating heatmap of left-handedness \n",
    "plt.figure(figsize=(15,10))\n",
    "corr = df[df['hand'] == 2].corr().sort_values('hand', ascending=False)\n",
    "matrix = np.triu(corr)\n",
    "sns.heatmap(corr, annot = False, cmap = 'RdBu',\n",
    "            mask=matrix, vmin=-1, vmax=1)\n",
    "plt.title(label='Correlation of Columns to left-handedness', fontsize=20);"
   ]
  },
  {
   "cell_type": "code",
   "execution_count": 12,
   "id": "639974e0",
   "metadata": {},
   "outputs": [
    {
     "data": {
      "text/html": [
       "<div>\n",
       "<style scoped>\n",
       "    .dataframe tbody tr th:only-of-type {\n",
       "        vertical-align: middle;\n",
       "    }\n",
       "\n",
       "    .dataframe tbody tr th {\n",
       "        vertical-align: top;\n",
       "    }\n",
       "\n",
       "    .dataframe thead th {\n",
       "        text-align: right;\n",
       "    }\n",
       "</style>\n",
       "<table border=\"1\" class=\"dataframe\">\n",
       "  <thead>\n",
       "    <tr style=\"text-align: right;\">\n",
       "      <th></th>\n",
       "      <th>hand</th>\n",
       "      <th>Q27</th>\n",
       "      <th>Q43</th>\n",
       "    </tr>\n",
       "  </thead>\n",
       "  <tbody>\n",
       "    <tr>\n",
       "      <th>0</th>\n",
       "      <td>3</td>\n",
       "      <td>5</td>\n",
       "      <td>5</td>\n",
       "    </tr>\n",
       "    <tr>\n",
       "      <th>1</th>\n",
       "      <td>1</td>\n",
       "      <td>1</td>\n",
       "      <td>4</td>\n",
       "    </tr>\n",
       "    <tr>\n",
       "      <th>2</th>\n",
       "      <td>2</td>\n",
       "      <td>2</td>\n",
       "      <td>2</td>\n",
       "    </tr>\n",
       "    <tr>\n",
       "      <th>3</th>\n",
       "      <td>2</td>\n",
       "      <td>1</td>\n",
       "      <td>1</td>\n",
       "    </tr>\n",
       "    <tr>\n",
       "      <th>4</th>\n",
       "      <td>3</td>\n",
       "      <td>5</td>\n",
       "      <td>5</td>\n",
       "    </tr>\n",
       "  </tbody>\n",
       "</table>\n",
       "</div>"
      ],
      "text/plain": [
       "   hand  Q27  Q43\n",
       "0     3    5    5\n",
       "1     1    1    4\n",
       "2     2    2    2\n",
       "3     2    1    1\n",
       "4     3    5    5"
      ]
     },
     "execution_count": 12,
     "metadata": {},
     "output_type": "execute_result"
    }
   ],
   "source": [
    "# Q27 and 43 were like duplicates\n",
    "# Different, keep both columns\n",
    "df[['hand', 'Q27', 'Q43']].head()"
   ]
  },
  {
   "cell_type": "markdown",
   "id": "bb26e657",
   "metadata": {},
   "source": [
    "### Calculate and interpret the baseline accuracy rate:"
   ]
  },
  {
   "cell_type": "code",
   "execution_count": 13,
   "id": "1dae4625",
   "metadata": {},
   "outputs": [
    {
     "data": {
      "text/plain": [
       "1    3542\n",
       "2     452\n",
       "3     179\n",
       "0      11\n",
       "Name: hand, dtype: int64"
      ]
     },
     "execution_count": 13,
     "metadata": {},
     "output_type": "execute_result"
    }
   ],
   "source": [
    "# Check options for hand is 1=Right, 2=Left, 3=Both , 0 None answer\n",
    "df[\"hand\"].value_counts()"
   ]
  },
  {
   "cell_type": "code",
   "execution_count": 14,
   "id": "4f55ea78",
   "metadata": {},
   "outputs": [
    {
     "data": {
      "text/plain": [
       "1    84.655832\n",
       "2    10.803059\n",
       "3     4.278203\n",
       "0     0.262906\n",
       "Name: hand, dtype: float64"
      ]
     },
     "execution_count": 14,
     "metadata": {},
     "output_type": "execute_result"
    }
   ],
   "source": [
    "# Option for hand = 0 (not to use it for analysis)\n",
    "# Because small % of values and we're clear on what 0 means but we think it's likely a missing value stand-in.\n",
    "# Option for hand = 3(Both) (not to use it for analysis)\n",
    "# Because we're not clear on what 3 means usually they use their left or right hand.\n",
    "# And If we interpret it as using the left hand and bringing it together.\n",
    "# ratio compared to the normal use of the left hand is quite large.\n",
    "df['hand'].value_counts(normalize=True)*100"
   ]
  },
  {
   "cell_type": "code",
   "execution_count": 15,
   "id": "89ecc3c6",
   "metadata": {},
   "outputs": [],
   "source": [
    "# Create new columns keep only is left-handedness\n",
    "# Ignore options 0 and 3 \n",
    "df[\"left_handed\"] = df[\"hand\"].map({1:0, 2:1})"
   ]
  },
  {
   "cell_type": "code",
   "execution_count": 16,
   "id": "22ceffca",
   "metadata": {},
   "outputs": [
    {
     "data": {
      "text/plain": [
       "190"
      ]
     },
     "execution_count": 16,
     "metadata": {},
     "output_type": "execute_result"
    }
   ],
   "source": [
    "# Check rows have NaN \n",
    "df[\"left_handed\"].isnull().sum()"
   ]
  },
  {
   "cell_type": "code",
   "execution_count": 17,
   "id": "09e747d0",
   "metadata": {},
   "outputs": [],
   "source": [
    "# Drop row have missing values\n",
    "df.dropna(inplace=True)"
   ]
  },
  {
   "cell_type": "code",
   "execution_count": 18,
   "id": "1b15a3e2",
   "metadata": {},
   "outputs": [
    {
     "data": {
      "text/plain": [
       "0.0    3542\n",
       "1.0     452\n",
       "Name: left_handed, dtype: int64"
      ]
     },
     "execution_count": 18,
     "metadata": {},
     "output_type": "execute_result"
    }
   ],
   "source": [
    "# Recheck\n",
    "df[\"left_handed\"].value_counts()"
   ]
  },
  {
   "cell_type": "code",
   "execution_count": 19,
   "id": "49cafa81",
   "metadata": {},
   "outputs": [
    {
     "name": "stdout",
     "output_type": "stream",
     "text": [
      "Baseline Accuracy Rate : 11.317\n"
     ]
    }
   ],
   "source": [
    "print(f'''Baseline Accuracy Rate : {round(df[\"left_handed\"].mean()*100,4)}''')"
   ]
  },
  {
   "cell_type": "markdown",
   "id": "2016bb4e",
   "metadata": {},
   "source": [
    "### Short answer questions:\n",
    "\n",
    "In this lab you'll use K-nearest neighbors and logistic regression to model handedness based off of psychological factors. Answer the following related questions; your answers may be in bullet points.\n",
    "\n",
    "#### Describe the difference between regression and classification problems:"
   ]
  },
  {
   "cell_type": "markdown",
   "id": "5dd02daf",
   "metadata": {},
   "source": [
    "- Regression predicts continuous `numeric target values`.\n",
    "\n",
    "- Classification predicts the `discrete or categories`(binary/class)"
   ]
  },
  {
   "cell_type": "markdown",
   "id": "b7469aee",
   "metadata": {},
   "source": [
    "#### Considering $k$-nearest neighbors, describe the relationship between $k$ and the bias-variance tradeoff:"
   ]
  },
  {
   "cell_type": "code",
   "execution_count": 20,
   "id": "8635a8aa",
   "metadata": {},
   "outputs": [],
   "source": [
    "# high bias -> underfitting\n",
    "# high variance -> overfitting\n",
    "\n",
    "# k is the number of neighbors that help kNN identify which class label\n",
    "# a data point would belong in\n",
    "\n",
    "# The relationship between k and bias-variance tradeoff is \n",
    "# the smaller k would result in low bias and high variance (overfitted).\n",
    "# the larger k would result in high bias and low variance (underfitted).\n",
    "# we need to adjust number of k to optimal number -> \"the sweet spot\""
   ]
  },
  {
   "cell_type": "markdown",
   "id": "7bdc66d6",
   "metadata": {},
   "source": [
    "#### Why do we often standardize predictor variables when using $k$-nearest neighbors?"
   ]
  },
  {
   "cell_type": "code",
   "execution_count": 21,
   "id": "23f3ac90",
   "metadata": {},
   "outputs": [],
   "source": [
    "# predictor variables -> features or X\n",
    "# kNN is distance based algorithm and scale/magnitude of features\n",
    "# impacts performance and output.\n",
    "\n",
    "# Standardization (StandardScaler) ->\n",
    "# rescale values in the features columns to have\n",
    "# each column possess a mean of zero and std of 1."
   ]
  },
  {
   "cell_type": "markdown",
   "id": "4ad52536",
   "metadata": {},
   "source": [
    "#### Do you think we should standardize the explanatory variables for this problem? Why or why not?"
   ]
  },
  {
   "cell_type": "code",
   "execution_count": 22,
   "id": "c9e4207f",
   "metadata": {},
   "outputs": [],
   "source": [
    "# explanatory variables -> features or X\n",
    "\n",
    "# Possibly not because the explanatory variables are \n",
    "# already in the same unit/scale of 1 to 5. \n",
    "\n",
    "# We need to scale if the units are different."
   ]
  },
  {
   "cell_type": "markdown",
   "id": "1cf6e09f",
   "metadata": {},
   "source": [
    "#### How do we settle on $k$ for a $k$-nearest neighbors model?"
   ]
  },
  {
   "cell_type": "code",
   "execution_count": 23,
   "id": "807c7a3a",
   "metadata": {},
   "outputs": [],
   "source": [
    "# Options\n",
    "\n",
    "# 1. Use the default\n",
    "# 2. Guess\n",
    "# 3. Loop/iterate through a range of k options and select the \n",
    "# optimal one based on score(Elbow method)\n",
    "\n",
    "# We find the optimal k by iterate over number of k to find the \n",
    "# low bias and variance using cross validation techniques."
   ]
  },
  {
   "cell_type": "markdown",
   "id": "958fe4a8",
   "metadata": {},
   "source": [
    "#### What is the default type of regularization for logistic regression as implemented in scikit-learn? (You might [check the documentation](https://scikit-learn.org/stable/modules/generated/sklearn.linear_model.LogisticRegression.html).)"
   ]
  },
  {
   "cell_type": "code",
   "execution_count": 24,
   "id": "54825e91",
   "metadata": {},
   "outputs": [],
   "source": [
    "# L2 or Ridge is the default regularization for logistic regression."
   ]
  },
  {
   "cell_type": "markdown",
   "id": "f4b117e3",
   "metadata": {},
   "source": [
    "#### Describe the relationship between the scikit-learn `LogisticRegression` argument `C` and regularization strength:"
   ]
  },
  {
   "cell_type": "code",
   "execution_count": 25,
   "id": "d0bece7f",
   "metadata": {},
   "outputs": [],
   "source": [
    "# Logistic Regression \n",
    "# Argument C is inverse relationship with regularization strength.\n",
    "# The smaller values specify stronger regularization.\n",
    "\n",
    "# C = 1/ alpha\n",
    "# alpha = 1 -> C = 1\n",
    "# alpha = 0.1 -> C = 10\n",
    "\n",
    "# What does a higher C mean? Less regularization\n",
    "# What does a lower C mean? MORE regularizationn"
   ]
  },
  {
   "cell_type": "markdown",
   "id": "4f19a574",
   "metadata": {},
   "source": [
    "#### Describe the relationship between regularization strength and the bias-variance tradeoff:"
   ]
  },
  {
   "cell_type": "code",
   "execution_count": 26,
   "id": "be98faa0",
   "metadata": {},
   "outputs": [],
   "source": [
    "# Why and when do we regularize?\n",
    "\n",
    "# Why? Avoid error due to high variance (overfitting)\n",
    "# When? High model complexity which is causing overfitting.\n",
    "\n",
    "# C is high --> less regularization -> more prone to overfitting\n",
    "# C is low --> MORE regularization -> less prone to overfitting and \n",
    "# if overdone, can lead to underfitting.\n",
    "\n",
    "\n",
    "# Regularization strength have positive relationship with bias.\n",
    "# Regularization strength have inverse relationship with variance.\n",
    "\n",
    "# Zero to low regularization strength tends to have low bias and high variance.\n",
    "# High regularization strength tends to have high bias and low variance.\n",
    "\n",
    "# Moderate regularization strength tends to have the best result"
   ]
  },
  {
   "cell_type": "code",
   "execution_count": 27,
   "id": "221547f5",
   "metadata": {},
   "outputs": [],
   "source": [
    "# Don't regularize unless you need to.\n",
    "# Turn penalty off."
   ]
  },
  {
   "cell_type": "markdown",
   "id": "7089674d",
   "metadata": {},
   "source": [
    "#### Logistic regression is considered more interpretable than $k$-nearest neighbors. Explain why."
   ]
  },
  {
   "cell_type": "code",
   "execution_count": 28,
   "id": "89b16e1d",
   "metadata": {},
   "outputs": [],
   "source": [
    "# Interpretable?\n",
    "# Logistic regression have coefficients (statistical parameter) a.k.a. betas\n",
    "# which can be used for explaination of the impacts of the factors while\n",
    "# kNN is non-parametric and has no coefficients or statistical parameters.\n",
    "\n",
    "# Explainable to non-technical individual?\n",
    "# Conceptually, kNN isn't too hard to explain to a wide audience.\n",
    "\n",
    "# Explaining relationships in a meaningful and actionable way?\n",
    "# kNN fails and LogReg is better."
   ]
  },
  {
   "cell_type": "markdown",
   "id": "00360fc0",
   "metadata": {},
   "source": [
    "---\n",
    "\n",
    "## Step 4 & 5 Modeling: $k$-nearest neighbors\n",
    "\n",
    "### Train-test split your data:\n",
    "\n",
    "Your explanatory variables should be  "
   ]
  },
  {
   "cell_type": "code",
   "execution_count": 30,
   "id": "d66495f6",
   "metadata": {},
   "outputs": [],
   "source": [
    "# Make variables of model\n",
    "X = df.drop(columns=['hand','left_handed'])\n",
    "y = df['left_handed']"
   ]
  },
  {
   "cell_type": "code",
   "execution_count": 31,
   "id": "7239cca8",
   "metadata": {},
   "outputs": [],
   "source": [
    "# Train/test splitting the data\n",
    "X_train, X_test, y_train, y_test = train_test_split(X, y, \n",
    "                                                    stratify= y,\n",
    "                                                    random_state=42)\n",
    "# We might want to stratify anyways \n",
    "# Due to imbalance class could magnify the difference."
   ]
  },
  {
   "cell_type": "code",
   "execution_count": 32,
   "id": "c3034846",
   "metadata": {},
   "outputs": [
    {
     "name": "stdout",
     "output_type": "stream",
     "text": [
      "0.0    88.681135\n",
      "1.0    11.318865\n",
      "Name: left_handed, dtype: float64\n",
      "0.0    88.688689\n",
      "1.0    11.311311\n",
      "Name: left_handed, dtype: float64\n"
     ]
    }
   ],
   "source": [
    "# Checking the distribution of class labels in y_train\n",
    "# and y_test to see if we want to stratify when splitting the data \n",
    "# Classification problem \n",
    "print(y_train.value_counts(normalize=True)*100)\n",
    "print(y_test.value_counts(normalize=True)*100)"
   ]
  },
  {
   "cell_type": "code",
   "execution_count": 33,
   "id": "4c0dabbd",
   "metadata": {},
   "outputs": [
    {
     "data": {
      "text/plain": [
       "((2995, 44), (999, 44), (2995,), (999,))"
      ]
     },
     "execution_count": 33,
     "metadata": {},
     "output_type": "execute_result"
    }
   ],
   "source": [
    "X_train.shape, X_test.shape, y_train.shape, y_test.shape "
   ]
  },
  {
   "cell_type": "markdown",
   "id": "772f7e27",
   "metadata": {},
   "source": [
    "#### Create and fit four separate $k$-nearest neighbors models: one with $k = 3$, one with $k = 5$, one with $k = 15$, and one with $k = 25$:"
   ]
  },
  {
   "cell_type": "code",
   "execution_count": 34,
   "id": "96ecbd04",
   "metadata": {},
   "outputs": [],
   "source": [
    "# Instantiate the model\n",
    "k_scores = pd.DataFrame(columns=[\"k\",\"train_score\",\"test_score\",\"preds_one\"])\n",
    "\n",
    "# Loop through k's to create \n",
    "for n,k in enumerate([3,5,15,25]):\n",
    "    knn = KNeighborsClassifier(n_neighbors=k)\n",
    "    knn.fit(X_train, y_train)\n",
    "    y_preds = knn.predict(X_test)\n",
    "    minority_class_preds = y_preds == 1\n",
    "    preds_one = pd.Series(minority_class_preds).sum()\n",
    "    train_score = knn.score(X_train, y_train)\n",
    "    test_score = knn.score(X_test, y_test)\n",
    "    k_scores.loc[n] = [k, train_score, test_score,preds_one]"
   ]
  },
  {
   "cell_type": "code",
   "execution_count": 35,
   "id": "cda5b2b1",
   "metadata": {},
   "outputs": [
    {
     "data": {
      "text/html": [
       "<div>\n",
       "<style scoped>\n",
       "    .dataframe tbody tr th:only-of-type {\n",
       "        vertical-align: middle;\n",
       "    }\n",
       "\n",
       "    .dataframe tbody tr th {\n",
       "        vertical-align: top;\n",
       "    }\n",
       "\n",
       "    .dataframe thead th {\n",
       "        text-align: right;\n",
       "    }\n",
       "</style>\n",
       "<table border=\"1\" class=\"dataframe\">\n",
       "  <thead>\n",
       "    <tr style=\"text-align: right;\">\n",
       "      <th></th>\n",
       "      <th>k</th>\n",
       "      <th>train_score</th>\n",
       "      <th>test_score</th>\n",
       "      <th>preds_one</th>\n",
       "    </tr>\n",
       "  </thead>\n",
       "  <tbody>\n",
       "    <tr>\n",
       "      <th>0</th>\n",
       "      <td>3.0</td>\n",
       "      <td>0.900167</td>\n",
       "      <td>0.857858</td>\n",
       "      <td>43.0</td>\n",
       "    </tr>\n",
       "    <tr>\n",
       "      <th>1</th>\n",
       "      <td>5.0</td>\n",
       "      <td>0.890484</td>\n",
       "      <td>0.888889</td>\n",
       "      <td>8.0</td>\n",
       "    </tr>\n",
       "    <tr>\n",
       "      <th>2</th>\n",
       "      <td>15.0</td>\n",
       "      <td>0.886811</td>\n",
       "      <td>0.886887</td>\n",
       "      <td>0.0</td>\n",
       "    </tr>\n",
       "    <tr>\n",
       "      <th>3</th>\n",
       "      <td>25.0</td>\n",
       "      <td>0.886811</td>\n",
       "      <td>0.886887</td>\n",
       "      <td>0.0</td>\n",
       "    </tr>\n",
       "  </tbody>\n",
       "</table>\n",
       "</div>"
      ],
      "text/plain": [
       "      k  train_score  test_score  preds_one\n",
       "0   3.0     0.900167    0.857858       43.0\n",
       "1   5.0     0.890484    0.888889        8.0\n",
       "2  15.0     0.886811    0.886887        0.0\n",
       "3  25.0     0.886811    0.886887        0.0"
      ]
     },
     "execution_count": 35,
     "metadata": {},
     "output_type": "execute_result"
    }
   ],
   "source": [
    "# Checking scores of each k neighbors -\n",
    "# Accuracy in this classification case\n",
    "k_scores"
   ]
  },
  {
   "cell_type": "code",
   "execution_count": 38,
   "id": "a243c674",
   "metadata": {},
   "outputs": [],
   "source": [
    "# As if the model would predicts 0(right handness)\n",
    "# Remodel with selected k=3(can predict 1 left handness)\n",
    "# For used in confusion_matrix\n",
    "knn = KNeighborsClassifier(n_neighbors=3)\n",
    "knn.fit(X_train,y_train)\n",
    "y_preds = knn.predict(X_test)"
   ]
  },
  {
   "cell_type": "code",
   "execution_count": 41,
   "id": "7315653a",
   "metadata": {},
   "outputs": [
    {
     "data": {
      "image/png": "[encoded data removed]",
      "text/plain": [
       "<Figure size 432x288 with 2 Axes>"
      ]
     },
     "metadata": {
      "needs_background": "light"
     },
     "output_type": "display_data"
    }
   ],
   "source": [
    "# Create confusion matrix\n",
    "cm = confusion_matrix(y_test, y_preds)\n",
    "ConfusionMatrixDisplay(confusion_matrix=cm, display_labels=knn.classes_).plot();"
   ]
  },
  {
   "cell_type": "code",
   "execution_count": 50,
   "id": "b40faf91",
   "metadata": {},
   "outputs": [],
   "source": [
    "# Even if model can predict but a lot of false positive \n",
    "# Model is bad to predict "
   ]
  },
  {
   "cell_type": "markdown",
   "id": "6ea6f202",
   "metadata": {},
   "source": [
    "### Evaluate your models:\n",
    "\n",
    "Evaluate each of your four models on the training and testing sets, and interpret the four scores. Are any of your models overfit or underfit? Do any of your models beat the baseline accuracy rate?"
   ]
  },
  {
   "cell_type": "code",
   "execution_count": 51,
   "id": "73285d11",
   "metadata": {},
   "outputs": [],
   "source": [
    "# Any of our kNN models overfit? No\n",
    "# Any of our kNN models underfit? Not necessarily, but \n",
    "# the higher k test scores are the baseline accuracy\n",
    "# Appears good on majority, bad on minority class\n",
    "\n",
    "# The challenge here is not so much the algorithm or the # of k\n",
    "# but the imbalanced class split along with a tenuous likely\n",
    "# relationship between X and y"
   ]
  },
  {
   "cell_type": "code",
   "execution_count": 52,
   "id": "c04e59b7",
   "metadata": {},
   "outputs": [
    {
     "data": {
      "text/plain": [
       "88.6830245368052"
      ]
     },
     "execution_count": 52,
     "metadata": {},
     "output_type": "execute_result"
    }
   ],
   "source": [
    "# The baseline accuracy\n",
    "# If the algorithm just selected the majority for each of its\n",
    "# prediction of y\n",
    "# Algorithmic equivalent --> DummyClassifer set to `most_frequent`\n",
    "y.value_counts(normalize=True).mul(100)[0]"
   ]
  },
  {
   "cell_type": "code",
   "execution_count": 53,
   "id": "be020aa9",
   "metadata": {},
   "outputs": [
    {
     "data": {
      "text/plain": [
       "88.68868868868869"
      ]
     },
     "execution_count": 53,
     "metadata": {},
     "output_type": "execute_result"
    }
   ],
   "source": [
    "y_test.value_counts(normalize=True).mul(100)[0]"
   ]
  },
  {
   "cell_type": "code",
   "execution_count": 54,
   "id": "9d6e1bd4",
   "metadata": {},
   "outputs": [],
   "source": [
    "# Options\n",
    "\n",
    "# Addressing the class label imbalance \n",
    "# (switching k at 90/10 split made no significant difference \n",
    "# in models preditive accuracy)\n",
    "\n",
    "# Find more left-handed people to survey.\n",
    "\n",
    "# Oversampling the minority class.\n",
    "\n",
    "# Undersampling the majority class.\n",
    "\n",
    "# A bit of both (SMOTE) --> Synthetic Minority Over-Sampling Technique.\n",
    "\n",
    "# Algorithmically increase the number of your cases \n",
    "# in your dataset in a more balanced way."
   ]
  },
  {
   "cell_type": "markdown",
   "id": "8488dc25",
   "metadata": {},
   "source": [
    "---\n",
    "\n",
    "## Step 4 & 5 Modeling: logistic regression\n",
    "\n",
    "#### Create and fit four separate logistic regression models: one with LASSO and $\\alpha = 1$, one with LASSO and $\\alpha = 10$, one with Ridge and $\\alpha = 1$, and one with Ridge and $\\alpha = 10$. *(Hint: Be careful with how you specify $\\alpha$ in your model!)*\n",
    "\n",
    "Note: You can use the same train and test data as above."
   ]
  },
  {
   "cell_type": "code",
   "execution_count": 59,
   "id": "9e013c09",
   "metadata": {},
   "outputs": [],
   "source": [
    "# Instantiate the model\n",
    "logreg_scores = pd.DataFrame(columns=[\"penalty\",\"alpha\",\"train_score\",\"test_score\",\"preds_one\"])\n",
    "\n",
    "# Loop through hyperparameter to create \n",
    "n = 0\n",
    "for p in (['l1','l2']):\n",
    "    for a in (1,10):\n",
    "        logreg = LogisticRegression(penalty=p, C=1/a, solver= \"liblinear\")\n",
    "        logreg.fit(X_train, y_train)\n",
    "        y_preds = logreg.predict(X_test)\n",
    "        minority_class_preds = y_preds == 1\n",
    "        preds_one = pd.Series(minority_class_preds).sum()\n",
    "        train_score = logreg.score(X_train, y_train)\n",
    "        test_score = logreg.score(X_test, y_test)\n",
    "        logreg_scores.loc[n] = [p, a, train_score, test_score, preds_one]\n",
    "        n += 1"
   ]
  },
  {
   "cell_type": "code",
   "execution_count": 60,
   "id": "f5a9a27d",
   "metadata": {},
   "outputs": [
    {
     "data": {
      "text/html": [
       "<div>\n",
       "<style scoped>\n",
       "    .dataframe tbody tr th:only-of-type {\n",
       "        vertical-align: middle;\n",
       "    }\n",
       "\n",
       "    .dataframe tbody tr th {\n",
       "        vertical-align: top;\n",
       "    }\n",
       "\n",
       "    .dataframe thead th {\n",
       "        text-align: right;\n",
       "    }\n",
       "</style>\n",
       "<table border=\"1\" class=\"dataframe\">\n",
       "  <thead>\n",
       "    <tr style=\"text-align: right;\">\n",
       "      <th></th>\n",
       "      <th>penalty</th>\n",
       "      <th>alpha</th>\n",
       "      <th>train_score</th>\n",
       "      <th>test_score</th>\n",
       "      <th>preds_one</th>\n",
       "    </tr>\n",
       "  </thead>\n",
       "  <tbody>\n",
       "    <tr>\n",
       "      <th>0</th>\n",
       "      <td>l1</td>\n",
       "      <td>1</td>\n",
       "      <td>0.886811</td>\n",
       "      <td>0.886887</td>\n",
       "      <td>0</td>\n",
       "    </tr>\n",
       "    <tr>\n",
       "      <th>1</th>\n",
       "      <td>l1</td>\n",
       "      <td>10</td>\n",
       "      <td>0.887145</td>\n",
       "      <td>0.886887</td>\n",
       "      <td>0</td>\n",
       "    </tr>\n",
       "    <tr>\n",
       "      <th>2</th>\n",
       "      <td>l2</td>\n",
       "      <td>1</td>\n",
       "      <td>0.886811</td>\n",
       "      <td>0.886887</td>\n",
       "      <td>0</td>\n",
       "    </tr>\n",
       "    <tr>\n",
       "      <th>3</th>\n",
       "      <td>l2</td>\n",
       "      <td>10</td>\n",
       "      <td>0.886811</td>\n",
       "      <td>0.886887</td>\n",
       "      <td>0</td>\n",
       "    </tr>\n",
       "  </tbody>\n",
       "</table>\n",
       "</div>"
      ],
      "text/plain": [
       "  penalty  alpha  train_score  test_score  preds_one\n",
       "0      l1      1     0.886811    0.886887          0\n",
       "1      l1     10     0.887145    0.886887          0\n",
       "2      l2      1     0.886811    0.886887          0\n",
       "3      l2     10     0.886811    0.886887          0"
      ]
     },
     "execution_count": 60,
     "metadata": {},
     "output_type": "execute_result"
    }
   ],
   "source": [
    "# Checking scores of each hyperparameter \n",
    "logreg_scores"
   ]
  },
  {
   "cell_type": "markdown",
   "id": "703eecea",
   "metadata": {},
   "source": [
    "### Evaluate your models:\n",
    "\n",
    "Evaluate each of your four models on the training and testing sets, and interpret the four scores. Are any of your models overfit or underfit? Do any of your models beat the baseline accuracy rate?"
   ]
  },
  {
   "cell_type": "markdown",
   "id": "dccf4059",
   "metadata": {},
   "source": [
    "- Any of our logreg models overfit? No\n",
    "- Any of our logreg models underfit? Not necessarily, but all model appears bad on minority class\n",
    "- None of the models is better than the baseline model."
   ]
  },
  {
   "cell_type": "markdown",
   "id": "e36a746e",
   "metadata": {},
   "source": [
    "---\n",
    "\n",
    "## Step 6: Answer the problem.\n",
    "\n",
    "Are any of your models worth moving forward with? What are the \"best\" models?"
   ]
  },
  {
   "cell_type": "code",
   "execution_count": 65,
   "id": "1eeac9f0",
   "metadata": {},
   "outputs": [
    {
     "data": {
      "image/png": "[encoded data removed]",
      "text/plain": [
       "<Figure size 432x288 with 2 Axes>"
      ]
     },
     "metadata": {
      "needs_background": "light"
     },
     "output_type": "display_data"
    }
   ],
   "source": [
    "knn3 = KNeighborsClassifier(n_neighbors=3)\n",
    "knn3.fit(X_train,y_train)\n",
    "y_preds_knn3 = knn3.predict(X_test)\n",
    "cm = confusion_matrix(y_test, y_preds_knn3)\n",
    "ConfusionMatrixDisplay(confusion_matrix=cm, display_labels=knn3.classes_).plot();"
   ]
  },
  {
   "cell_type": "code",
   "execution_count": 64,
   "id": "076f08dc",
   "metadata": {},
   "outputs": [
    {
     "data": {
      "image/png": "[encoded data removed]",
      "text/plain": [
       "<Figure size 432x288 with 2 Axes>"
      ]
     },
     "metadata": {
      "needs_background": "light"
     },
     "output_type": "display_data"
    }
   ],
   "source": [
    "knn5 = KNeighborsClassifier(n_neighbors=5)\n",
    "knn5.fit(X_train,y_train)\n",
    "y_preds_knn5 = knn5.predict(X_test)\n",
    "cm = confusion_matrix(y_test, y_preds_knn5)\n",
    "ConfusionMatrixDisplay(confusion_matrix=cm, display_labels=knn5.classes_).plot(tit);"
   ]
  },
  {
   "cell_type": "markdown",
   "id": "6cf493a0",
   "metadata": {},
   "source": [
    "Best model is probably the neighbors models with k at 3 or 5 neighbors number which can predict some minority class and have highest test score but they can not predict more than the baseline of 11.32% by predicting the minority class."
   ]
  }
 ],
 "metadata": {
  "kernelspec": {
   "display_name": "Python 3 (ipykernel)",
   "language": "python",
   "name": "python3"
  },
  "language_info": {
   "codemirror_mode": {
    "name": "ipython",
    "version": 3
   },
   "file_extension": ".py",
   "mimetype": "text/x-python",
   "name": "python",
   "nbconvert_exporter": "python",
   "pygments_lexer": "ipython3",
   "version": "3.9.12"
  }
 },
 "nbformat": 4,
 "nbformat_minor": 5
}
