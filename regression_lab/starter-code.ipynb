{
 "cells": [
  {
   "cell_type": "markdown",
   "metadata": {},
   "source": [
    "<img src=\"http://imgur.com/1ZcRyrc.png\" style=\"float: left; margin: 20px; height: 55px\">\n",
    "\n",
    "# Simple Linear Regression with Sacramento Real Estate Data\n",
    "\n",
    "---\n",
    "\n",
    "In this lab you will hone your exploratory data analysis (EDA) skills and practice constructing linear regressions on a data set of Sacramento real estate sales.  The data set contains information on qualities of the property, location of the property, and time of sale."
   ]
  },
  {
   "cell_type": "code",
   "execution_count": 1,
   "metadata": {},
   "outputs": [],
   "source": [
    "# Imports\n",
    "import pandas as pd\n",
    "import numpy as np\n",
    "import matplotlib.pyplot as plt\n",
    "import seaborn as sns\n",
    "\n",
    "# Cleaning\n",
    "from pandas_profiling import ProfileReport\n",
    "\n",
    "# Statistics\n",
    "from sklearn.linear_model import LinearRegression\n",
    "from sklearn.model_selection import train_test_split\n",
    "from sklearn.model_selection import cross_val_score\n",
    "from sklearn.metrics import mean_squared_error\n",
    "from sklearn.tree import DecisionTreeRegressor\n",
    "from sklearn import metrics\n",
    "from sklearn.dummy import DummyRegressor"
   ]
  },
  {
   "cell_type": "code",
   "execution_count": 3,
   "metadata": {},
   "outputs": [
    {
     "data": {
      "application/vnd.jupyter.widget-view+json": {
       "model_id": "7cfd4a58c13843e8937fc6090807f155",
       "version_major": 2,
       "version_minor": 0
      },
      "text/plain": [
       "Summarize dataset:   0%|          | 0/5 [00:00<?, ?it/s]"
      ]
     },
     "metadata": {},
     "output_type": "display_data"
    },
    {
     "data": {
      "application/vnd.jupyter.widget-view+json": {
       "model_id": "a388a5b689814b209f529fdeec862ff4",
       "version_major": 2,
       "version_minor": 0
      },
      "text/plain": [
       "Generate report structure:   0%|          | 0/1 [00:00<?, ?it/s]"
      ]
     },
     "metadata": {},
     "output_type": "display_data"
    },
    {
     "data": {
      "application/vnd.jupyter.widget-view+json": {
       "model_id": "",
       "version_major": 2,
       "version_minor": 0
      },
      "text/plain": [
       "Render widgets:   0%|          | 0/1 [00:00<?, ?it/s]"
      ]
     },
     "metadata": {},
     "output_type": "display_data"
    },
    {
     "data": {
      "application/vnd.jupyter.widget-view+json": {
       "model_id": "3722c7a2a82142dd93c8dfae4256e1af",
       "version_major": 2,
       "version_minor": 0
      },
      "text/plain": [
       "VBox(children=(Tab(children=(Tab(children=(GridBox(children=(VBox(children=(GridspecLayout(children=(HTML(valu…"
      ]
     },
     "metadata": {},
     "output_type": "display_data"
    }
   ],
   "source": [
    "profile = ProfileReport(df, title=\"Pandas Profiling Report\")\n",
    "profile.to_widgets()"
   ]
  },
  {
   "cell_type": "markdown",
   "metadata": {},
   "source": [
    "### 1. Read in the Sacramento housing data set.\n",
    "\n",
    "The file is stored in the `datasets` subfolder."
   ]
  },
  {
   "cell_type": "code",
   "execution_count": 2,
   "metadata": {},
   "outputs": [],
   "source": [
    "# Read data \n",
    "df = pd.read_csv('./datasets/sacramento_real_estate_transactions.csv')"
   ]
  },
  {
   "cell_type": "code",
   "execution_count": 3,
   "metadata": {},
   "outputs": [
    {
     "data": {
      "text/html": [
       "<div>\n",
       "<style scoped>\n",
       "    .dataframe tbody tr th:only-of-type {\n",
       "        vertical-align: middle;\n",
       "    }\n",
       "\n",
       "    .dataframe tbody tr th {\n",
       "        vertical-align: top;\n",
       "    }\n",
       "\n",
       "    .dataframe thead th {\n",
       "        text-align: right;\n",
       "    }\n",
       "</style>\n",
       "<table border=\"1\" class=\"dataframe\">\n",
       "  <thead>\n",
       "    <tr style=\"text-align: right;\">\n",
       "      <th></th>\n",
       "      <th>street</th>\n",
       "      <th>city</th>\n",
       "      <th>zip</th>\n",
       "      <th>state</th>\n",
       "      <th>beds</th>\n",
       "      <th>baths</th>\n",
       "      <th>sq__ft</th>\n",
       "      <th>type</th>\n",
       "      <th>sale_date</th>\n",
       "      <th>price</th>\n",
       "      <th>latitude</th>\n",
       "      <th>longitude</th>\n",
       "    </tr>\n",
       "  </thead>\n",
       "  <tbody>\n",
       "    <tr>\n",
       "      <th>0</th>\n",
       "      <td>3526 HIGH ST</td>\n",
       "      <td>SACRAMENTO</td>\n",
       "      <td>95838</td>\n",
       "      <td>CA</td>\n",
       "      <td>2</td>\n",
       "      <td>1</td>\n",
       "      <td>836</td>\n",
       "      <td>Residential</td>\n",
       "      <td>Wed May 21 00:00:00 EDT 2008</td>\n",
       "      <td>59222</td>\n",
       "      <td>38.631913</td>\n",
       "      <td>-121.434879</td>\n",
       "    </tr>\n",
       "    <tr>\n",
       "      <th>1</th>\n",
       "      <td>51 OMAHA CT</td>\n",
       "      <td>SACRAMENTO</td>\n",
       "      <td>95823</td>\n",
       "      <td>CA</td>\n",
       "      <td>3</td>\n",
       "      <td>1</td>\n",
       "      <td>1167</td>\n",
       "      <td>Residential</td>\n",
       "      <td>Wed May 21 00:00:00 EDT 2008</td>\n",
       "      <td>68212</td>\n",
       "      <td>38.478902</td>\n",
       "      <td>-121.431028</td>\n",
       "    </tr>\n",
       "    <tr>\n",
       "      <th>2</th>\n",
       "      <td>2796 BRANCH ST</td>\n",
       "      <td>SACRAMENTO</td>\n",
       "      <td>95815</td>\n",
       "      <td>CA</td>\n",
       "      <td>2</td>\n",
       "      <td>1</td>\n",
       "      <td>796</td>\n",
       "      <td>Residential</td>\n",
       "      <td>Wed May 21 00:00:00 EDT 2008</td>\n",
       "      <td>68880</td>\n",
       "      <td>38.618305</td>\n",
       "      <td>-121.443839</td>\n",
       "    </tr>\n",
       "    <tr>\n",
       "      <th>3</th>\n",
       "      <td>2805 JANETTE WAY</td>\n",
       "      <td>SACRAMENTO</td>\n",
       "      <td>95815</td>\n",
       "      <td>CA</td>\n",
       "      <td>2</td>\n",
       "      <td>1</td>\n",
       "      <td>852</td>\n",
       "      <td>Residential</td>\n",
       "      <td>Wed May 21 00:00:00 EDT 2008</td>\n",
       "      <td>69307</td>\n",
       "      <td>38.616835</td>\n",
       "      <td>-121.439146</td>\n",
       "    </tr>\n",
       "    <tr>\n",
       "      <th>4</th>\n",
       "      <td>6001 MCMAHON DR</td>\n",
       "      <td>SACRAMENTO</td>\n",
       "      <td>95824</td>\n",
       "      <td>CA</td>\n",
       "      <td>2</td>\n",
       "      <td>1</td>\n",
       "      <td>797</td>\n",
       "      <td>Residential</td>\n",
       "      <td>Wed May 21 00:00:00 EDT 2008</td>\n",
       "      <td>81900</td>\n",
       "      <td>38.519470</td>\n",
       "      <td>-121.435768</td>\n",
       "    </tr>\n",
       "  </tbody>\n",
       "</table>\n",
       "</div>"
      ],
      "text/plain": [
       "             street        city    zip state  beds  baths  sq__ft  \\\n",
       "0      3526 HIGH ST  SACRAMENTO  95838    CA     2      1     836   \n",
       "1       51 OMAHA CT  SACRAMENTO  95823    CA     3      1    1167   \n",
       "2    2796 BRANCH ST  SACRAMENTO  95815    CA     2      1     796   \n",
       "3  2805 JANETTE WAY  SACRAMENTO  95815    CA     2      1     852   \n",
       "4   6001 MCMAHON DR  SACRAMENTO  95824    CA     2      1     797   \n",
       "\n",
       "          type                     sale_date  price   latitude   longitude  \n",
       "0  Residential  Wed May 21 00:00:00 EDT 2008  59222  38.631913 -121.434879  \n",
       "1  Residential  Wed May 21 00:00:00 EDT 2008  68212  38.478902 -121.431028  \n",
       "2  Residential  Wed May 21 00:00:00 EDT 2008  68880  38.618305 -121.443839  \n",
       "3  Residential  Wed May 21 00:00:00 EDT 2008  69307  38.616835 -121.439146  \n",
       "4  Residential  Wed May 21 00:00:00 EDT 2008  81900  38.519470 -121.435768  "
      ]
     },
     "execution_count": 3,
     "metadata": {},
     "output_type": "execute_result"
    }
   ],
   "source": [
    "df.head()"
   ]
  },
  {
   "cell_type": "markdown",
   "metadata": {},
   "source": [
    "### 2. Conduct exploratory data analysis on this data set. \n",
    "\n",
    "If you discover any issues with the data, fix them to the best of your ability. Report any notable findings.\n",
    "\n",
    "_**Note:** Zip codes often have leading zeros — e.g., 02215 = Boston, MA — which will often get knocked off automatically by many software programs like Python or Excel._"
   ]
  },
  {
   "cell_type": "code",
   "execution_count": 4,
   "metadata": {},
   "outputs": [
    {
     "data": {
      "text/plain": [
       "street       0\n",
       "city         0\n",
       "zip          0\n",
       "state        0\n",
       "beds         0\n",
       "baths        0\n",
       "sq__ft       0\n",
       "type         0\n",
       "sale_date    0\n",
       "price        0\n",
       "latitude     0\n",
       "longitude    0\n",
       "dtype: int64"
      ]
     },
     "execution_count": 4,
     "metadata": {},
     "output_type": "execute_result"
    }
   ],
   "source": [
    "# Check NaN\n",
    "df.isnull().sum()"
   ]
  },
  {
   "cell_type": "code",
   "execution_count": 5,
   "metadata": {},
   "outputs": [
    {
     "data": {
      "text/plain": [
       "street        object\n",
       "city          object\n",
       "zip            int64\n",
       "state         object\n",
       "beds           int64\n",
       "baths          int64\n",
       "sq__ft         int64\n",
       "type          object\n",
       "sale_date     object\n",
       "price          int64\n",
       "latitude     float64\n",
       "longitude    float64\n",
       "dtype: object"
      ]
     },
     "execution_count": 5,
     "metadata": {},
     "output_type": "execute_result"
    }
   ],
   "source": [
    "# Check the dtypes\n",
    "df.dtypes"
   ]
  },
  {
   "cell_type": "code",
   "execution_count": 6,
   "metadata": {},
   "outputs": [
    {
     "name": "stdout",
     "output_type": "stream",
     "text": [
      "<class 'pandas.core.frame.DataFrame'>\n",
      "RangeIndex: 985 entries, 0 to 984\n",
      "Data columns (total 12 columns):\n",
      " #   Column     Non-Null Count  Dtype  \n",
      "---  ------     --------------  -----  \n",
      " 0   street     985 non-null    object \n",
      " 1   city       985 non-null    object \n",
      " 2   zip        985 non-null    int64  \n",
      " 3   state      985 non-null    object \n",
      " 4   beds       985 non-null    int64  \n",
      " 5   baths      985 non-null    int64  \n",
      " 6   sq__ft     985 non-null    int64  \n",
      " 7   type       985 non-null    object \n",
      " 8   sale_date  985 non-null    object \n",
      " 9   price      985 non-null    int64  \n",
      " 10  latitude   985 non-null    float64\n",
      " 11  longitude  985 non-null    float64\n",
      "dtypes: float64(2), int64(5), object(5)\n",
      "memory usage: 92.5+ KB\n"
     ]
    }
   ],
   "source": [
    "# Check Overall\n",
    "df.info()"
   ]
  },
  {
   "cell_type": "code",
   "execution_count": 7,
   "metadata": {},
   "outputs": [
    {
     "data": {
      "text/html": [
       "<div>\n",
       "<style scoped>\n",
       "    .dataframe tbody tr th:only-of-type {\n",
       "        vertical-align: middle;\n",
       "    }\n",
       "\n",
       "    .dataframe tbody tr th {\n",
       "        vertical-align: top;\n",
       "    }\n",
       "\n",
       "    .dataframe thead th {\n",
       "        text-align: right;\n",
       "    }\n",
       "</style>\n",
       "<table border=\"1\" class=\"dataframe\">\n",
       "  <thead>\n",
       "    <tr style=\"text-align: right;\">\n",
       "      <th></th>\n",
       "      <th>zip</th>\n",
       "      <th>beds</th>\n",
       "      <th>baths</th>\n",
       "      <th>sq__ft</th>\n",
       "      <th>price</th>\n",
       "      <th>latitude</th>\n",
       "      <th>longitude</th>\n",
       "    </tr>\n",
       "  </thead>\n",
       "  <tbody>\n",
       "    <tr>\n",
       "      <th>count</th>\n",
       "      <td>985.000000</td>\n",
       "      <td>985.000000</td>\n",
       "      <td>985.000000</td>\n",
       "      <td>985.000000</td>\n",
       "      <td>985.000000</td>\n",
       "      <td>985.000000</td>\n",
       "      <td>985.000000</td>\n",
       "    </tr>\n",
       "    <tr>\n",
       "      <th>mean</th>\n",
       "      <td>95750.697462</td>\n",
       "      <td>2.911675</td>\n",
       "      <td>1.776650</td>\n",
       "      <td>1312.918782</td>\n",
       "      <td>233715.951269</td>\n",
       "      <td>38.445121</td>\n",
       "      <td>-121.193371</td>\n",
       "    </tr>\n",
       "    <tr>\n",
       "      <th>std</th>\n",
       "      <td>85.176072</td>\n",
       "      <td>1.307932</td>\n",
       "      <td>0.895371</td>\n",
       "      <td>856.123224</td>\n",
       "      <td>139088.818896</td>\n",
       "      <td>5.103637</td>\n",
       "      <td>5.100670</td>\n",
       "    </tr>\n",
       "    <tr>\n",
       "      <th>min</th>\n",
       "      <td>95603.000000</td>\n",
       "      <td>0.000000</td>\n",
       "      <td>0.000000</td>\n",
       "      <td>-984.000000</td>\n",
       "      <td>-210944.000000</td>\n",
       "      <td>-121.503471</td>\n",
       "      <td>-121.551704</td>\n",
       "    </tr>\n",
       "    <tr>\n",
       "      <th>25%</th>\n",
       "      <td>95660.000000</td>\n",
       "      <td>2.000000</td>\n",
       "      <td>1.000000</td>\n",
       "      <td>950.000000</td>\n",
       "      <td>145000.000000</td>\n",
       "      <td>38.482704</td>\n",
       "      <td>-121.446119</td>\n",
       "    </tr>\n",
       "    <tr>\n",
       "      <th>50%</th>\n",
       "      <td>95762.000000</td>\n",
       "      <td>3.000000</td>\n",
       "      <td>2.000000</td>\n",
       "      <td>1304.000000</td>\n",
       "      <td>213750.000000</td>\n",
       "      <td>38.625932</td>\n",
       "      <td>-121.375799</td>\n",
       "    </tr>\n",
       "    <tr>\n",
       "      <th>75%</th>\n",
       "      <td>95828.000000</td>\n",
       "      <td>4.000000</td>\n",
       "      <td>2.000000</td>\n",
       "      <td>1718.000000</td>\n",
       "      <td>300000.000000</td>\n",
       "      <td>38.695589</td>\n",
       "      <td>-121.294893</td>\n",
       "    </tr>\n",
       "    <tr>\n",
       "      <th>max</th>\n",
       "      <td>95864.000000</td>\n",
       "      <td>8.000000</td>\n",
       "      <td>5.000000</td>\n",
       "      <td>5822.000000</td>\n",
       "      <td>884790.000000</td>\n",
       "      <td>39.020808</td>\n",
       "      <td>38.668433</td>\n",
       "    </tr>\n",
       "  </tbody>\n",
       "</table>\n",
       "</div>"
      ],
      "text/plain": [
       "                zip        beds       baths       sq__ft          price  \\\n",
       "count    985.000000  985.000000  985.000000   985.000000     985.000000   \n",
       "mean   95750.697462    2.911675    1.776650  1312.918782  233715.951269   \n",
       "std       85.176072    1.307932    0.895371   856.123224  139088.818896   \n",
       "min    95603.000000    0.000000    0.000000  -984.000000 -210944.000000   \n",
       "25%    95660.000000    2.000000    1.000000   950.000000  145000.000000   \n",
       "50%    95762.000000    3.000000    2.000000  1304.000000  213750.000000   \n",
       "75%    95828.000000    4.000000    2.000000  1718.000000  300000.000000   \n",
       "max    95864.000000    8.000000    5.000000  5822.000000  884790.000000   \n",
       "\n",
       "         latitude   longitude  \n",
       "count  985.000000  985.000000  \n",
       "mean    38.445121 -121.193371  \n",
       "std      5.103637    5.100670  \n",
       "min   -121.503471 -121.551704  \n",
       "25%     38.482704 -121.446119  \n",
       "50%     38.625932 -121.375799  \n",
       "75%     38.695589 -121.294893  \n",
       "max     39.020808   38.668433  "
      ]
     },
     "execution_count": 7,
     "metadata": {},
     "output_type": "execute_result"
    }
   ],
   "source": [
    "# Check out the summary statistics\n",
    "df.describe()"
   ]
  },
  {
   "cell_type": "markdown",
   "metadata": {},
   "source": [
    "sq__ft , price and latitude columns should not have negative number.\n",
    "\n",
    "https://www.techtarget.com/whatis/definition/latitude-and-longitude(latitude must not be more 90)"
   ]
  },
  {
   "cell_type": "code",
   "execution_count": 8,
   "metadata": {},
   "outputs": [
    {
     "data": {
      "text/html": [
       "<div>\n",
       "<style scoped>\n",
       "    .dataframe tbody tr th:only-of-type {\n",
       "        vertical-align: middle;\n",
       "    }\n",
       "\n",
       "    .dataframe tbody tr th {\n",
       "        vertical-align: top;\n",
       "    }\n",
       "\n",
       "    .dataframe thead th {\n",
       "        text-align: right;\n",
       "    }\n",
       "</style>\n",
       "<table border=\"1\" class=\"dataframe\">\n",
       "  <thead>\n",
       "    <tr style=\"text-align: right;\">\n",
       "      <th></th>\n",
       "      <th>street</th>\n",
       "      <th>city</th>\n",
       "      <th>zip</th>\n",
       "      <th>state</th>\n",
       "      <th>beds</th>\n",
       "      <th>baths</th>\n",
       "      <th>sq__ft</th>\n",
       "      <th>type</th>\n",
       "      <th>sale_date</th>\n",
       "      <th>price</th>\n",
       "      <th>latitude</th>\n",
       "      <th>longitude</th>\n",
       "    </tr>\n",
       "  </thead>\n",
       "  <tbody>\n",
       "    <tr>\n",
       "      <th>703</th>\n",
       "      <td>1900 DANBROOK DR</td>\n",
       "      <td>SACRAMENTO</td>\n",
       "      <td>95835</td>\n",
       "      <td>AC</td>\n",
       "      <td>1</td>\n",
       "      <td>1</td>\n",
       "      <td>-984</td>\n",
       "      <td>Condo</td>\n",
       "      <td>Fri May 16 00:00:00 EDT 2008</td>\n",
       "      <td>-210944</td>\n",
       "      <td>-121.503471</td>\n",
       "      <td>38.668433</td>\n",
       "    </tr>\n",
       "  </tbody>\n",
       "</table>\n",
       "</div>"
      ],
      "text/plain": [
       "               street        city    zip state  beds  baths  sq__ft   type  \\\n",
       "703  1900 DANBROOK DR  SACRAMENTO  95835    AC     1      1    -984  Condo   \n",
       "\n",
       "                        sale_date   price    latitude  longitude  \n",
       "703  Fri May 16 00:00:00 EDT 2008 -210944 -121.503471  38.668433  "
      ]
     },
     "execution_count": 8,
     "metadata": {},
     "output_type": "execute_result"
    }
   ],
   "source": [
    "# Check row have invalid value\n",
    "df[df[\"sq__ft\"] < 0]"
   ]
  },
  {
   "cell_type": "code",
   "execution_count": 9,
   "metadata": {},
   "outputs": [],
   "source": [
    "# Decide delete row \"sq__ft\" < 0 because only one row \n",
    "df = df[~df[\"sq__ft\"] < 0] "
   ]
  },
  {
   "cell_type": "code",
   "execution_count": 10,
   "metadata": {},
   "outputs": [
    {
     "name": "stdout",
     "output_type": "stream",
     "text": [
      "<class 'pandas.core.frame.DataFrame'>\n",
      "Int64Index: 984 entries, 0 to 984\n",
      "Data columns (total 12 columns):\n",
      " #   Column     Non-Null Count  Dtype  \n",
      "---  ------     --------------  -----  \n",
      " 0   street     984 non-null    object \n",
      " 1   city       984 non-null    object \n",
      " 2   zip        984 non-null    int64  \n",
      " 3   state      984 non-null    object \n",
      " 4   beds       984 non-null    int64  \n",
      " 5   baths      984 non-null    int64  \n",
      " 6   sq__ft     984 non-null    int64  \n",
      " 7   type       984 non-null    object \n",
      " 8   sale_date  984 non-null    object \n",
      " 9   price      984 non-null    int64  \n",
      " 10  latitude   984 non-null    float64\n",
      " 11  longitude  984 non-null    float64\n",
      "dtypes: float64(2), int64(5), object(5)\n",
      "memory usage: 99.9+ KB\n"
     ]
    }
   ],
   "source": [
    "# Recheck (985-1= 984 row)\n",
    "df.info()"
   ]
  },
  {
   "cell_type": "code",
   "execution_count": 11,
   "metadata": {},
   "outputs": [
    {
     "data": {
      "text/html": [
       "<div>\n",
       "<style scoped>\n",
       "    .dataframe tbody tr th:only-of-type {\n",
       "        vertical-align: middle;\n",
       "    }\n",
       "\n",
       "    .dataframe tbody tr th {\n",
       "        vertical-align: top;\n",
       "    }\n",
       "\n",
       "    .dataframe thead th {\n",
       "        text-align: right;\n",
       "    }\n",
       "</style>\n",
       "<table border=\"1\" class=\"dataframe\">\n",
       "  <thead>\n",
       "    <tr style=\"text-align: right;\">\n",
       "      <th></th>\n",
       "      <th>street</th>\n",
       "      <th>city</th>\n",
       "      <th>zip</th>\n",
       "      <th>state</th>\n",
       "      <th>beds</th>\n",
       "      <th>baths</th>\n",
       "      <th>sq__ft</th>\n",
       "      <th>type</th>\n",
       "      <th>sale_date</th>\n",
       "      <th>price</th>\n",
       "      <th>latitude</th>\n",
       "      <th>longitude</th>\n",
       "    </tr>\n",
       "  </thead>\n",
       "  <tbody>\n",
       "    <tr>\n",
       "      <th>341</th>\n",
       "      <td>4734 14TH AVE</td>\n",
       "      <td>SACRAMENTO</td>\n",
       "      <td>95820</td>\n",
       "      <td>CA</td>\n",
       "      <td>2</td>\n",
       "      <td>1</td>\n",
       "      <td>834</td>\n",
       "      <td>Residential</td>\n",
       "      <td>Mon May 19 00:00:00 EDT 2008</td>\n",
       "      <td>68000</td>\n",
       "      <td>38.539447</td>\n",
       "      <td>-121.450858</td>\n",
       "    </tr>\n",
       "    <tr>\n",
       "      <th>342</th>\n",
       "      <td>4734 14TH AVE</td>\n",
       "      <td>SACRAMENTO</td>\n",
       "      <td>95820</td>\n",
       "      <td>CA</td>\n",
       "      <td>2</td>\n",
       "      <td>1</td>\n",
       "      <td>834</td>\n",
       "      <td>Residential</td>\n",
       "      <td>Mon May 19 00:00:00 EDT 2008</td>\n",
       "      <td>68000</td>\n",
       "      <td>38.539447</td>\n",
       "      <td>-121.450858</td>\n",
       "    </tr>\n",
       "    <tr>\n",
       "      <th>403</th>\n",
       "      <td>8306 CURLEW CT</td>\n",
       "      <td>CITRUS HEIGHTS</td>\n",
       "      <td>95621</td>\n",
       "      <td>CA</td>\n",
       "      <td>4</td>\n",
       "      <td>2</td>\n",
       "      <td>1280</td>\n",
       "      <td>Residential</td>\n",
       "      <td>Mon May 19 00:00:00 EDT 2008</td>\n",
       "      <td>167293</td>\n",
       "      <td>38.715781</td>\n",
       "      <td>-121.298519</td>\n",
       "    </tr>\n",
       "    <tr>\n",
       "      <th>404</th>\n",
       "      <td>8306 CURLEW CT</td>\n",
       "      <td>CITRUS HEIGHTS</td>\n",
       "      <td>95621</td>\n",
       "      <td>CA</td>\n",
       "      <td>4</td>\n",
       "      <td>2</td>\n",
       "      <td>1280</td>\n",
       "      <td>Residential</td>\n",
       "      <td>Mon May 19 00:00:00 EDT 2008</td>\n",
       "      <td>167293</td>\n",
       "      <td>38.715781</td>\n",
       "      <td>-121.298519</td>\n",
       "    </tr>\n",
       "    <tr>\n",
       "      <th>600</th>\n",
       "      <td>7 CRYSTALWOOD CIR</td>\n",
       "      <td>LINCOLN</td>\n",
       "      <td>95648</td>\n",
       "      <td>CA</td>\n",
       "      <td>0</td>\n",
       "      <td>0</td>\n",
       "      <td>0</td>\n",
       "      <td>Residential</td>\n",
       "      <td>Mon May 19 00:00:00 EDT 2008</td>\n",
       "      <td>4897</td>\n",
       "      <td>38.885962</td>\n",
       "      <td>-121.289436</td>\n",
       "    </tr>\n",
       "    <tr>\n",
       "      <th>601</th>\n",
       "      <td>7 CRYSTALWOOD CIR</td>\n",
       "      <td>LINCOLN</td>\n",
       "      <td>95648</td>\n",
       "      <td>CA</td>\n",
       "      <td>0</td>\n",
       "      <td>0</td>\n",
       "      <td>0</td>\n",
       "      <td>Residential</td>\n",
       "      <td>Mon May 19 00:00:00 EDT 2008</td>\n",
       "      <td>4897</td>\n",
       "      <td>38.885962</td>\n",
       "      <td>-121.289436</td>\n",
       "    </tr>\n",
       "  </tbody>\n",
       "</table>\n",
       "</div>"
      ],
      "text/plain": [
       "                street            city    zip state  beds  baths  sq__ft  \\\n",
       "341      4734 14TH AVE      SACRAMENTO  95820    CA     2      1     834   \n",
       "342      4734 14TH AVE      SACRAMENTO  95820    CA     2      1     834   \n",
       "403     8306 CURLEW CT  CITRUS HEIGHTS  95621    CA     4      2    1280   \n",
       "404     8306 CURLEW CT  CITRUS HEIGHTS  95621    CA     4      2    1280   \n",
       "600  7 CRYSTALWOOD CIR         LINCOLN  95648    CA     0      0       0   \n",
       "601  7 CRYSTALWOOD CIR         LINCOLN  95648    CA     0      0       0   \n",
       "\n",
       "            type                     sale_date   price   latitude   longitude  \n",
       "341  Residential  Mon May 19 00:00:00 EDT 2008   68000  38.539447 -121.450858  \n",
       "342  Residential  Mon May 19 00:00:00 EDT 2008   68000  38.539447 -121.450858  \n",
       "403  Residential  Mon May 19 00:00:00 EDT 2008  167293  38.715781 -121.298519  \n",
       "404  Residential  Mon May 19 00:00:00 EDT 2008  167293  38.715781 -121.298519  \n",
       "600  Residential  Mon May 19 00:00:00 EDT 2008    4897  38.885962 -121.289436  \n",
       "601  Residential  Mon May 19 00:00:00 EDT 2008    4897  38.885962 -121.289436  "
      ]
     },
     "execution_count": 11,
     "metadata": {},
     "output_type": "execute_result"
    }
   ],
   "source": [
    "# Check duplicated rows\n",
    "df[df.duplicated(keep=False)] "
   ]
  },
  {
   "cell_type": "code",
   "execution_count": 12,
   "metadata": {},
   "outputs": [],
   "source": [
    "# Decide delete same row and keep only one row  \n",
    "df = df[~df.duplicated()] "
   ]
  },
  {
   "cell_type": "code",
   "execution_count": 13,
   "metadata": {},
   "outputs": [
    {
     "name": "stdout",
     "output_type": "stream",
     "text": [
      "<class 'pandas.core.frame.DataFrame'>\n",
      "Int64Index: 981 entries, 0 to 984\n",
      "Data columns (total 12 columns):\n",
      " #   Column     Non-Null Count  Dtype  \n",
      "---  ------     --------------  -----  \n",
      " 0   street     981 non-null    object \n",
      " 1   city       981 non-null    object \n",
      " 2   zip        981 non-null    int64  \n",
      " 3   state      981 non-null    object \n",
      " 4   beds       981 non-null    int64  \n",
      " 5   baths      981 non-null    int64  \n",
      " 6   sq__ft     981 non-null    int64  \n",
      " 7   type       981 non-null    object \n",
      " 8   sale_date  981 non-null    object \n",
      " 9   price      981 non-null    int64  \n",
      " 10  latitude   981 non-null    float64\n",
      " 11  longitude  981 non-null    float64\n",
      "dtypes: float64(2), int64(5), object(5)\n",
      "memory usage: 99.6+ KB\n"
     ]
    }
   ],
   "source": [
    "# Recheck (984-3= 981 row)\n",
    "df.info()"
   ]
  },
  {
   "cell_type": "code",
   "execution_count": 14,
   "metadata": {},
   "outputs": [
    {
     "data": {
      "text/html": [
       "<div>\n",
       "<style scoped>\n",
       "    .dataframe tbody tr th:only-of-type {\n",
       "        vertical-align: middle;\n",
       "    }\n",
       "\n",
       "    .dataframe tbody tr th {\n",
       "        vertical-align: top;\n",
       "    }\n",
       "\n",
       "    .dataframe thead th {\n",
       "        text-align: right;\n",
       "    }\n",
       "</style>\n",
       "<table border=\"1\" class=\"dataframe\">\n",
       "  <thead>\n",
       "    <tr style=\"text-align: right;\">\n",
       "      <th></th>\n",
       "      <th>zip</th>\n",
       "      <th>beds</th>\n",
       "      <th>baths</th>\n",
       "      <th>sq__ft</th>\n",
       "      <th>price</th>\n",
       "      <th>latitude</th>\n",
       "      <th>longitude</th>\n",
       "    </tr>\n",
       "  </thead>\n",
       "  <tbody>\n",
       "    <tr>\n",
       "      <th>count</th>\n",
       "      <td>981.000000</td>\n",
       "      <td>981.000000</td>\n",
       "      <td>981.000000</td>\n",
       "      <td>981.000000</td>\n",
       "      <td>981.000000</td>\n",
       "      <td>981.000000</td>\n",
       "      <td>981.000000</td>\n",
       "    </tr>\n",
       "    <tr>\n",
       "      <th>mean</th>\n",
       "      <td>95750.777778</td>\n",
       "      <td>2.916412</td>\n",
       "      <td>1.779817</td>\n",
       "      <td>1317.120285</td>\n",
       "      <td>234639.109072</td>\n",
       "      <td>38.607346</td>\n",
       "      <td>-121.355862</td>\n",
       "    </tr>\n",
       "    <tr>\n",
       "      <th>std</th>\n",
       "      <td>85.114566</td>\n",
       "      <td>1.305071</td>\n",
       "      <td>0.894678</td>\n",
       "      <td>853.547500</td>\n",
       "      <td>138333.292994</td>\n",
       "      <td>0.145387</td>\n",
       "      <td>0.138418</td>\n",
       "    </tr>\n",
       "    <tr>\n",
       "      <th>min</th>\n",
       "      <td>95603.000000</td>\n",
       "      <td>0.000000</td>\n",
       "      <td>0.000000</td>\n",
       "      <td>0.000000</td>\n",
       "      <td>1551.000000</td>\n",
       "      <td>38.241514</td>\n",
       "      <td>-121.551704</td>\n",
       "    </tr>\n",
       "    <tr>\n",
       "      <th>25%</th>\n",
       "      <td>95660.000000</td>\n",
       "      <td>2.000000</td>\n",
       "      <td>1.000000</td>\n",
       "      <td>956.000000</td>\n",
       "      <td>145000.000000</td>\n",
       "      <td>38.482704</td>\n",
       "      <td>-121.446119</td>\n",
       "    </tr>\n",
       "    <tr>\n",
       "      <th>50%</th>\n",
       "      <td>95762.000000</td>\n",
       "      <td>3.000000</td>\n",
       "      <td>2.000000</td>\n",
       "      <td>1305.000000</td>\n",
       "      <td>215000.000000</td>\n",
       "      <td>38.625932</td>\n",
       "      <td>-121.376220</td>\n",
       "    </tr>\n",
       "    <tr>\n",
       "      <th>75%</th>\n",
       "      <td>95828.000000</td>\n",
       "      <td>4.000000</td>\n",
       "      <td>2.000000</td>\n",
       "      <td>1720.000000</td>\n",
       "      <td>300000.000000</td>\n",
       "      <td>38.694559</td>\n",
       "      <td>-121.295778</td>\n",
       "    </tr>\n",
       "    <tr>\n",
       "      <th>max</th>\n",
       "      <td>95864.000000</td>\n",
       "      <td>8.000000</td>\n",
       "      <td>5.000000</td>\n",
       "      <td>5822.000000</td>\n",
       "      <td>884790.000000</td>\n",
       "      <td>39.020808</td>\n",
       "      <td>-120.597599</td>\n",
       "    </tr>\n",
       "  </tbody>\n",
       "</table>\n",
       "</div>"
      ],
      "text/plain": [
       "                zip        beds       baths       sq__ft          price  \\\n",
       "count    981.000000  981.000000  981.000000   981.000000     981.000000   \n",
       "mean   95750.777778    2.916412    1.779817  1317.120285  234639.109072   \n",
       "std       85.114566    1.305071    0.894678   853.547500  138333.292994   \n",
       "min    95603.000000    0.000000    0.000000     0.000000    1551.000000   \n",
       "25%    95660.000000    2.000000    1.000000   956.000000  145000.000000   \n",
       "50%    95762.000000    3.000000    2.000000  1305.000000  215000.000000   \n",
       "75%    95828.000000    4.000000    2.000000  1720.000000  300000.000000   \n",
       "max    95864.000000    8.000000    5.000000  5822.000000  884790.000000   \n",
       "\n",
       "         latitude   longitude  \n",
       "count  981.000000  981.000000  \n",
       "mean    38.607346 -121.355862  \n",
       "std      0.145387    0.138418  \n",
       "min     38.241514 -121.551704  \n",
       "25%     38.482704 -121.446119  \n",
       "50%     38.625932 -121.376220  \n",
       "75%     38.694559 -121.295778  \n",
       "max     39.020808 -120.597599  "
      ]
     },
     "execution_count": 14,
     "metadata": {},
     "output_type": "execute_result"
    }
   ],
   "source": [
    "# Recheck out the summary statistics\n",
    "df.describe()"
   ]
  },
  {
   "cell_type": "markdown",
   "metadata": {
    "scrolled": true
   },
   "source": [
    "we have some values that seem out of place being that there are houses with 0 bedrooms,  0 baths and 0 sqr(ft)."
   ]
  },
  {
   "cell_type": "code",
   "execution_count": 15,
   "metadata": {},
   "outputs": [
    {
     "data": {
      "text/html": [
       "<div>\n",
       "<style scoped>\n",
       "    .dataframe tbody tr th:only-of-type {\n",
       "        vertical-align: middle;\n",
       "    }\n",
       "\n",
       "    .dataframe tbody tr th {\n",
       "        vertical-align: top;\n",
       "    }\n",
       "\n",
       "    .dataframe thead th {\n",
       "        text-align: right;\n",
       "    }\n",
       "</style>\n",
       "<table border=\"1\" class=\"dataframe\">\n",
       "  <thead>\n",
       "    <tr style=\"text-align: right;\">\n",
       "      <th></th>\n",
       "      <th>street</th>\n",
       "      <th>city</th>\n",
       "      <th>zip</th>\n",
       "      <th>state</th>\n",
       "      <th>beds</th>\n",
       "      <th>baths</th>\n",
       "      <th>sq__ft</th>\n",
       "      <th>type</th>\n",
       "      <th>sale_date</th>\n",
       "      <th>price</th>\n",
       "      <th>latitude</th>\n",
       "      <th>longitude</th>\n",
       "    </tr>\n",
       "  </thead>\n",
       "  <tbody>\n",
       "    <tr>\n",
       "      <th>73</th>\n",
       "      <td>17 SERASPI CT</td>\n",
       "      <td>SACRAMENTO</td>\n",
       "      <td>95834</td>\n",
       "      <td>CA</td>\n",
       "      <td>0</td>\n",
       "      <td>0</td>\n",
       "      <td>0</td>\n",
       "      <td>Residential</td>\n",
       "      <td>Wed May 21 00:00:00 EDT 2008</td>\n",
       "      <td>206000</td>\n",
       "      <td>38.631481</td>\n",
       "      <td>-121.501880</td>\n",
       "    </tr>\n",
       "    <tr>\n",
       "      <th>89</th>\n",
       "      <td>2866 KARITSA AVE</td>\n",
       "      <td>SACRAMENTO</td>\n",
       "      <td>95833</td>\n",
       "      <td>CA</td>\n",
       "      <td>0</td>\n",
       "      <td>0</td>\n",
       "      <td>0</td>\n",
       "      <td>Residential</td>\n",
       "      <td>Wed May 21 00:00:00 EDT 2008</td>\n",
       "      <td>244500</td>\n",
       "      <td>38.626671</td>\n",
       "      <td>-121.525970</td>\n",
       "    </tr>\n",
       "    <tr>\n",
       "      <th>100</th>\n",
       "      <td>12209 CONSERVANCY WAY</td>\n",
       "      <td>RANCHO CORDOVA</td>\n",
       "      <td>95742</td>\n",
       "      <td>CA</td>\n",
       "      <td>0</td>\n",
       "      <td>0</td>\n",
       "      <td>0</td>\n",
       "      <td>Residential</td>\n",
       "      <td>Wed May 21 00:00:00 EDT 2008</td>\n",
       "      <td>263500</td>\n",
       "      <td>38.553867</td>\n",
       "      <td>-121.219141</td>\n",
       "    </tr>\n",
       "    <tr>\n",
       "      <th>121</th>\n",
       "      <td>5337 DUSTY ROSE WAY</td>\n",
       "      <td>RANCHO CORDOVA</td>\n",
       "      <td>95742</td>\n",
       "      <td>CA</td>\n",
       "      <td>0</td>\n",
       "      <td>0</td>\n",
       "      <td>0</td>\n",
       "      <td>Residential</td>\n",
       "      <td>Wed May 21 00:00:00 EDT 2008</td>\n",
       "      <td>320000</td>\n",
       "      <td>38.528575</td>\n",
       "      <td>-121.228600</td>\n",
       "    </tr>\n",
       "    <tr>\n",
       "      <th>126</th>\n",
       "      <td>2115 SMOKESTACK WAY</td>\n",
       "      <td>SACRAMENTO</td>\n",
       "      <td>95833</td>\n",
       "      <td>CA</td>\n",
       "      <td>0</td>\n",
       "      <td>0</td>\n",
       "      <td>0</td>\n",
       "      <td>Residential</td>\n",
       "      <td>Wed May 21 00:00:00 EDT 2008</td>\n",
       "      <td>339500</td>\n",
       "      <td>38.602416</td>\n",
       "      <td>-121.542965</td>\n",
       "    </tr>\n",
       "    <tr>\n",
       "      <th>...</th>\n",
       "      <td>...</td>\n",
       "      <td>...</td>\n",
       "      <td>...</td>\n",
       "      <td>...</td>\n",
       "      <td>...</td>\n",
       "      <td>...</td>\n",
       "      <td>...</td>\n",
       "      <td>...</td>\n",
       "      <td>...</td>\n",
       "      <td>...</td>\n",
       "      <td>...</td>\n",
       "      <td>...</td>\n",
       "    </tr>\n",
       "    <tr>\n",
       "      <th>901</th>\n",
       "      <td>1530 TOPANGA LN Unit 204</td>\n",
       "      <td>LINCOLN</td>\n",
       "      <td>95648</td>\n",
       "      <td>CA</td>\n",
       "      <td>0</td>\n",
       "      <td>0</td>\n",
       "      <td>0</td>\n",
       "      <td>Condo</td>\n",
       "      <td>Thu May 15 00:00:00 EDT 2008</td>\n",
       "      <td>138000</td>\n",
       "      <td>38.884150</td>\n",
       "      <td>-121.270277</td>\n",
       "    </tr>\n",
       "    <tr>\n",
       "      <th>917</th>\n",
       "      <td>501 POPLAR AVE</td>\n",
       "      <td>WEST SACRAMENTO</td>\n",
       "      <td>95691</td>\n",
       "      <td>CA</td>\n",
       "      <td>0</td>\n",
       "      <td>0</td>\n",
       "      <td>0</td>\n",
       "      <td>Residential</td>\n",
       "      <td>Thu May 15 00:00:00 EDT 2008</td>\n",
       "      <td>165000</td>\n",
       "      <td>38.584526</td>\n",
       "      <td>-121.534609</td>\n",
       "    </tr>\n",
       "    <tr>\n",
       "      <th>934</th>\n",
       "      <td>1550 TOPANGA LN Unit 207</td>\n",
       "      <td>LINCOLN</td>\n",
       "      <td>95648</td>\n",
       "      <td>CA</td>\n",
       "      <td>0</td>\n",
       "      <td>0</td>\n",
       "      <td>0</td>\n",
       "      <td>Condo</td>\n",
       "      <td>Thu May 15 00:00:00 EDT 2008</td>\n",
       "      <td>188000</td>\n",
       "      <td>38.884170</td>\n",
       "      <td>-121.270222</td>\n",
       "    </tr>\n",
       "    <tr>\n",
       "      <th>947</th>\n",
       "      <td>1525 PENNSYLVANIA AVE</td>\n",
       "      <td>WEST SACRAMENTO</td>\n",
       "      <td>95691</td>\n",
       "      <td>CA</td>\n",
       "      <td>0</td>\n",
       "      <td>0</td>\n",
       "      <td>0</td>\n",
       "      <td>Residential</td>\n",
       "      <td>Thu May 15 00:00:00 EDT 2008</td>\n",
       "      <td>200100</td>\n",
       "      <td>38.569943</td>\n",
       "      <td>-121.527539</td>\n",
       "    </tr>\n",
       "    <tr>\n",
       "      <th>970</th>\n",
       "      <td>3557 SODA WAY</td>\n",
       "      <td>SACRAMENTO</td>\n",
       "      <td>95834</td>\n",
       "      <td>CA</td>\n",
       "      <td>0</td>\n",
       "      <td>0</td>\n",
       "      <td>0</td>\n",
       "      <td>Residential</td>\n",
       "      <td>Thu May 15 00:00:00 EDT 2008</td>\n",
       "      <td>224000</td>\n",
       "      <td>38.631026</td>\n",
       "      <td>-121.501879</td>\n",
       "    </tr>\n",
       "  </tbody>\n",
       "</table>\n",
       "<p>107 rows × 12 columns</p>\n",
       "</div>"
      ],
      "text/plain": [
       "                       street             city    zip state  beds  baths  \\\n",
       "73              17 SERASPI CT       SACRAMENTO  95834    CA     0      0   \n",
       "89           2866 KARITSA AVE       SACRAMENTO  95833    CA     0      0   \n",
       "100     12209 CONSERVANCY WAY   RANCHO CORDOVA  95742    CA     0      0   \n",
       "121       5337 DUSTY ROSE WAY   RANCHO CORDOVA  95742    CA     0      0   \n",
       "126       2115 SMOKESTACK WAY       SACRAMENTO  95833    CA     0      0   \n",
       "..                        ...              ...    ...   ...   ...    ...   \n",
       "901  1530 TOPANGA LN Unit 204          LINCOLN  95648    CA     0      0   \n",
       "917            501 POPLAR AVE  WEST SACRAMENTO  95691    CA     0      0   \n",
       "934  1550 TOPANGA LN Unit 207          LINCOLN  95648    CA     0      0   \n",
       "947     1525 PENNSYLVANIA AVE  WEST SACRAMENTO  95691    CA     0      0   \n",
       "970             3557 SODA WAY       SACRAMENTO  95834    CA     0      0   \n",
       "\n",
       "     sq__ft         type                     sale_date   price   latitude  \\\n",
       "73        0  Residential  Wed May 21 00:00:00 EDT 2008  206000  38.631481   \n",
       "89        0  Residential  Wed May 21 00:00:00 EDT 2008  244500  38.626671   \n",
       "100       0  Residential  Wed May 21 00:00:00 EDT 2008  263500  38.553867   \n",
       "121       0  Residential  Wed May 21 00:00:00 EDT 2008  320000  38.528575   \n",
       "126       0  Residential  Wed May 21 00:00:00 EDT 2008  339500  38.602416   \n",
       "..      ...          ...                           ...     ...        ...   \n",
       "901       0        Condo  Thu May 15 00:00:00 EDT 2008  138000  38.884150   \n",
       "917       0  Residential  Thu May 15 00:00:00 EDT 2008  165000  38.584526   \n",
       "934       0        Condo  Thu May 15 00:00:00 EDT 2008  188000  38.884170   \n",
       "947       0  Residential  Thu May 15 00:00:00 EDT 2008  200100  38.569943   \n",
       "970       0  Residential  Thu May 15 00:00:00 EDT 2008  224000  38.631026   \n",
       "\n",
       "      longitude  \n",
       "73  -121.501880  \n",
       "89  -121.525970  \n",
       "100 -121.219141  \n",
       "121 -121.228600  \n",
       "126 -121.542965  \n",
       "..          ...  \n",
       "901 -121.270277  \n",
       "917 -121.534609  \n",
       "934 -121.270222  \n",
       "947 -121.527539  \n",
       "970 -121.501879  \n",
       "\n",
       "[107 rows x 12 columns]"
      ]
     },
     "execution_count": 15,
     "metadata": {},
     "output_type": "execute_result"
    }
   ],
   "source": [
    "# Find row \n",
    "df[((df[\"beds\"]==0) & (df[\"baths\"]==0) & (df[\"sq__ft\"]==0))]"
   ]
  },
  {
   "cell_type": "code",
   "execution_count": 16,
   "metadata": {},
   "outputs": [],
   "source": [
    "# Decide delete row 3 columns which have 0 value () \n",
    "# Whats the price that have 0 bedrooms/0 bathrooms and 0 sq(ft)?\n",
    "df = df[~((df[\"beds\"]==0) & (df[\"baths\"]==0) & (df[\"sq__ft\"]==0))]"
   ]
  },
  {
   "cell_type": "code",
   "execution_count": 17,
   "metadata": {},
   "outputs": [
    {
     "name": "stdout",
     "output_type": "stream",
     "text": [
      "<class 'pandas.core.frame.DataFrame'>\n",
      "Int64Index: 874 entries, 0 to 984\n",
      "Data columns (total 12 columns):\n",
      " #   Column     Non-Null Count  Dtype  \n",
      "---  ------     --------------  -----  \n",
      " 0   street     874 non-null    object \n",
      " 1   city       874 non-null    object \n",
      " 2   zip        874 non-null    int64  \n",
      " 3   state      874 non-null    object \n",
      " 4   beds       874 non-null    int64  \n",
      " 5   baths      874 non-null    int64  \n",
      " 6   sq__ft     874 non-null    int64  \n",
      " 7   type       874 non-null    object \n",
      " 8   sale_date  874 non-null    object \n",
      " 9   price      874 non-null    int64  \n",
      " 10  latitude   874 non-null    float64\n",
      " 11  longitude  874 non-null    float64\n",
      "dtypes: float64(2), int64(5), object(5)\n",
      "memory usage: 88.8+ KB\n"
     ]
    }
   ],
   "source": [
    "# Recheck (981-107 = 874 row)\n",
    "df.info()"
   ]
  },
  {
   "cell_type": "code",
   "execution_count": 18,
   "metadata": {},
   "outputs": [
    {
     "data": {
      "text/html": [
       "<div>\n",
       "<style scoped>\n",
       "    .dataframe tbody tr th:only-of-type {\n",
       "        vertical-align: middle;\n",
       "    }\n",
       "\n",
       "    .dataframe tbody tr th {\n",
       "        vertical-align: top;\n",
       "    }\n",
       "\n",
       "    .dataframe thead th {\n",
       "        text-align: right;\n",
       "    }\n",
       "</style>\n",
       "<table border=\"1\" class=\"dataframe\">\n",
       "  <thead>\n",
       "    <tr style=\"text-align: right;\">\n",
       "      <th></th>\n",
       "      <th>street</th>\n",
       "      <th>city</th>\n",
       "      <th>zip</th>\n",
       "      <th>state</th>\n",
       "      <th>beds</th>\n",
       "      <th>baths</th>\n",
       "      <th>sq__ft</th>\n",
       "      <th>type</th>\n",
       "      <th>sale_date</th>\n",
       "      <th>price</th>\n",
       "      <th>latitude</th>\n",
       "      <th>longitude</th>\n",
       "    </tr>\n",
       "  </thead>\n",
       "  <tbody>\n",
       "    <tr>\n",
       "      <th>132</th>\n",
       "      <td>3020 RICHARDSON CIR</td>\n",
       "      <td>EL DORADO HILLS</td>\n",
       "      <td>95762</td>\n",
       "      <td>CA</td>\n",
       "      <td>3</td>\n",
       "      <td>2</td>\n",
       "      <td>0</td>\n",
       "      <td>Residential</td>\n",
       "      <td>Wed May 21 00:00:00 EDT 2008</td>\n",
       "      <td>352000</td>\n",
       "      <td>38.691299</td>\n",
       "      <td>-121.081752</td>\n",
       "    </tr>\n",
       "    <tr>\n",
       "      <th>154</th>\n",
       "      <td>6030 PALERMO WAY</td>\n",
       "      <td>EL DORADO HILLS</td>\n",
       "      <td>95762</td>\n",
       "      <td>CA</td>\n",
       "      <td>4</td>\n",
       "      <td>3</td>\n",
       "      <td>0</td>\n",
       "      <td>Residential</td>\n",
       "      <td>Wed May 21 00:00:00 EDT 2008</td>\n",
       "      <td>600000</td>\n",
       "      <td>38.672761</td>\n",
       "      <td>-121.050378</td>\n",
       "    </tr>\n",
       "    <tr>\n",
       "      <th>155</th>\n",
       "      <td>4070 REDONDO DR</td>\n",
       "      <td>EL DORADO HILLS</td>\n",
       "      <td>95762</td>\n",
       "      <td>CA</td>\n",
       "      <td>4</td>\n",
       "      <td>3</td>\n",
       "      <td>0</td>\n",
       "      <td>Residential</td>\n",
       "      <td>Wed May 21 00:00:00 EDT 2008</td>\n",
       "      <td>606238</td>\n",
       "      <td>38.666807</td>\n",
       "      <td>-121.064830</td>\n",
       "    </tr>\n",
       "    <tr>\n",
       "      <th>157</th>\n",
       "      <td>315 JUMEL CT</td>\n",
       "      <td>EL DORADO HILLS</td>\n",
       "      <td>95762</td>\n",
       "      <td>CA</td>\n",
       "      <td>6</td>\n",
       "      <td>5</td>\n",
       "      <td>0</td>\n",
       "      <td>Residential</td>\n",
       "      <td>Wed May 21 00:00:00 EDT 2008</td>\n",
       "      <td>830000</td>\n",
       "      <td>38.669931</td>\n",
       "      <td>-121.059580</td>\n",
       "    </tr>\n",
       "    <tr>\n",
       "      <th>223</th>\n",
       "      <td>2778 KAWEAH CT</td>\n",
       "      <td>CAMERON PARK</td>\n",
       "      <td>95682</td>\n",
       "      <td>CA</td>\n",
       "      <td>3</td>\n",
       "      <td>1</td>\n",
       "      <td>0</td>\n",
       "      <td>Residential</td>\n",
       "      <td>Tue May 20 00:00:00 EDT 2008</td>\n",
       "      <td>201000</td>\n",
       "      <td>38.694052</td>\n",
       "      <td>-120.995589</td>\n",
       "    </tr>\n",
       "    <tr>\n",
       "      <th>...</th>\n",
       "      <td>...</td>\n",
       "      <td>...</td>\n",
       "      <td>...</td>\n",
       "      <td>...</td>\n",
       "      <td>...</td>\n",
       "      <td>...</td>\n",
       "      <td>...</td>\n",
       "      <td>...</td>\n",
       "      <td>...</td>\n",
       "      <td>...</td>\n",
       "      <td>...</td>\n",
       "      <td>...</td>\n",
       "    </tr>\n",
       "    <tr>\n",
       "      <th>863</th>\n",
       "      <td>2982 ABERDEEN LN</td>\n",
       "      <td>EL DORADO HILLS</td>\n",
       "      <td>95762</td>\n",
       "      <td>CA</td>\n",
       "      <td>4</td>\n",
       "      <td>3</td>\n",
       "      <td>0</td>\n",
       "      <td>Residential</td>\n",
       "      <td>Fri May 16 00:00:00 EDT 2008</td>\n",
       "      <td>879000</td>\n",
       "      <td>38.706692</td>\n",
       "      <td>-121.058869</td>\n",
       "    </tr>\n",
       "    <tr>\n",
       "      <th>865</th>\n",
       "      <td>3720 VISTA DE MADERA</td>\n",
       "      <td>LINCOLN</td>\n",
       "      <td>95648</td>\n",
       "      <td>CA</td>\n",
       "      <td>3</td>\n",
       "      <td>3</td>\n",
       "      <td>0</td>\n",
       "      <td>Residential</td>\n",
       "      <td>Fri May 16 00:00:00 EDT 2008</td>\n",
       "      <td>1551</td>\n",
       "      <td>38.851645</td>\n",
       "      <td>-121.231742</td>\n",
       "    </tr>\n",
       "    <tr>\n",
       "      <th>922</th>\n",
       "      <td>10001 WOODCREEK OAKS BLVD Unit 815</td>\n",
       "      <td>ROSEVILLE</td>\n",
       "      <td>95747</td>\n",
       "      <td>CA</td>\n",
       "      <td>2</td>\n",
       "      <td>2</td>\n",
       "      <td>0</td>\n",
       "      <td>Condo</td>\n",
       "      <td>Thu May 15 00:00:00 EDT 2008</td>\n",
       "      <td>170000</td>\n",
       "      <td>38.795529</td>\n",
       "      <td>-121.328819</td>\n",
       "    </tr>\n",
       "    <tr>\n",
       "      <th>966</th>\n",
       "      <td>9197 CORTINA CIR</td>\n",
       "      <td>ROSEVILLE</td>\n",
       "      <td>95678</td>\n",
       "      <td>CA</td>\n",
       "      <td>3</td>\n",
       "      <td>2</td>\n",
       "      <td>0</td>\n",
       "      <td>Condo</td>\n",
       "      <td>Thu May 15 00:00:00 EDT 2008</td>\n",
       "      <td>220000</td>\n",
       "      <td>38.793152</td>\n",
       "      <td>-121.290025</td>\n",
       "    </tr>\n",
       "    <tr>\n",
       "      <th>973</th>\n",
       "      <td>2181 WINTERHAVEN CIR</td>\n",
       "      <td>CAMERON PARK</td>\n",
       "      <td>95682</td>\n",
       "      <td>CA</td>\n",
       "      <td>3</td>\n",
       "      <td>2</td>\n",
       "      <td>0</td>\n",
       "      <td>Residential</td>\n",
       "      <td>Thu May 15 00:00:00 EDT 2008</td>\n",
       "      <td>224500</td>\n",
       "      <td>38.697570</td>\n",
       "      <td>-120.995739</td>\n",
       "    </tr>\n",
       "  </tbody>\n",
       "</table>\n",
       "<p>63 rows × 12 columns</p>\n",
       "</div>"
      ],
      "text/plain": [
       "                                 street             city    zip state  beds  \\\n",
       "132                 3020 RICHARDSON CIR  EL DORADO HILLS  95762    CA     3   \n",
       "154                    6030 PALERMO WAY  EL DORADO HILLS  95762    CA     4   \n",
       "155                     4070 REDONDO DR  EL DORADO HILLS  95762    CA     4   \n",
       "157                        315 JUMEL CT  EL DORADO HILLS  95762    CA     6   \n",
       "223                      2778 KAWEAH CT     CAMERON PARK  95682    CA     3   \n",
       "..                                  ...              ...    ...   ...   ...   \n",
       "863                    2982 ABERDEEN LN  EL DORADO HILLS  95762    CA     4   \n",
       "865                3720 VISTA DE MADERA          LINCOLN  95648    CA     3   \n",
       "922  10001 WOODCREEK OAKS BLVD Unit 815        ROSEVILLE  95747    CA     2   \n",
       "966                    9197 CORTINA CIR        ROSEVILLE  95678    CA     3   \n",
       "973                2181 WINTERHAVEN CIR     CAMERON PARK  95682    CA     3   \n",
       "\n",
       "     baths  sq__ft         type                     sale_date   price  \\\n",
       "132      2       0  Residential  Wed May 21 00:00:00 EDT 2008  352000   \n",
       "154      3       0  Residential  Wed May 21 00:00:00 EDT 2008  600000   \n",
       "155      3       0  Residential  Wed May 21 00:00:00 EDT 2008  606238   \n",
       "157      5       0  Residential  Wed May 21 00:00:00 EDT 2008  830000   \n",
       "223      1       0  Residential  Tue May 20 00:00:00 EDT 2008  201000   \n",
       "..     ...     ...          ...                           ...     ...   \n",
       "863      3       0  Residential  Fri May 16 00:00:00 EDT 2008  879000   \n",
       "865      3       0  Residential  Fri May 16 00:00:00 EDT 2008    1551   \n",
       "922      2       0        Condo  Thu May 15 00:00:00 EDT 2008  170000   \n",
       "966      2       0        Condo  Thu May 15 00:00:00 EDT 2008  220000   \n",
       "973      2       0  Residential  Thu May 15 00:00:00 EDT 2008  224500   \n",
       "\n",
       "      latitude   longitude  \n",
       "132  38.691299 -121.081752  \n",
       "154  38.672761 -121.050378  \n",
       "155  38.666807 -121.064830  \n",
       "157  38.669931 -121.059580  \n",
       "223  38.694052 -120.995589  \n",
       "..         ...         ...  \n",
       "863  38.706692 -121.058869  \n",
       "865  38.851645 -121.231742  \n",
       "922  38.795529 -121.328819  \n",
       "966  38.793152 -121.290025  \n",
       "973  38.697570 -120.995739  \n",
       "\n",
       "[63 rows x 12 columns]"
      ]
     },
     "execution_count": 18,
     "metadata": {},
     "output_type": "execute_result"
    }
   ],
   "source": [
    "# After scatter plot can see outliner in sq__ft columns \n",
    "# Should not be 0 value because that affect SLR model\n",
    "df[df[\"sq__ft\"] == 0]"
   ]
  },
  {
   "cell_type": "code",
   "execution_count": 19,
   "metadata": {},
   "outputs": [],
   "source": [
    "# Decide delete for increase relationship with model \n",
    "df.drop(df[df['sq__ft'] == 0 ].index, inplace = True)"
   ]
  },
  {
   "cell_type": "code",
   "execution_count": 20,
   "metadata": {},
   "outputs": [
    {
     "data": {
      "text/html": [
       "<div>\n",
       "<style scoped>\n",
       "    .dataframe tbody tr th:only-of-type {\n",
       "        vertical-align: middle;\n",
       "    }\n",
       "\n",
       "    .dataframe tbody tr th {\n",
       "        vertical-align: top;\n",
       "    }\n",
       "\n",
       "    .dataframe thead th {\n",
       "        text-align: right;\n",
       "    }\n",
       "</style>\n",
       "<table border=\"1\" class=\"dataframe\">\n",
       "  <thead>\n",
       "    <tr style=\"text-align: right;\">\n",
       "      <th></th>\n",
       "      <th>street</th>\n",
       "      <th>city</th>\n",
       "      <th>zip</th>\n",
       "      <th>state</th>\n",
       "      <th>beds</th>\n",
       "      <th>baths</th>\n",
       "      <th>sq__ft</th>\n",
       "      <th>type</th>\n",
       "      <th>sale_date</th>\n",
       "      <th>price</th>\n",
       "      <th>latitude</th>\n",
       "      <th>longitude</th>\n",
       "    </tr>\n",
       "  </thead>\n",
       "  <tbody>\n",
       "    <tr>\n",
       "      <th>866</th>\n",
       "      <td>14151 INDIO DR</td>\n",
       "      <td>SLOUGHHOUSE</td>\n",
       "      <td>95683</td>\n",
       "      <td>CA</td>\n",
       "      <td>3</td>\n",
       "      <td>4</td>\n",
       "      <td>5822</td>\n",
       "      <td>Residential</td>\n",
       "      <td>Fri May 16 00:00:00 EDT 2008</td>\n",
       "      <td>2000</td>\n",
       "      <td>38.490447</td>\n",
       "      <td>-121.129337</td>\n",
       "    </tr>\n",
       "  </tbody>\n",
       "</table>\n",
       "</div>"
      ],
      "text/plain": [
       "             street         city    zip state  beds  baths  sq__ft  \\\n",
       "866  14151 INDIO DR  SLOUGHHOUSE  95683    CA     3      4    5822   \n",
       "\n",
       "            type                     sale_date  price   latitude   longitude  \n",
       "866  Residential  Fri May 16 00:00:00 EDT 2008   2000  38.490447 -121.129337  "
      ]
     },
     "execution_count": 20,
     "metadata": {},
     "output_type": "execute_result"
    }
   ],
   "source": [
    "# After scatter plot can see outliner in price columns \n",
    "# Should not be 2000 but have more beds,bath and sq_ft\n",
    "df[df[\"price\"] <= 2000]"
   ]
  },
  {
   "cell_type": "code",
   "execution_count": 21,
   "metadata": {},
   "outputs": [],
   "source": [
    "# Decide delete for increase relationship with model \n",
    "df.drop(df[df[\"price\"] <= 2000].index, inplace = True)"
   ]
  },
  {
   "cell_type": "code",
   "execution_count": 22,
   "metadata": {},
   "outputs": [
    {
     "name": "stdout",
     "output_type": "stream",
     "text": [
      "<class 'pandas.core.frame.DataFrame'>\n",
      "Int64Index: 810 entries, 0 to 984\n",
      "Data columns (total 12 columns):\n",
      " #   Column     Non-Null Count  Dtype  \n",
      "---  ------     --------------  -----  \n",
      " 0   street     810 non-null    object \n",
      " 1   city       810 non-null    object \n",
      " 2   zip        810 non-null    int64  \n",
      " 3   state      810 non-null    object \n",
      " 4   beds       810 non-null    int64  \n",
      " 5   baths      810 non-null    int64  \n",
      " 6   sq__ft     810 non-null    int64  \n",
      " 7   type       810 non-null    object \n",
      " 8   sale_date  810 non-null    object \n",
      " 9   price      810 non-null    int64  \n",
      " 10  latitude   810 non-null    float64\n",
      " 11  longitude  810 non-null    float64\n",
      "dtypes: float64(2), int64(5), object(5)\n",
      "memory usage: 82.3+ KB\n"
     ]
    }
   ],
   "source": [
    "# Recheck (874-1-62 = 810 row)\n",
    "df.info()"
   ]
  },
  {
   "cell_type": "code",
   "execution_count": 23,
   "metadata": {},
   "outputs": [
    {
     "data": {
      "text/html": [
       "<div>\n",
       "<style scoped>\n",
       "    .dataframe tbody tr th:only-of-type {\n",
       "        vertical-align: middle;\n",
       "    }\n",
       "\n",
       "    .dataframe tbody tr th {\n",
       "        vertical-align: top;\n",
       "    }\n",
       "\n",
       "    .dataframe thead th {\n",
       "        text-align: right;\n",
       "    }\n",
       "</style>\n",
       "<table border=\"1\" class=\"dataframe\">\n",
       "  <thead>\n",
       "    <tr style=\"text-align: right;\">\n",
       "      <th></th>\n",
       "      <th>zip</th>\n",
       "      <th>beds</th>\n",
       "      <th>baths</th>\n",
       "      <th>sq__ft</th>\n",
       "      <th>price</th>\n",
       "      <th>latitude</th>\n",
       "      <th>longitude</th>\n",
       "    </tr>\n",
       "  </thead>\n",
       "  <tbody>\n",
       "    <tr>\n",
       "      <th>count</th>\n",
       "      <td>810.000000</td>\n",
       "      <td>810.000000</td>\n",
       "      <td>810.000000</td>\n",
       "      <td>810.000000</td>\n",
       "      <td>810.000000</td>\n",
       "      <td>810.000000</td>\n",
       "      <td>810.000000</td>\n",
       "    </tr>\n",
       "    <tr>\n",
       "      <th>mean</th>\n",
       "      <td>95761.598765</td>\n",
       "      <td>3.248148</td>\n",
       "      <td>1.960494</td>\n",
       "      <td>1587.991358</td>\n",
       "      <td>230028.069136</td>\n",
       "      <td>38.576913</td>\n",
       "      <td>-121.378851</td>\n",
       "    </tr>\n",
       "    <tr>\n",
       "      <th>std</th>\n",
       "      <td>85.303433</td>\n",
       "      <td>0.848996</td>\n",
       "      <td>0.665906</td>\n",
       "      <td>647.645647</td>\n",
       "      <td>119697.367127</td>\n",
       "      <td>0.126448</td>\n",
       "      <td>0.119571</td>\n",
       "    </tr>\n",
       "    <tr>\n",
       "      <th>min</th>\n",
       "      <td>95603.000000</td>\n",
       "      <td>1.000000</td>\n",
       "      <td>1.000000</td>\n",
       "      <td>484.000000</td>\n",
       "      <td>30000.000000</td>\n",
       "      <td>38.241514</td>\n",
       "      <td>-121.550527</td>\n",
       "    </tr>\n",
       "    <tr>\n",
       "      <th>25%</th>\n",
       "      <td>95670.000000</td>\n",
       "      <td>3.000000</td>\n",
       "      <td>2.000000</td>\n",
       "      <td>1144.500000</td>\n",
       "      <td>148812.500000</td>\n",
       "      <td>38.473785</td>\n",
       "      <td>-121.451501</td>\n",
       "    </tr>\n",
       "    <tr>\n",
       "      <th>50%</th>\n",
       "      <td>95820.000000</td>\n",
       "      <td>3.000000</td>\n",
       "      <td>2.000000</td>\n",
       "      <td>1419.500000</td>\n",
       "      <td>208000.000000</td>\n",
       "      <td>38.591720</td>\n",
       "      <td>-121.405456</td>\n",
       "    </tr>\n",
       "    <tr>\n",
       "      <th>75%</th>\n",
       "      <td>95828.000000</td>\n",
       "      <td>4.000000</td>\n",
       "      <td>2.000000</td>\n",
       "      <td>1851.000000</td>\n",
       "      <td>285000.000000</td>\n",
       "      <td>38.674704</td>\n",
       "      <td>-121.326348</td>\n",
       "    </tr>\n",
       "    <tr>\n",
       "      <th>max</th>\n",
       "      <td>95864.000000</td>\n",
       "      <td>8.000000</td>\n",
       "      <td>5.000000</td>\n",
       "      <td>4400.000000</td>\n",
       "      <td>884790.000000</td>\n",
       "      <td>39.008159</td>\n",
       "      <td>-120.597599</td>\n",
       "    </tr>\n",
       "  </tbody>\n",
       "</table>\n",
       "</div>"
      ],
      "text/plain": [
       "                zip        beds       baths       sq__ft          price  \\\n",
       "count    810.000000  810.000000  810.000000   810.000000     810.000000   \n",
       "mean   95761.598765    3.248148    1.960494  1587.991358  230028.069136   \n",
       "std       85.303433    0.848996    0.665906   647.645647  119697.367127   \n",
       "min    95603.000000    1.000000    1.000000   484.000000   30000.000000   \n",
       "25%    95670.000000    3.000000    2.000000  1144.500000  148812.500000   \n",
       "50%    95820.000000    3.000000    2.000000  1419.500000  208000.000000   \n",
       "75%    95828.000000    4.000000    2.000000  1851.000000  285000.000000   \n",
       "max    95864.000000    8.000000    5.000000  4400.000000  884790.000000   \n",
       "\n",
       "         latitude   longitude  \n",
       "count  810.000000  810.000000  \n",
       "mean    38.576913 -121.378851  \n",
       "std      0.126448    0.119571  \n",
       "min     38.241514 -121.550527  \n",
       "25%     38.473785 -121.451501  \n",
       "50%     38.591720 -121.405456  \n",
       "75%     38.674704 -121.326348  \n",
       "max     39.008159 -120.597599  "
      ]
     },
     "execution_count": 23,
     "metadata": {},
     "output_type": "execute_result"
    }
   ],
   "source": [
    "# Recheck out the summary statistics\n",
    "df.describe()"
   ]
  },
  {
   "cell_type": "markdown",
   "metadata": {},
   "source": [
    "When you've finished cleaning or have made a good deal of progress cleaning, it's always a good idea to save your work. Use the pandas `to_csv` method to export your cleaned dataset.\n",
    "\n",
    "```python\n",
    "# example -- your dataframe name may be different\n",
    "dataframe.to_csv('./datasets/sacramento_cleaned_dataframe.csv', index=False)\n",
    "\n",
    "```"
   ]
  },
  {
   "cell_type": "code",
   "execution_count": 24,
   "metadata": {},
   "outputs": [],
   "source": [
    "# Save cleaning dataframe \n",
    "df.to_csv('./datasets/sacramento_cleaned_dataframe.csv', index=False)"
   ]
  },
  {
   "cell_type": "markdown",
   "metadata": {},
   "source": [
    "### 3. Our goal will be to predict price. List variables that you think qualify as predictors of price in an SLR model.\n",
    "\n",
    "For each of the variables you believe should be considered, generate a plot showing the relationship between the independent and dependent variables."
   ]
  },
  {
   "cell_type": "code",
   "execution_count": 25,
   "metadata": {},
   "outputs": [],
   "source": [
    "# Read cleaning dataframe \n",
    "train = pd.read_csv('./datasets/sacramento_cleaned_dataframe.csv')"
   ]
  },
  {
   "cell_type": "code",
   "execution_count": 26,
   "metadata": {},
   "outputs": [
    {
     "data": {
      "text/html": [
       "<div>\n",
       "<style scoped>\n",
       "    .dataframe tbody tr th:only-of-type {\n",
       "        vertical-align: middle;\n",
       "    }\n",
       "\n",
       "    .dataframe tbody tr th {\n",
       "        vertical-align: top;\n",
       "    }\n",
       "\n",
       "    .dataframe thead th {\n",
       "        text-align: right;\n",
       "    }\n",
       "</style>\n",
       "<table border=\"1\" class=\"dataframe\">\n",
       "  <thead>\n",
       "    <tr style=\"text-align: right;\">\n",
       "      <th></th>\n",
       "      <th>zip</th>\n",
       "      <th>beds</th>\n",
       "      <th>baths</th>\n",
       "      <th>sq__ft</th>\n",
       "      <th>price</th>\n",
       "      <th>latitude</th>\n",
       "      <th>longitude</th>\n",
       "    </tr>\n",
       "  </thead>\n",
       "  <tbody>\n",
       "    <tr>\n",
       "      <th>zip</th>\n",
       "      <td>1.000000</td>\n",
       "      <td>-0.067800</td>\n",
       "      <td>-0.098137</td>\n",
       "      <td>-0.096216</td>\n",
       "      <td>-0.222935</td>\n",
       "      <td>-0.133781</td>\n",
       "      <td>-0.561458</td>\n",
       "    </tr>\n",
       "    <tr>\n",
       "      <th>beds</th>\n",
       "      <td>-0.067800</td>\n",
       "      <td>1.000000</td>\n",
       "      <td>0.657982</td>\n",
       "      <td>0.716979</td>\n",
       "      <td>0.443219</td>\n",
       "      <td>-0.107879</td>\n",
       "      <td>0.052791</td>\n",
       "    </tr>\n",
       "    <tr>\n",
       "      <th>baths</th>\n",
       "      <td>-0.098137</td>\n",
       "      <td>0.657982</td>\n",
       "      <td>1.000000</td>\n",
       "      <td>0.722341</td>\n",
       "      <td>0.512347</td>\n",
       "      <td>-0.078771</td>\n",
       "      <td>0.098522</td>\n",
       "    </tr>\n",
       "    <tr>\n",
       "      <th>sq__ft</th>\n",
       "      <td>-0.096216</td>\n",
       "      <td>0.716979</td>\n",
       "      <td>0.722341</td>\n",
       "      <td>1.000000</td>\n",
       "      <td>0.728268</td>\n",
       "      <td>-0.099697</td>\n",
       "      <td>0.121558</td>\n",
       "    </tr>\n",
       "    <tr>\n",
       "      <th>price</th>\n",
       "      <td>-0.222935</td>\n",
       "      <td>0.443219</td>\n",
       "      <td>0.512347</td>\n",
       "      <td>0.728268</td>\n",
       "      <td>1.000000</td>\n",
       "      <td>0.057508</td>\n",
       "      <td>0.284505</td>\n",
       "    </tr>\n",
       "    <tr>\n",
       "      <th>latitude</th>\n",
       "      <td>-0.133781</td>\n",
       "      <td>-0.107879</td>\n",
       "      <td>-0.078771</td>\n",
       "      <td>-0.099697</td>\n",
       "      <td>0.057508</td>\n",
       "      <td>1.000000</td>\n",
       "      <td>0.347813</td>\n",
       "    </tr>\n",
       "    <tr>\n",
       "      <th>longitude</th>\n",
       "      <td>-0.561458</td>\n",
       "      <td>0.052791</td>\n",
       "      <td>0.098522</td>\n",
       "      <td>0.121558</td>\n",
       "      <td>0.284505</td>\n",
       "      <td>0.347813</td>\n",
       "      <td>1.000000</td>\n",
       "    </tr>\n",
       "  </tbody>\n",
       "</table>\n",
       "</div>"
      ],
      "text/plain": [
       "                zip      beds     baths    sq__ft     price  latitude  \\\n",
       "zip        1.000000 -0.067800 -0.098137 -0.096216 -0.222935 -0.133781   \n",
       "beds      -0.067800  1.000000  0.657982  0.716979  0.443219 -0.107879   \n",
       "baths     -0.098137  0.657982  1.000000  0.722341  0.512347 -0.078771   \n",
       "sq__ft    -0.096216  0.716979  0.722341  1.000000  0.728268 -0.099697   \n",
       "price     -0.222935  0.443219  0.512347  0.728268  1.000000  0.057508   \n",
       "latitude  -0.133781 -0.107879 -0.078771 -0.099697  0.057508  1.000000   \n",
       "longitude -0.561458  0.052791  0.098522  0.121558  0.284505  0.347813   \n",
       "\n",
       "           longitude  \n",
       "zip        -0.561458  \n",
       "beds        0.052791  \n",
       "baths       0.098522  \n",
       "sq__ft      0.121558  \n",
       "price       0.284505  \n",
       "latitude    0.347813  \n",
       "longitude   1.000000  "
      ]
     },
     "execution_count": 26,
     "metadata": {},
     "output_type": "execute_result"
    }
   ],
   "source": [
    "# Check correlation in each columns  \n",
    "train.corr()"
   ]
  },
  {
   "cell_type": "code",
   "execution_count": 27,
   "metadata": {},
   "outputs": [
    {
     "data": {
      "image/png": "[encoded data removed]",
      "text/plain": [
       "<Figure size 432x288 with 2 Axes>"
      ]
     },
     "metadata": {
      "needs_background": "light"
     },
     "output_type": "display_data"
    }
   ],
   "source": [
    "# Create heatmap\n",
    "sns.heatmap(train.corr()[[\"price\"]].sort_values(by=\"price\", \n",
    "            ascending=False), cmap=\"coolwarm\", vmax=1, vmin = -1,annot=True)\n",
    "plt.yticks(rotation=0);"
   ]
  },
  {
   "cell_type": "markdown",
   "metadata": {},
   "source": [
    "sqft, baths, and beds are good predictors of price"
   ]
  },
  {
   "cell_type": "code",
   "execution_count": 28,
   "metadata": {},
   "outputs": [
    {
     "data": {
      "image/png": "[encoded data removed]",
      "text/plain": [
       "<Figure size 1260x1260 with 35 Axes>"
      ]
     },
     "metadata": {
      "needs_background": "light"
     },
     "output_type": "display_data"
    }
   ],
   "source": [
    "# Create pairplot\n",
    "sns.pairplot(train, corner=True);"
   ]
  },
  {
   "cell_type": "markdown",
   "metadata": {},
   "source": [
    "### 4. Which variable would be the best predictor of Y in an SLR model? Why?"
   ]
  },
  {
   "cell_type": "markdown",
   "metadata": {},
   "source": [
    "sqft has the highest correlation to price (0.69) and look like linear relationship(pairplot),\n",
    "so it is likely the best predictor of price."
   ]
  },
  {
   "cell_type": "markdown",
   "metadata": {},
   "source": [
    "### 5. Write a function that will take in two lists, `x` and `y`, and return the intercept and slope coefficients that minimize SSE. \n",
    "\n",
    "`y` is the target variable, and `x` is the predictor variable.\n",
    "\n",
    "**Don't use scikit-learn for this**. Instead, use numpy and scipy.\n",
    "\n",
    "The slope and intercept of simple linear regression can be calculated by using certain summary statistics. In particular, we'll need to know:\n",
    "\n",
    "- $\\bar{x}$, the mean of `x`\n",
    "- $\\bar{y}$, the mean of `y`\n",
    "- $s_{x}$, the standard deviation of `x`\n",
    "- $s_{y}$, the standard deviation of `y`\n",
    "- $r_{xy}$, the correlation of `x` and `y`\n",
    "\n",
    "Given these summary statistics, the **coefficient on `X`** (or the slope) can be given by $\\beta_{1} = r_{xy} * \\frac{s_{y}}{s_{x}}$. The **intercept of the model** can be given by $\\beta_{0} = \\bar{y} - \\beta_{1}\\bar{x}$.\n",
    "\n",
    "Your function should take in `x` and `y`, then use the above summary statistics to calculate the slope and intercept.\n",
    "\n",
    "- **Test your function on price and the variable you determined was the best predictor in Problem 4.**\n",
    "- **Report the slope and intercept.**"
   ]
  },
  {
   "cell_type": "code",
   "execution_count": 29,
   "metadata": {},
   "outputs": [],
   "source": [
    "# train[train[\"price\"]<=10000] It's outliner. decided to drop(back cleaning step) "
   ]
  },
  {
   "cell_type": "code",
   "execution_count": 30,
   "metadata": {},
   "outputs": [
    {
     "data": {
      "image/png": "[encoded data removed]",
      "text/plain": [
       "<Figure size 360x360 with 1 Axes>"
      ]
     },
     "metadata": {
      "needs_background": "light"
     },
     "output_type": "display_data"
    }
   ],
   "source": [
    "sns.lmplot(x=\"price\",y=\"sq__ft\", data=train, ci=False);"
   ]
  },
  {
   "cell_type": "code",
   "execution_count": 31,
   "metadata": {},
   "outputs": [],
   "source": [
    "# Select the features sq__ft for predicting y assign them to X\n",
    "X_sqft = train[['sq__ft']]"
   ]
  },
  {
   "cell_type": "code",
   "execution_count": 32,
   "metadata": {},
   "outputs": [
    {
     "data": {
      "text/plain": [
       "(810, 1)"
      ]
     },
     "execution_count": 32,
     "metadata": {},
     "output_type": "execute_result"
    }
   ],
   "source": [
    "# Recheck dimension \n",
    "X_sqft.shape"
   ]
  },
  {
   "cell_type": "code",
   "execution_count": 33,
   "metadata": {},
   "outputs": [],
   "source": [
    "# Select the target variable and assign that series to y\n",
    "y = train[\"price\"]"
   ]
  },
  {
   "cell_type": "code",
   "execution_count": 34,
   "metadata": {},
   "outputs": [
    {
     "data": {
      "text/plain": [
       "(810,)"
      ]
     },
     "execution_count": 34,
     "metadata": {},
     "output_type": "execute_result"
    }
   ],
   "source": [
    "# Recheck dimension \n",
    "y.shape"
   ]
  },
  {
   "cell_type": "markdown",
   "metadata": {},
   "source": [
    "### 6. Interpret the intercept and the slope."
   ]
  },
  {
   "cell_type": "code",
   "execution_count": 36,
   "metadata": {
    "scrolled": true
   },
   "outputs": [
    {
     "name": "stdout",
     "output_type": "stream",
     "text": [
      "Slope of sq(ft) : 134.59798235895542\n",
      "Intercept of sq(ft) : 16287.636342221405\n"
     ]
    }
   ],
   "source": [
    "lrsqft = LinearRegression() \n",
    "lrsqft.fit(X_sqft,y)\n",
    "print(f\"Slope of sq(ft) : {lrsqft.coef_[0]}\")\n",
    "print(f\"Intercept of sq(ft) : {lrsqft.intercept_}\") "
   ]
  },
  {
   "cell_type": "code",
   "execution_count": 38,
   "metadata": {},
   "outputs": [
    {
     "data": {
      "text/plain": [
       "0.47603182855993664"
      ]
     },
     "execution_count": 38,
     "metadata": {},
     "output_type": "execute_result"
    }
   ],
   "source": [
    "# Check how much our new feature moves the $R^2$ score\n",
    "cross_val_score(lrsqft, X_sqft, y).mean()"
   ]
  },
  {
   "cell_type": "markdown",
   "metadata": {},
   "source": [
    "### 7. Give an example of how this model could be used for prediction and how it could be used for inference. \n",
    "\n",
    "**Be sure to make it clear which example is associated with prediction and which is associated with inference.**"
   ]
  },
  {
   "cell_type": "code",
   "execution_count": 39,
   "metadata": {},
   "outputs": [],
   "source": [
    "y_preds_sqft = lrsqft.predict(X_sqft)"
   ]
  },
  {
   "cell_type": "code",
   "execution_count": 40,
   "metadata": {},
   "outputs": [
    {
     "data": {
      "text/plain": [
       "<matplotlib.collections.PathCollection at 0x17611ede670>"
      ]
     },
     "execution_count": 40,
     "metadata": {},
     "output_type": "execute_result"
    },
    {
     "data": {
      "image/png": "[encoded data removed]",
      "text/plain": [
       "<Figure size 432x288 with 1 Axes>"
      ]
     },
     "metadata": {
      "needs_background": "light"
     },
     "output_type": "display_data"
    }
   ],
   "source": [
    "# L: Relationship between sq_ft and price look like linear \n",
    "plt.scatter(X_sqft[\"sq__ft\"],y,s=1)"
   ]
  },
  {
   "cell_type": "code",
   "execution_count": 41,
   "metadata": {},
   "outputs": [],
   "source": [
    "# I: We observations is in pairplot that is not affect one another"
   ]
  },
  {
   "cell_type": "code",
   "execution_count": 42,
   "metadata": {},
   "outputs": [],
   "source": [
    "# N: NO! (Right skew) \n",
    "# residuals = y-y_preds_sqft\n",
    "# plt.hist(resids, bins=50);"
   ]
  },
  {
   "cell_type": "code",
   "execution_count": 47,
   "metadata": {},
   "outputs": [
    {
     "data": {
      "text/plain": [
       "0    -69589.549594\n",
       "1   -105151.481755\n",
       "2    -54547.630300\n",
       "3    -61658.117312\n",
       "4    -41662.228282\n",
       "Name: price, dtype: float64"
      ]
     },
     "execution_count": 47,
     "metadata": {},
     "output_type": "execute_result"
    }
   ],
   "source": [
    "residuals = y - y_preds_sqft\n",
    "residuals[:5]"
   ]
  },
  {
   "cell_type": "code",
   "execution_count": 48,
   "metadata": {},
   "outputs": [
    {
     "data": {
      "image/png": "[encoded data removed]",
      "text/plain": [
       "<Figure size 432x288 with 1 Axes>"
      ]
     },
     "metadata": {
      "needs_background": "light"
     },
     "output_type": "display_data"
    }
   ],
   "source": [
    "# E: Rather homoscedasticity\n",
    "plt.scatter(y_preds_sqft,residuals,s=1)\n",
    "plt.axhline(0, color=\"orange\");"
   ]
  },
  {
   "cell_type": "markdown",
   "metadata": {},
   "source": [
    "### 8: Using the model you came up with in Problem 5, calculate and plot the residuals."
   ]
  },
  {
   "cell_type": "code",
   "execution_count": 49,
   "metadata": {},
   "outputs": [
    {
     "name": "stdout",
     "output_type": "stream",
     "text": [
      "R^2: 0.530374707800233\n",
      "MAE: 59340.688772877445\n",
      "MSE: 6720230610.415381\n",
      "RMSE: 81977.01269511705\n"
     ]
    }
   ],
   "source": [
    "print(f'R^2: {lrsqft.score(X_sqft, y)}')\n",
    "print(f'MAE: {metrics.mean_absolute_error(y, y_preds_sqft)}')\n",
    "print(f'MSE: {metrics.mean_squared_error(y,y_preds_sqft)}')\n",
    "print(f'RMSE: {metrics.mean_squared_error(y, y_preds_sqft, squared=False)}')"
   ]
  },
  {
   "cell_type": "code",
   "execution_count": 50,
   "metadata": {},
   "outputs": [
    {
     "data": {
      "image/png": "[encoded data removed]",
      "text/plain": [
       "<Figure size 1440x720 with 1 Axes>"
      ]
     },
     "metadata": {
      "needs_background": "light"
     },
     "output_type": "display_data"
    }
   ],
   "source": [
    "plt.figure(figsize=(20,10))\n",
    "plt.scatter(X_sqft[\"sq__ft\"], residuals)\n",
    "plt.axhline(np.std(residuals), color = \"orange\") #+1SD\n",
    "plt.axhline((np.std(residuals))*-1, color = \"orange\"); #-1SD"
   ]
  },
  {
   "cell_type": "markdown",
   "metadata": {},
   "source": [
    "---\n",
    "\n",
    "## Dummy Variables\n",
    "\n",
    "It is important to be cautious with categorical variables, which represent distinct groups or categories, when building a regression. If put in a regression \"as-is,\" categorical variables represented as integers will be treated like *continuous* variables.\n",
    "\n",
    "That is to say, instead of group \"3\" having a different effect on the estimation than group \"1\" it will estimate literally 3 times more than group 1. \n",
    "\n",
    "For example, if occupation category \"1\" represents \"analyst\" and occupation category \"3\" represents \"barista\", and our target variable is salary, if we leave this as a column of integers then barista will always have `beta*3` the effect of analyst.\n",
    "\n",
    "This will almost certainly force the beta coefficient to be something strange and incorrect. Instead, we can re-represent the categories as multiple \"dummy coded\" columns.\n",
    "\n"
   ]
  },
  {
   "cell_type": "markdown",
   "metadata": {},
   "source": [
    "#### A Word of Caution When Creating Dummies\n",
    "\n",
    "Let's touch on precautions we should take when dummy coding.\n",
    "\n",
    "**If you convert a qualitative variable to dummy variables, you want to turn a variable with N categories into N-1 variables.**\n",
    "\n",
    "> **Scenario 1:** Suppose we're working with the variable \"sex\" or \"gender\" with values \"M\" and \"F\". \n",
    "\n",
    "You should include in your model only one variable for \"sex = F\" which takes on 1 if sex is female and 0 if sex is not female! Rather than saying \"a one unit change in X,\" the coefficient associated with \"sex = F\" is interpreted as the average change in Y when sex = F relative to when sex = M.\n",
    "\n",
    "| Female | Male | \n",
    "|-------|------|\n",
    "| 0 | 1 | \n",
    "| 1 | 0 |\n",
    "| 0 | 1 |\n",
    "| 1 | 0 |\n",
    "| 1 | 0 |\n",
    "_As we can see a 1 in the female column indicates a 0 in the male column. And so, we have two columns stating the same information in different ways._\n",
    "\n",
    "> Scenario 2: Suppose we're modeling revenue at a bar for each of the days of the week. We have a column with strings identifying which day of the week this observation occurred in.\n",
    "\n",
    "We might include six of the days as their own variables: \"Monday\", \"Tuesday\", \"Wednesday\", \"Thursday\", \"Friday\", \"Saturday\". **But not all 7 days.**  \n",
    "\n",
    "|Monday | Tuesday | Wednesday | Thursday | Friday | Saturday | \n",
    "|-------|---------|-----------|----------|--------|----------|\n",
    "| 1     | 0       |0          |      0   |0       | 0        | \n",
    "| 0     | 1       |0          |      0   |0       | 0        | \n",
    "| 0     | 0       |1          |      0   |0       | 0        | \n",
    "| 0     | 0       |0          |      1   |0       | 0        | \n",
    "| 0     | 0       |0          |      0   |1       | 0        | \n",
    "| 0     | 0       |0          |      0   |0       | 1        | \n",
    "| 0     | 0       |0          |      0   |0       | 0        | \n",
    "\n",
    "_As humans we can infer from the last row that if its is not Monday, Tuesday, Wednesday, Thursday, Friday or Saturday, it must be Sunday. Models work the same way._\n",
    "\n",
    "The coefficient for Monday is then interpreted as the average change in revenue when \"day = Monday\" relative to \"day = Sunday.\" The coefficient for Tuesday is interpreted as the average change in revenue when \"day = Tuesday\" relative to \"day = Sunday\" and so on.\n",
    "\n",
    "The category you leave out, which the other columns are *relative to*, is often referred to as the **reference category**.\n",
    "\n",
    "### 9. Use the `pd.get_dummies` function to convert the `type` column into dummy-coded variables."
   ]
  },
  {
   "cell_type": "code",
   "execution_count": 116,
   "metadata": {
    "scrolled": false
   },
   "outputs": [
    {
     "data": {
      "text/plain": [
       "38.423251    4\n",
       "38.710221    2\n",
       "38.658812    2\n",
       "38.734136    2\n",
       "38.646677    2\n",
       "            ..\n",
       "38.271646    1\n",
       "38.512602    1\n",
       "38.582604    1\n",
       "38.676306    1\n",
       "38.655245    1\n",
       "Name: latitude, Length: 802, dtype: int64"
      ]
     },
     "execution_count": 116,
     "metadata": {},
     "output_type": "execute_result"
    }
   ],
   "source": [
    "train['latitude'].value_counts()"
   ]
  },
  {
   "cell_type": "code",
   "execution_count": 104,
   "metadata": {},
   "outputs": [],
   "source": [
    "# ['city','zip','state','beds','baths','sq__ft','type','sale_date','price','latitude','longitude']\n",
    "x_vars = ['city','beds','baths','sq__ft','type']\n",
    "X = train[x_vars]\n",
    "X = pd.get_dummies(columns= [\"city\",\"type\"], data = X)"
   ]
  },
  {
   "cell_type": "code",
   "execution_count": 105,
   "metadata": {},
   "outputs": [
    {
     "data": {
      "text/plain": [
       "(810, 41)"
      ]
     },
     "execution_count": 105,
     "metadata": {},
     "output_type": "execute_result"
    }
   ],
   "source": [
    "X.shape"
   ]
  },
  {
   "cell_type": "markdown",
   "metadata": {},
   "source": [
    "### 10. Check the dummy columns you've created. Do they all make sense?\n",
    "\n",
    "Use `.head()` on the new dataframe you've created. Depending on how you cleaned the data earlier in this notebook, there may be a dummy column that needs to be removed. Check that all the columns you've created make sense, and if any of the columns seem to be errors, drop them. If there don't appear to be any errors, then move on to the next step!"
   ]
  },
  {
   "cell_type": "code",
   "execution_count": 106,
   "metadata": {},
   "outputs": [
    {
     "data": {
      "text/html": [
       "<div>\n",
       "<style scoped>\n",
       "    .dataframe tbody tr th:only-of-type {\n",
       "        vertical-align: middle;\n",
       "    }\n",
       "\n",
       "    .dataframe tbody tr th {\n",
       "        vertical-align: top;\n",
       "    }\n",
       "\n",
       "    .dataframe thead th {\n",
       "        text-align: right;\n",
       "    }\n",
       "</style>\n",
       "<table border=\"1\" class=\"dataframe\">\n",
       "  <thead>\n",
       "    <tr style=\"text-align: right;\">\n",
       "      <th></th>\n",
       "      <th>beds</th>\n",
       "      <th>baths</th>\n",
       "      <th>sq__ft</th>\n",
       "      <th>city_ANTELOPE</th>\n",
       "      <th>city_AUBURN</th>\n",
       "      <th>city_CAMERON PARK</th>\n",
       "      <th>city_CARMICHAEL</th>\n",
       "      <th>city_CITRUS HEIGHTS</th>\n",
       "      <th>city_COOL</th>\n",
       "      <th>city_DIAMOND SPRINGS</th>\n",
       "      <th>...</th>\n",
       "      <th>city_RIO LINDA</th>\n",
       "      <th>city_ROCKLIN</th>\n",
       "      <th>city_ROSEVILLE</th>\n",
       "      <th>city_SACRAMENTO</th>\n",
       "      <th>city_WALNUT GROVE</th>\n",
       "      <th>city_WEST SACRAMENTO</th>\n",
       "      <th>city_WILTON</th>\n",
       "      <th>type_Condo</th>\n",
       "      <th>type_Multi-Family</th>\n",
       "      <th>type_Residential</th>\n",
       "    </tr>\n",
       "  </thead>\n",
       "  <tbody>\n",
       "    <tr>\n",
       "      <th>0</th>\n",
       "      <td>2</td>\n",
       "      <td>1</td>\n",
       "      <td>836</td>\n",
       "      <td>0</td>\n",
       "      <td>0</td>\n",
       "      <td>0</td>\n",
       "      <td>0</td>\n",
       "      <td>0</td>\n",
       "      <td>0</td>\n",
       "      <td>0</td>\n",
       "      <td>...</td>\n",
       "      <td>0</td>\n",
       "      <td>0</td>\n",
       "      <td>0</td>\n",
       "      <td>1</td>\n",
       "      <td>0</td>\n",
       "      <td>0</td>\n",
       "      <td>0</td>\n",
       "      <td>0</td>\n",
       "      <td>0</td>\n",
       "      <td>1</td>\n",
       "    </tr>\n",
       "    <tr>\n",
       "      <th>1</th>\n",
       "      <td>3</td>\n",
       "      <td>1</td>\n",
       "      <td>1167</td>\n",
       "      <td>0</td>\n",
       "      <td>0</td>\n",
       "      <td>0</td>\n",
       "      <td>0</td>\n",
       "      <td>0</td>\n",
       "      <td>0</td>\n",
       "      <td>0</td>\n",
       "      <td>...</td>\n",
       "      <td>0</td>\n",
       "      <td>0</td>\n",
       "      <td>0</td>\n",
       "      <td>1</td>\n",
       "      <td>0</td>\n",
       "      <td>0</td>\n",
       "      <td>0</td>\n",
       "      <td>0</td>\n",
       "      <td>0</td>\n",
       "      <td>1</td>\n",
       "    </tr>\n",
       "    <tr>\n",
       "      <th>2</th>\n",
       "      <td>2</td>\n",
       "      <td>1</td>\n",
       "      <td>796</td>\n",
       "      <td>0</td>\n",
       "      <td>0</td>\n",
       "      <td>0</td>\n",
       "      <td>0</td>\n",
       "      <td>0</td>\n",
       "      <td>0</td>\n",
       "      <td>0</td>\n",
       "      <td>...</td>\n",
       "      <td>0</td>\n",
       "      <td>0</td>\n",
       "      <td>0</td>\n",
       "      <td>1</td>\n",
       "      <td>0</td>\n",
       "      <td>0</td>\n",
       "      <td>0</td>\n",
       "      <td>0</td>\n",
       "      <td>0</td>\n",
       "      <td>1</td>\n",
       "    </tr>\n",
       "    <tr>\n",
       "      <th>3</th>\n",
       "      <td>2</td>\n",
       "      <td>1</td>\n",
       "      <td>852</td>\n",
       "      <td>0</td>\n",
       "      <td>0</td>\n",
       "      <td>0</td>\n",
       "      <td>0</td>\n",
       "      <td>0</td>\n",
       "      <td>0</td>\n",
       "      <td>0</td>\n",
       "      <td>...</td>\n",
       "      <td>0</td>\n",
       "      <td>0</td>\n",
       "      <td>0</td>\n",
       "      <td>1</td>\n",
       "      <td>0</td>\n",
       "      <td>0</td>\n",
       "      <td>0</td>\n",
       "      <td>0</td>\n",
       "      <td>0</td>\n",
       "      <td>1</td>\n",
       "    </tr>\n",
       "    <tr>\n",
       "      <th>4</th>\n",
       "      <td>2</td>\n",
       "      <td>1</td>\n",
       "      <td>797</td>\n",
       "      <td>0</td>\n",
       "      <td>0</td>\n",
       "      <td>0</td>\n",
       "      <td>0</td>\n",
       "      <td>0</td>\n",
       "      <td>0</td>\n",
       "      <td>0</td>\n",
       "      <td>...</td>\n",
       "      <td>0</td>\n",
       "      <td>0</td>\n",
       "      <td>0</td>\n",
       "      <td>1</td>\n",
       "      <td>0</td>\n",
       "      <td>0</td>\n",
       "      <td>0</td>\n",
       "      <td>0</td>\n",
       "      <td>0</td>\n",
       "      <td>1</td>\n",
       "    </tr>\n",
       "  </tbody>\n",
       "</table>\n",
       "<p>5 rows × 41 columns</p>\n",
       "</div>"
      ],
      "text/plain": [
       "   beds  baths  sq__ft  city_ANTELOPE  city_AUBURN  city_CAMERON PARK  \\\n",
       "0     2      1     836              0            0                  0   \n",
       "1     3      1    1167              0            0                  0   \n",
       "2     2      1     796              0            0                  0   \n",
       "3     2      1     852              0            0                  0   \n",
       "4     2      1     797              0            0                  0   \n",
       "\n",
       "   city_CARMICHAEL  city_CITRUS HEIGHTS  city_COOL  city_DIAMOND SPRINGS  ...  \\\n",
       "0                0                    0          0                     0  ...   \n",
       "1                0                    0          0                     0  ...   \n",
       "2                0                    0          0                     0  ...   \n",
       "3                0                    0          0                     0  ...   \n",
       "4                0                    0          0                     0  ...   \n",
       "\n",
       "   city_RIO LINDA  city_ROCKLIN  city_ROSEVILLE  city_SACRAMENTO  \\\n",
       "0               0             0               0                1   \n",
       "1               0             0               0                1   \n",
       "2               0             0               0                1   \n",
       "3               0             0               0                1   \n",
       "4               0             0               0                1   \n",
       "\n",
       "   city_WALNUT GROVE  city_WEST SACRAMENTO  city_WILTON  type_Condo  \\\n",
       "0                  0                     0            0           0   \n",
       "1                  0                     0            0           0   \n",
       "2                  0                     0            0           0   \n",
       "3                  0                     0            0           0   \n",
       "4                  0                     0            0           0   \n",
       "\n",
       "   type_Multi-Family  type_Residential  \n",
       "0                  0                 1  \n",
       "1                  0                 1  \n",
       "2                  0                 1  \n",
       "3                  0                 1  \n",
       "4                  0                 1  \n",
       "\n",
       "[5 rows x 41 columns]"
      ]
     },
     "execution_count": 106,
     "metadata": {},
     "output_type": "execute_result"
    }
   ],
   "source": [
    "X.head()"
   ]
  },
  {
   "cell_type": "markdown",
   "metadata": {},
   "source": [
    "### 11. Build what you think may be the best MLR model predicting `price`. \n",
    "\n",
    "Choose at least three variables, and build a model that uses them to predict price. At least one of the variables you choose should be a dummy-coded variable. (This can be one we created before or a new one.) \n",
    "\n",
    "You may need to load in the scikit-learn API:\n",
    "\n",
    "```python\n",
    "from sklearn.linear_model import LinearRegression\n",
    "\n",
    "model = LinearRegression()\n",
    "```"
   ]
  },
  {
   "cell_type": "code",
   "execution_count": 107,
   "metadata": {},
   "outputs": [],
   "source": [
    "y = train[\"price\"]"
   ]
  },
  {
   "cell_type": "code",
   "execution_count": 108,
   "metadata": {},
   "outputs": [
    {
     "data": {
      "text/plain": [
       "LinearRegression()"
      ]
     },
     "execution_count": 108,
     "metadata": {},
     "output_type": "execute_result"
    }
   ],
   "source": [
    "lr = LinearRegression() \n",
    "lr.fit(X,y)"
   ]
  },
  {
   "cell_type": "code",
   "execution_count": 109,
   "metadata": {},
   "outputs": [
    {
     "name": "stdout",
     "output_type": "stream",
     "text": [
      "Slope of MLR model : [-2.10638686e+04  3.81023179e+03  1.34721110e+02 -7.40779137e+04\n",
      "  5.73995584e+04  4.38906097e+04  1.12604520e+04 -6.36765510e+04\n",
      "  2.01997100e+04 -4.26160757e+04 -2.45869697e+04 -1.11622667e+04\n",
      " -6.54777324e+04 -1.12635924e+05  1.34338310e+03  4.82081567e+04\n",
      " -6.31145487e+04  2.19495067e+02  2.25857336e+05 -7.19279115e+04\n",
      " -3.41443231e+04  3.01893646e+05 -1.27682916e+05 -1.35222707e+04\n",
      " -1.00190485e+05 -1.86271563e+04  2.45344502e+05  9.49222580e+04\n",
      " -2.78698124e+04 -7.90035806e+04 -6.57815286e+04 -6.30053094e+04\n",
      "  8.61476166e+03 -1.84837632e+04 -7.63045133e+04  6.76352422e+04\n",
      " -7.28587309e+04  9.99611718e+04 -1.55012092e+04 -1.36506644e+04\n",
      "  2.91518737e+04]\n",
      "Intercept of MLR model : 109930.90167547218\n",
      "R-squared Score of MLR model: 0.6752290996274868\n"
     ]
    }
   ],
   "source": [
    "print(f\"Slope of MLR model : {lr.coef_}\")\n",
    "print(f\"Intercept of MLR model : {lr.intercept_}\") \n",
    "print(f\"R-squared Score of MLR model: {lr.score(X,y)}\") "
   ]
  },
  {
   "cell_type": "markdown",
   "metadata": {},
   "source": [
    "### 12. Plot the true price vs the predicted price to evaluate your MLR visually.\n",
    "\n",
    "You can use matplotlib or seaborn."
   ]
  },
  {
   "cell_type": "code",
   "execution_count": 110,
   "metadata": {},
   "outputs": [],
   "source": [
    "y_preds = lr.predict(X)"
   ]
  },
  {
   "cell_type": "code",
   "execution_count": 111,
   "metadata": {},
   "outputs": [],
   "source": [
    "residuals = y - y_preds"
   ]
  },
  {
   "cell_type": "code",
   "execution_count": 112,
   "metadata": {},
   "outputs": [
    {
     "data": {
      "image/png": "[encoded data removed]",
      "text/plain": [
       "<Figure size 432x288 with 1 Axes>"
      ]
     },
     "metadata": {
      "needs_background": "light"
     },
     "output_type": "display_data"
    }
   ],
   "source": [
    "plt.hist(residuals, bins=20)\n",
    "plt.axvline(np.std(residuals), color = \"r\")\n",
    "plt.axvline(np.std(residuals)*-1, color = \"r\");"
   ]
  },
  {
   "cell_type": "code",
   "execution_count": 113,
   "metadata": {},
   "outputs": [
    {
     "data": {
      "image/png": "[encoded data removed]",
      "text/plain": [
       "<Figure size 432x288 with 1 Axes>"
      ]
     },
     "metadata": {
      "needs_background": "light"
     },
     "output_type": "display_data"
    }
   ],
   "source": [
    "plt.scatter(y_preds,residuals)\n",
    "plt.axhline(np.std(residuals), color = \"r\")\n",
    "plt.axhline(np.std(residuals)*-1, color = \"r\");"
   ]
  },
  {
   "cell_type": "markdown",
   "metadata": {},
   "source": [
    "### 13. List the five assumptions for an MLR model. \n",
    "\n",
    "Indicate which ones are the same as the assumptions for an SLR model. "
   ]
  },
  {
   "cell_type": "markdown",
   "metadata": {},
   "source": [
    "1. Linear relationship: There exists a linear relationship between each predictor variable and the response variable.\n",
    "\n",
    "2. No Multicollinearity: None of the predictor variables are highly correlated with each other.\n",
    "\n",
    "3. Independence: The observations are independent.\n",
    "\n",
    "4. Homoscedasticity: The residuals have constant variance at every point in the linear model.\n",
    "\n",
    "5. Multivariate Normality: The residuals of the model are normally distributed."
   ]
  },
  {
   "cell_type": "markdown",
   "metadata": {},
   "source": [
    "### 14. Pick at least two assumptions and explain whether or not you believe them to be met for your model, and explain why."
   ]
  },
  {
   "cell_type": "code",
   "execution_count": 114,
   "metadata": {},
   "outputs": [
    {
     "data": {
      "image/png": "[encoded data removed]",
      "text/plain": [
       "<Figure size 1440x720 with 1 Axes>"
      ]
     },
     "metadata": {
      "needs_background": "light"
     },
     "output_type": "display_data"
    }
   ],
   "source": [
    "# L: Relationship between sq_ft and price very look like linear(MLR Model)\n",
    "plt.figure(figsize=(20,10))\n",
    "plt.scatter(y_preds,y,s=10);"
   ]
  },
  {
   "cell_type": "code",
   "execution_count": 69,
   "metadata": {},
   "outputs": [
    {
     "data": {
      "image/png": "[encoded data removed]",
      "text/plain": [
       "<Figure size 1440x720 with 1 Axes>"
      ]
     },
     "metadata": {
      "needs_background": "light"
     },
     "output_type": "display_data"
    }
   ],
   "source": [
    "# Homoscedasticity: The residuals have constant variance at every point in the linear model.\n",
    "plt.figure(figsize=(20,10))\n",
    "plt.scatter(y_preds,residuals)\n",
    "plt.axhline(0, color=\"orange\");"
   ]
  },
  {
   "cell_type": "markdown",
   "metadata": {},
   "source": [
    "### 15. [Bonus] Generate a table showing the point estimates, standard errors, t-scores, p-values, and 95% confidence intervals for the model you built. \n",
    "\n",
    "**Write a few sentences interpreting some of the output.**\n",
    "\n",
    "> **Hint:** scikit-learn does not have this functionality built in, but statsmodels does in the `summary` method.  To fit the statsmodels model use something like the following.  There is one big caveat here, however!  `statsmodels.OLS` does _not_ add an intercept to your model, so you will need to do this explicitly by adding a column filled with the number 1 to your X matrix\n",
    "\n",
    "```python\n",
    "import statsmodels.api as sm\n",
    "\n",
    "# The Default here is Linear Regression (ordinary least squares regression OLS)\n",
    "model = sm.OLS(y,X).fit()\n",
    "```"
   ]
  },
  {
   "cell_type": "code",
   "execution_count": 87,
   "metadata": {},
   "outputs": [],
   "source": [
    "import statsmodels.api as sm"
   ]
  },
  {
   "cell_type": "code",
   "execution_count": 88,
   "metadata": {},
   "outputs": [],
   "source": [
    "X = sm.add_constant(X)\n",
    "model = sm.OLS(y,X).fit()"
   ]
  },
  {
   "cell_type": "code",
   "execution_count": 89,
   "metadata": {},
   "outputs": [
    {
     "data": {
      "text/html": [
       "<table class=\"simpletable\">\n",
       "<caption>OLS Regression Results</caption>\n",
       "<tr>\n",
       "  <th>Dep. Variable:</th>          <td>price</td>      <th>  R-squared:         </th> <td>   0.675</td> \n",
       "</tr>\n",
       "<tr>\n",
       "  <th>Model:</th>                   <td>OLS</td>       <th>  Adj. R-squared:    </th> <td>   0.659</td> \n",
       "</tr>\n",
       "<tr>\n",
       "  <th>Method:</th>             <td>Least Squares</td>  <th>  F-statistic:       </th> <td>   41.05</td> \n",
       "</tr>\n",
       "<tr>\n",
       "  <th>Date:</th>             <td>Thu, 15 Sep 2022</td> <th>  Prob (F-statistic):</th> <td>2.51e-160</td>\n",
       "</tr>\n",
       "<tr>\n",
       "  <th>Time:</th>                 <td>15:49:46</td>     <th>  Log-Likelihood:    </th> <td> -10164.</td> \n",
       "</tr>\n",
       "<tr>\n",
       "  <th>No. Observations:</th>      <td>   810</td>      <th>  AIC:               </th> <td>2.041e+04</td>\n",
       "</tr>\n",
       "<tr>\n",
       "  <th>Df Residuals:</th>          <td>   770</td>      <th>  BIC:               </th> <td>2.060e+04</td>\n",
       "</tr>\n",
       "<tr>\n",
       "  <th>Df Model:</th>              <td>    39</td>      <th>                     </th>     <td> </td>    \n",
       "</tr>\n",
       "<tr>\n",
       "  <th>Covariance Type:</th>      <td>nonrobust</td>    <th>                     </th>     <td> </td>    \n",
       "</tr>\n",
       "</table>\n",
       "<table class=\"simpletable\">\n",
       "<tr>\n",
       "            <td></td>              <th>coef</th>     <th>std err</th>      <th>t</th>      <th>P>|t|</th>  <th>[0.025</th>    <th>0.975]</th>  \n",
       "</tr>\n",
       "<tr>\n",
       "  <th>const</th>                <td> 8.072e+04</td> <td> 1.13e+04</td> <td>    7.118</td> <td> 0.000</td> <td> 5.85e+04</td> <td> 1.03e+05</td>\n",
       "</tr>\n",
       "<tr>\n",
       "  <th>beds</th>                 <td>-2.106e+04</td> <td> 4705.989</td> <td>   -4.476</td> <td> 0.000</td> <td>-3.03e+04</td> <td>-1.18e+04</td>\n",
       "</tr>\n",
       "<tr>\n",
       "  <th>baths</th>                <td> 3810.2318</td> <td> 5884.532</td> <td>    0.647</td> <td> 0.518</td> <td>-7741.396</td> <td> 1.54e+04</td>\n",
       "</tr>\n",
       "<tr>\n",
       "  <th>sq__ft</th>               <td>  134.7211</td> <td>    6.964</td> <td>   19.346</td> <td> 0.000</td> <td>  121.051</td> <td>  148.392</td>\n",
       "</tr>\n",
       "<tr>\n",
       "  <th>city_ANTELOPE</th>        <td>-7.177e+04</td> <td>  1.4e+04</td> <td>   -5.132</td> <td> 0.000</td> <td>-9.92e+04</td> <td>-4.43e+04</td>\n",
       "</tr>\n",
       "<tr>\n",
       "  <th>city_AUBURN</th>          <td> 5.971e+04</td> <td> 4.06e+04</td> <td>    1.469</td> <td> 0.142</td> <td>-2.01e+04</td> <td> 1.39e+05</td>\n",
       "</tr>\n",
       "<tr>\n",
       "  <th>city_CAMERON PARK</th>    <td>  4.62e+04</td> <td> 6.84e+04</td> <td>    0.676</td> <td> 0.499</td> <td> -8.8e+04</td> <td>  1.8e+05</td>\n",
       "</tr>\n",
       "<tr>\n",
       "  <th>city_CARMICHAEL</th>      <td> 1.357e+04</td> <td> 1.69e+04</td> <td>    0.802</td> <td> 0.423</td> <td>-1.96e+04</td> <td> 4.68e+04</td>\n",
       "</tr>\n",
       "<tr>\n",
       "  <th>city_CITRUS HEIGHTS</th>  <td>-6.137e+04</td> <td>  1.4e+04</td> <td>   -4.376</td> <td> 0.000</td> <td>-8.89e+04</td> <td>-3.38e+04</td>\n",
       "</tr>\n",
       "<tr>\n",
       "  <th>city_COOL</th>            <td> 2.251e+04</td> <td> 6.84e+04</td> <td>    0.329</td> <td> 0.742</td> <td>-1.12e+05</td> <td> 1.57e+05</td>\n",
       "</tr>\n",
       "<tr>\n",
       "  <th>city_DIAMOND SPRINGS</th> <td>-4.031e+04</td> <td> 6.84e+04</td> <td>   -0.589</td> <td> 0.556</td> <td>-1.75e+05</td> <td> 9.39e+04</td>\n",
       "</tr>\n",
       "<tr>\n",
       "  <th>city_EL DORADO</th>       <td>-2.228e+04</td> <td> 4.86e+04</td> <td>   -0.458</td> <td> 0.647</td> <td>-1.18e+05</td> <td> 7.32e+04</td>\n",
       "</tr>\n",
       "<tr>\n",
       "  <th>city_EL DORADO HILLS</th> <td>-8856.0240</td> <td> 3.99e+04</td> <td>   -0.222</td> <td> 0.825</td> <td>-8.73e+04</td> <td> 6.96e+04</td>\n",
       "</tr>\n",
       "<tr>\n",
       "  <th>city_ELK GROVE</th>       <td>-6.317e+04</td> <td> 9953.456</td> <td>   -6.347</td> <td> 0.000</td> <td>-8.27e+04</td> <td>-4.36e+04</td>\n",
       "</tr>\n",
       "<tr>\n",
       "  <th>city_ELVERTA</th>         <td>-1.103e+05</td> <td> 3.49e+04</td> <td>   -3.158</td> <td> 0.002</td> <td>-1.79e+05</td> <td>-4.18e+04</td>\n",
       "</tr>\n",
       "<tr>\n",
       "  <th>city_FAIR OAKS</th>       <td> 3649.6258</td> <td> 2.38e+04</td> <td>    0.153</td> <td> 0.878</td> <td>-4.31e+04</td> <td> 5.04e+04</td>\n",
       "</tr>\n",
       "<tr>\n",
       "  <th>city_FOLSOM</th>          <td> 5.051e+04</td> <td> 1.91e+04</td> <td>    2.641</td> <td> 0.008</td> <td>  1.3e+04</td> <td> 8.81e+04</td>\n",
       "</tr>\n",
       "<tr>\n",
       "  <th>city_GALT</th>            <td>-6.081e+04</td> <td>  1.7e+04</td> <td>   -3.583</td> <td> 0.000</td> <td>-9.41e+04</td> <td>-2.75e+04</td>\n",
       "</tr>\n",
       "<tr>\n",
       "  <th>city_GOLD RIVER</th>      <td> 2525.7378</td> <td> 4.01e+04</td> <td>    0.063</td> <td> 0.950</td> <td>-7.61e+04</td> <td> 8.11e+04</td>\n",
       "</tr>\n",
       "<tr>\n",
       "  <th>city_GRANITE BAY</th>     <td> 2.282e+05</td> <td> 4.03e+04</td> <td>    5.661</td> <td> 0.000</td> <td> 1.49e+05</td> <td> 3.07e+05</td>\n",
       "</tr>\n",
       "<tr>\n",
       "  <th>city_GREENWOOD</th>       <td>-6.962e+04</td> <td> 6.88e+04</td> <td>   -1.012</td> <td> 0.312</td> <td>-2.05e+05</td> <td> 6.55e+04</td>\n",
       "</tr>\n",
       "<tr>\n",
       "  <th>city_LINCOLN</th>         <td>-3.184e+04</td> <td> 2.87e+04</td> <td>   -1.108</td> <td> 0.268</td> <td>-8.82e+04</td> <td> 2.46e+04</td>\n",
       "</tr>\n",
       "<tr>\n",
       "  <th>city_LOOMIS</th>          <td> 3.042e+05</td> <td> 4.92e+04</td> <td>    6.181</td> <td> 0.000</td> <td> 2.08e+05</td> <td> 4.01e+05</td>\n",
       "</tr>\n",
       "<tr>\n",
       "  <th>city_MATHER</th>          <td>-1.254e+05</td> <td> 6.84e+04</td> <td>   -1.833</td> <td> 0.067</td> <td> -2.6e+05</td> <td> 8877.457</td>\n",
       "</tr>\n",
       "<tr>\n",
       "  <th>city_MEADOW VISTA</th>    <td>-1.122e+04</td> <td> 6.85e+04</td> <td>   -0.164</td> <td> 0.870</td> <td>-1.46e+05</td> <td> 1.23e+05</td>\n",
       "</tr>\n",
       "<tr>\n",
       "  <th>city_NORTH HIGHLANDS</th> <td>-9.788e+04</td> <td> 1.68e+04</td> <td>   -5.821</td> <td> 0.000</td> <td>-1.31e+05</td> <td>-6.49e+04</td>\n",
       "</tr>\n",
       "<tr>\n",
       "  <th>city_ORANGEVALE</th>      <td>-1.632e+04</td> <td> 2.18e+04</td> <td>   -0.749</td> <td> 0.454</td> <td>-5.91e+04</td> <td> 2.64e+04</td>\n",
       "</tr>\n",
       "<tr>\n",
       "  <th>city_PENRYN</th>          <td> 2.477e+05</td> <td> 6.84e+04</td> <td>    3.622</td> <td> 0.000</td> <td> 1.13e+05</td> <td> 3.82e+05</td>\n",
       "</tr>\n",
       "<tr>\n",
       "  <th>city_PLACERVILLE</th>     <td> 9.723e+04</td> <td> 3.13e+04</td> <td>    3.108</td> <td> 0.002</td> <td> 3.58e+04</td> <td> 1.59e+05</td>\n",
       "</tr>\n",
       "<tr>\n",
       "  <th>city_POLLOCK PINES</th>   <td>-2.556e+04</td> <td> 3.99e+04</td> <td>   -0.640</td> <td> 0.522</td> <td>-1.04e+05</td> <td> 5.28e+04</td>\n",
       "</tr>\n",
       "<tr>\n",
       "  <th>city_RANCHO CORDOVA</th>  <td> -7.67e+04</td> <td> 1.66e+04</td> <td>   -4.619</td> <td> 0.000</td> <td>-1.09e+05</td> <td>-4.41e+04</td>\n",
       "</tr>\n",
       "<tr>\n",
       "  <th>city_RANCHO MURIETA</th>  <td>-6.348e+04</td> <td> 4.89e+04</td> <td>   -1.297</td> <td> 0.195</td> <td> -1.6e+05</td> <td> 3.26e+04</td>\n",
       "</tr>\n",
       "<tr>\n",
       "  <th>city_RIO LINDA</th>       <td> -6.07e+04</td> <td> 2.11e+04</td> <td>   -2.881</td> <td> 0.004</td> <td>-1.02e+05</td> <td>-1.93e+04</td>\n",
       "</tr>\n",
       "<tr>\n",
       "  <th>city_ROCKLIN</th>         <td> 1.092e+04</td> <td> 2.51e+04</td> <td>    0.435</td> <td> 0.664</td> <td>-3.84e+04</td> <td> 6.02e+04</td>\n",
       "</tr>\n",
       "<tr>\n",
       "  <th>city_ROSEVILLE</th>       <td>-1.618e+04</td> <td> 1.48e+04</td> <td>   -1.094</td> <td> 0.274</td> <td>-4.52e+04</td> <td> 1.29e+04</td>\n",
       "</tr>\n",
       "<tr>\n",
       "  <th>city_SACRAMENTO</th>      <td>  -7.4e+04</td> <td> 8152.657</td> <td>   -9.077</td> <td> 0.000</td> <td>   -9e+04</td> <td> -5.8e+04</td>\n",
       "</tr>\n",
       "<tr>\n",
       "  <th>city_WALNUT GROVE</th>    <td> 6.994e+04</td> <td> 6.85e+04</td> <td>    1.020</td> <td> 0.308</td> <td>-6.46e+04</td> <td> 2.05e+05</td>\n",
       "</tr>\n",
       "<tr>\n",
       "  <th>city_WEST SACRAMENTO</th> <td>-7.055e+04</td> <td> 6.85e+04</td> <td>   -1.030</td> <td> 0.303</td> <td>-2.05e+05</td> <td> 6.39e+04</td>\n",
       "</tr>\n",
       "<tr>\n",
       "  <th>city_WILTON</th>          <td> 1.023e+05</td> <td> 3.59e+04</td> <td>    2.846</td> <td> 0.005</td> <td> 3.17e+04</td> <td> 1.73e+05</td>\n",
       "</tr>\n",
       "<tr>\n",
       "  <th>type_Condo</th>           <td>  1.14e+04</td> <td> 9973.428</td> <td>    1.144</td> <td> 0.253</td> <td>-8173.379</td> <td>  3.1e+04</td>\n",
       "</tr>\n",
       "<tr>\n",
       "  <th>type_Multi-Family</th>    <td> 1.326e+04</td> <td> 1.69e+04</td> <td>    0.783</td> <td> 0.434</td> <td>   -2e+04</td> <td> 4.65e+04</td>\n",
       "</tr>\n",
       "<tr>\n",
       "  <th>type_Residential</th>     <td> 5.606e+04</td> <td> 6813.554</td> <td>    8.227</td> <td> 0.000</td> <td> 4.27e+04</td> <td> 6.94e+04</td>\n",
       "</tr>\n",
       "</table>\n",
       "<table class=\"simpletable\">\n",
       "<tr>\n",
       "  <th>Omnibus:</th>       <td>256.549</td> <th>  Durbin-Watson:     </th> <td>   1.392</td> \n",
       "</tr>\n",
       "<tr>\n",
       "  <th>Prob(Omnibus):</th> <td> 0.000</td>  <th>  Jarque-Bera (JB):  </th> <td>1083.896</td> \n",
       "</tr>\n",
       "<tr>\n",
       "  <th>Skew:</th>          <td> 1.420</td>  <th>  Prob(JB):          </th> <td>4.32e-236</td>\n",
       "</tr>\n",
       "<tr>\n",
       "  <th>Kurtosis:</th>      <td> 7.904</td>  <th>  Cond. No.          </th> <td>3.46e+19</td> \n",
       "</tr>\n",
       "</table><br/><br/>Notes:<br/>[1] Standard Errors assume that the covariance matrix of the errors is correctly specified.<br/>[2] The smallest eigenvalue is 1.99e-30. This might indicate that there are<br/>strong multicollinearity problems or that the design matrix is singular."
      ],
      "text/plain": [
       "<class 'statsmodels.iolib.summary.Summary'>\n",
       "\"\"\"\n",
       "                            OLS Regression Results                            \n",
       "==============================================================================\n",
       "Dep. Variable:                  price   R-squared:                       0.675\n",
       "Model:                            OLS   Adj. R-squared:                  0.659\n",
       "Method:                 Least Squares   F-statistic:                     41.05\n",
       "Date:                Thu, 15 Sep 2022   Prob (F-statistic):          2.51e-160\n",
       "Time:                        15:49:46   Log-Likelihood:                -10164.\n",
       "No. Observations:                 810   AIC:                         2.041e+04\n",
       "Df Residuals:                     770   BIC:                         2.060e+04\n",
       "Df Model:                          39                                         \n",
       "Covariance Type:            nonrobust                                         \n",
       "========================================================================================\n",
       "                           coef    std err          t      P>|t|      [0.025      0.975]\n",
       "----------------------------------------------------------------------------------------\n",
       "const                 8.072e+04   1.13e+04      7.118      0.000    5.85e+04    1.03e+05\n",
       "beds                 -2.106e+04   4705.989     -4.476      0.000   -3.03e+04   -1.18e+04\n",
       "baths                 3810.2318   5884.532      0.647      0.518   -7741.396    1.54e+04\n",
       "sq__ft                 134.7211      6.964     19.346      0.000     121.051     148.392\n",
       "city_ANTELOPE        -7.177e+04    1.4e+04     -5.132      0.000   -9.92e+04   -4.43e+04\n",
       "city_AUBURN           5.971e+04   4.06e+04      1.469      0.142   -2.01e+04    1.39e+05\n",
       "city_CAMERON PARK      4.62e+04   6.84e+04      0.676      0.499    -8.8e+04     1.8e+05\n",
       "city_CARMICHAEL       1.357e+04   1.69e+04      0.802      0.423   -1.96e+04    4.68e+04\n",
       "city_CITRUS HEIGHTS  -6.137e+04    1.4e+04     -4.376      0.000   -8.89e+04   -3.38e+04\n",
       "city_COOL             2.251e+04   6.84e+04      0.329      0.742   -1.12e+05    1.57e+05\n",
       "city_DIAMOND SPRINGS -4.031e+04   6.84e+04     -0.589      0.556   -1.75e+05    9.39e+04\n",
       "city_EL DORADO       -2.228e+04   4.86e+04     -0.458      0.647   -1.18e+05    7.32e+04\n",
       "city_EL DORADO HILLS -8856.0240   3.99e+04     -0.222      0.825   -8.73e+04    6.96e+04\n",
       "city_ELK GROVE       -6.317e+04   9953.456     -6.347      0.000   -8.27e+04   -4.36e+04\n",
       "city_ELVERTA         -1.103e+05   3.49e+04     -3.158      0.002   -1.79e+05   -4.18e+04\n",
       "city_FAIR OAKS        3649.6258   2.38e+04      0.153      0.878   -4.31e+04    5.04e+04\n",
       "city_FOLSOM           5.051e+04   1.91e+04      2.641      0.008     1.3e+04    8.81e+04\n",
       "city_GALT            -6.081e+04    1.7e+04     -3.583      0.000   -9.41e+04   -2.75e+04\n",
       "city_GOLD RIVER       2525.7378   4.01e+04      0.063      0.950   -7.61e+04    8.11e+04\n",
       "city_GRANITE BAY      2.282e+05   4.03e+04      5.661      0.000    1.49e+05    3.07e+05\n",
       "city_GREENWOOD       -6.962e+04   6.88e+04     -1.012      0.312   -2.05e+05    6.55e+04\n",
       "city_LINCOLN         -3.184e+04   2.87e+04     -1.108      0.268   -8.82e+04    2.46e+04\n",
       "city_LOOMIS           3.042e+05   4.92e+04      6.181      0.000    2.08e+05    4.01e+05\n",
       "city_MATHER          -1.254e+05   6.84e+04     -1.833      0.067    -2.6e+05    8877.457\n",
       "city_MEADOW VISTA    -1.122e+04   6.85e+04     -0.164      0.870   -1.46e+05    1.23e+05\n",
       "city_NORTH HIGHLANDS -9.788e+04   1.68e+04     -5.821      0.000   -1.31e+05   -6.49e+04\n",
       "city_ORANGEVALE      -1.632e+04   2.18e+04     -0.749      0.454   -5.91e+04    2.64e+04\n",
       "city_PENRYN           2.477e+05   6.84e+04      3.622      0.000    1.13e+05    3.82e+05\n",
       "city_PLACERVILLE      9.723e+04   3.13e+04      3.108      0.002    3.58e+04    1.59e+05\n",
       "city_POLLOCK PINES   -2.556e+04   3.99e+04     -0.640      0.522   -1.04e+05    5.28e+04\n",
       "city_RANCHO CORDOVA   -7.67e+04   1.66e+04     -4.619      0.000   -1.09e+05   -4.41e+04\n",
       "city_RANCHO MURIETA  -6.348e+04   4.89e+04     -1.297      0.195    -1.6e+05    3.26e+04\n",
       "city_RIO LINDA        -6.07e+04   2.11e+04     -2.881      0.004   -1.02e+05   -1.93e+04\n",
       "city_ROCKLIN          1.092e+04   2.51e+04      0.435      0.664   -3.84e+04    6.02e+04\n",
       "city_ROSEVILLE       -1.618e+04   1.48e+04     -1.094      0.274   -4.52e+04    1.29e+04\n",
       "city_SACRAMENTO        -7.4e+04   8152.657     -9.077      0.000      -9e+04    -5.8e+04\n",
       "city_WALNUT GROVE     6.994e+04   6.85e+04      1.020      0.308   -6.46e+04    2.05e+05\n",
       "city_WEST SACRAMENTO -7.055e+04   6.85e+04     -1.030      0.303   -2.05e+05    6.39e+04\n",
       "city_WILTON           1.023e+05   3.59e+04      2.846      0.005    3.17e+04    1.73e+05\n",
       "type_Condo             1.14e+04   9973.428      1.144      0.253   -8173.379     3.1e+04\n",
       "type_Multi-Family     1.326e+04   1.69e+04      0.783      0.434      -2e+04    4.65e+04\n",
       "type_Residential      5.606e+04   6813.554      8.227      0.000    4.27e+04    6.94e+04\n",
       "==============================================================================\n",
       "Omnibus:                      256.549   Durbin-Watson:                   1.392\n",
       "Prob(Omnibus):                  0.000   Jarque-Bera (JB):             1083.896\n",
       "Skew:                           1.420   Prob(JB):                    4.32e-236\n",
       "Kurtosis:                       7.904   Cond. No.                     3.46e+19\n",
       "==============================================================================\n",
       "\n",
       "Notes:\n",
       "[1] Standard Errors assume that the covariance matrix of the errors is correctly specified.\n",
       "[2] The smallest eigenvalue is 1.99e-30. This might indicate that there are\n",
       "strong multicollinearity problems or that the design matrix is singular.\n",
       "\"\"\""
      ]
     },
     "execution_count": 89,
     "metadata": {},
     "output_type": "execute_result"
    }
   ],
   "source": [
    "model.summary()"
   ]
  },
  {
   "cell_type": "markdown",
   "metadata": {},
   "source": [
    "### 16. Regression Metrics\n",
    "\n",
    "Implement a function called `r2_adj()` that will calculate $R^2_{adj}$ for a model. "
   ]
  },
  {
   "cell_type": "code",
   "execution_count": 90,
   "metadata": {},
   "outputs": [
    {
     "data": {
      "text/plain": [
       "0.6740202749362739"
      ]
     },
     "execution_count": 90,
     "metadata": {},
     "output_type": "execute_result"
    }
   ],
   "source": [
    "adj_r2 = 1 - (1-metrics.r2_score(y,y_preds))*(len(y)-1)/(len(y)-3-1)\n",
    "adj_r2"
   ]
  },
  {
   "cell_type": "markdown",
   "metadata": {},
   "source": [
    "### 17. Metrics, metrics, everywhere...\n",
    "\n",
    "Calculate and interpret at least three regression metrics. How well does your model perform?"
   ]
  },
  {
   "cell_type": "code",
   "execution_count": 74,
   "metadata": {},
   "outputs": [
    {
     "data": {
      "text/plain": [
       "4647397366.168964"
      ]
     },
     "execution_count": 74,
     "metadata": {},
     "output_type": "execute_result"
    }
   ],
   "source": [
    "# MSE\n",
    "metrics.mean_squared_error(y,y_preds) "
   ]
  },
  {
   "cell_type": "code",
   "execution_count": 75,
   "metadata": {},
   "outputs": [
    {
     "data": {
      "text/plain": [
       "68171.82237676329"
      ]
     },
     "execution_count": 75,
     "metadata": {},
     "output_type": "execute_result"
    }
   ],
   "source": [
    "#RSME\n",
    "metrics.mean_squared_error(y,y_preds,squared=False)"
   ]
  },
  {
   "cell_type": "code",
   "execution_count": 76,
   "metadata": {},
   "outputs": [
    {
     "data": {
      "text/plain": [
       "0.6752290996274868"
      ]
     },
     "execution_count": 76,
     "metadata": {},
     "output_type": "execute_result"
    }
   ],
   "source": [
    "#\n",
    "metrics.r2_score(y,y_preds)"
   ]
  },
  {
   "cell_type": "markdown",
   "metadata": {},
   "source": [
    "### 18. Model Iteration\n",
    "\n",
    "Adjust your model by adding or removing a variable. Then calculate the same regression metrics as you used in question 17. Has your model performance increased or decreased?"
   ]
  },
  {
   "cell_type": "code",
   "execution_count": 77,
   "metadata": {},
   "outputs": [
    {
     "data": {
      "text/plain": [
       "(810, 42)"
      ]
     },
     "execution_count": 77,
     "metadata": {},
     "output_type": "execute_result"
    }
   ],
   "source": [
    "x_vars1 = ['city','beds','baths','sq__ft','type','sale_date']\n",
    "X1 = train[x_vars1]\n",
    "# add sale_date \n",
    "X1 = pd.get_dummies(columns= [\"city\",\"type\",\"sale_date\"], data = X1)\n",
    "X.shape"
   ]
  },
  {
   "cell_type": "code",
   "execution_count": 78,
   "metadata": {},
   "outputs": [
    {
     "data": {
      "text/html": [
       "<div>\n",
       "<style scoped>\n",
       "    .dataframe tbody tr th:only-of-type {\n",
       "        vertical-align: middle;\n",
       "    }\n",
       "\n",
       "    .dataframe tbody tr th {\n",
       "        vertical-align: top;\n",
       "    }\n",
       "\n",
       "    .dataframe thead th {\n",
       "        text-align: right;\n",
       "    }\n",
       "</style>\n",
       "<table border=\"1\" class=\"dataframe\">\n",
       "  <thead>\n",
       "    <tr style=\"text-align: right;\">\n",
       "      <th></th>\n",
       "      <th>beds</th>\n",
       "      <th>baths</th>\n",
       "      <th>sq__ft</th>\n",
       "      <th>city_ANTELOPE</th>\n",
       "      <th>city_AUBURN</th>\n",
       "      <th>city_CAMERON PARK</th>\n",
       "      <th>city_CARMICHAEL</th>\n",
       "      <th>city_CITRUS HEIGHTS</th>\n",
       "      <th>city_COOL</th>\n",
       "      <th>city_DIAMOND SPRINGS</th>\n",
       "      <th>...</th>\n",
       "      <th>city_WEST SACRAMENTO</th>\n",
       "      <th>city_WILTON</th>\n",
       "      <th>type_Condo</th>\n",
       "      <th>type_Multi-Family</th>\n",
       "      <th>type_Residential</th>\n",
       "      <th>sale_date_Fri May 16 00:00:00 EDT 2008</th>\n",
       "      <th>sale_date_Mon May 19 00:00:00 EDT 2008</th>\n",
       "      <th>sale_date_Thu May 15 00:00:00 EDT 2008</th>\n",
       "      <th>sale_date_Tue May 20 00:00:00 EDT 2008</th>\n",
       "      <th>sale_date_Wed May 21 00:00:00 EDT 2008</th>\n",
       "    </tr>\n",
       "  </thead>\n",
       "  <tbody>\n",
       "    <tr>\n",
       "      <th>0</th>\n",
       "      <td>2</td>\n",
       "      <td>1</td>\n",
       "      <td>836</td>\n",
       "      <td>0</td>\n",
       "      <td>0</td>\n",
       "      <td>0</td>\n",
       "      <td>0</td>\n",
       "      <td>0</td>\n",
       "      <td>0</td>\n",
       "      <td>0</td>\n",
       "      <td>...</td>\n",
       "      <td>0</td>\n",
       "      <td>0</td>\n",
       "      <td>0</td>\n",
       "      <td>0</td>\n",
       "      <td>1</td>\n",
       "      <td>0</td>\n",
       "      <td>0</td>\n",
       "      <td>0</td>\n",
       "      <td>0</td>\n",
       "      <td>1</td>\n",
       "    </tr>\n",
       "    <tr>\n",
       "      <th>1</th>\n",
       "      <td>3</td>\n",
       "      <td>1</td>\n",
       "      <td>1167</td>\n",
       "      <td>0</td>\n",
       "      <td>0</td>\n",
       "      <td>0</td>\n",
       "      <td>0</td>\n",
       "      <td>0</td>\n",
       "      <td>0</td>\n",
       "      <td>0</td>\n",
       "      <td>...</td>\n",
       "      <td>0</td>\n",
       "      <td>0</td>\n",
       "      <td>0</td>\n",
       "      <td>0</td>\n",
       "      <td>1</td>\n",
       "      <td>0</td>\n",
       "      <td>0</td>\n",
       "      <td>0</td>\n",
       "      <td>0</td>\n",
       "      <td>1</td>\n",
       "    </tr>\n",
       "    <tr>\n",
       "      <th>2</th>\n",
       "      <td>2</td>\n",
       "      <td>1</td>\n",
       "      <td>796</td>\n",
       "      <td>0</td>\n",
       "      <td>0</td>\n",
       "      <td>0</td>\n",
       "      <td>0</td>\n",
       "      <td>0</td>\n",
       "      <td>0</td>\n",
       "      <td>0</td>\n",
       "      <td>...</td>\n",
       "      <td>0</td>\n",
       "      <td>0</td>\n",
       "      <td>0</td>\n",
       "      <td>0</td>\n",
       "      <td>1</td>\n",
       "      <td>0</td>\n",
       "      <td>0</td>\n",
       "      <td>0</td>\n",
       "      <td>0</td>\n",
       "      <td>1</td>\n",
       "    </tr>\n",
       "    <tr>\n",
       "      <th>3</th>\n",
       "      <td>2</td>\n",
       "      <td>1</td>\n",
       "      <td>852</td>\n",
       "      <td>0</td>\n",
       "      <td>0</td>\n",
       "      <td>0</td>\n",
       "      <td>0</td>\n",
       "      <td>0</td>\n",
       "      <td>0</td>\n",
       "      <td>0</td>\n",
       "      <td>...</td>\n",
       "      <td>0</td>\n",
       "      <td>0</td>\n",
       "      <td>0</td>\n",
       "      <td>0</td>\n",
       "      <td>1</td>\n",
       "      <td>0</td>\n",
       "      <td>0</td>\n",
       "      <td>0</td>\n",
       "      <td>0</td>\n",
       "      <td>1</td>\n",
       "    </tr>\n",
       "    <tr>\n",
       "      <th>4</th>\n",
       "      <td>2</td>\n",
       "      <td>1</td>\n",
       "      <td>797</td>\n",
       "      <td>0</td>\n",
       "      <td>0</td>\n",
       "      <td>0</td>\n",
       "      <td>0</td>\n",
       "      <td>0</td>\n",
       "      <td>0</td>\n",
       "      <td>0</td>\n",
       "      <td>...</td>\n",
       "      <td>0</td>\n",
       "      <td>0</td>\n",
       "      <td>0</td>\n",
       "      <td>0</td>\n",
       "      <td>1</td>\n",
       "      <td>0</td>\n",
       "      <td>0</td>\n",
       "      <td>0</td>\n",
       "      <td>0</td>\n",
       "      <td>1</td>\n",
       "    </tr>\n",
       "  </tbody>\n",
       "</table>\n",
       "<p>5 rows × 46 columns</p>\n",
       "</div>"
      ],
      "text/plain": [
       "   beds  baths  sq__ft  city_ANTELOPE  city_AUBURN  city_CAMERON PARK  \\\n",
       "0     2      1     836              0            0                  0   \n",
       "1     3      1    1167              0            0                  0   \n",
       "2     2      1     796              0            0                  0   \n",
       "3     2      1     852              0            0                  0   \n",
       "4     2      1     797              0            0                  0   \n",
       "\n",
       "   city_CARMICHAEL  city_CITRUS HEIGHTS  city_COOL  city_DIAMOND SPRINGS  ...  \\\n",
       "0                0                    0          0                     0  ...   \n",
       "1                0                    0          0                     0  ...   \n",
       "2                0                    0          0                     0  ...   \n",
       "3                0                    0          0                     0  ...   \n",
       "4                0                    0          0                     0  ...   \n",
       "\n",
       "   city_WEST SACRAMENTO  city_WILTON  type_Condo  type_Multi-Family  \\\n",
       "0                     0            0           0                  0   \n",
       "1                     0            0           0                  0   \n",
       "2                     0            0           0                  0   \n",
       "3                     0            0           0                  0   \n",
       "4                     0            0           0                  0   \n",
       "\n",
       "   type_Residential  sale_date_Fri May 16 00:00:00 EDT 2008  \\\n",
       "0                 1                                       0   \n",
       "1                 1                                       0   \n",
       "2                 1                                       0   \n",
       "3                 1                                       0   \n",
       "4                 1                                       0   \n",
       "\n",
       "   sale_date_Mon May 19 00:00:00 EDT 2008  \\\n",
       "0                                       0   \n",
       "1                                       0   \n",
       "2                                       0   \n",
       "3                                       0   \n",
       "4                                       0   \n",
       "\n",
       "   sale_date_Thu May 15 00:00:00 EDT 2008  \\\n",
       "0                                       0   \n",
       "1                                       0   \n",
       "2                                       0   \n",
       "3                                       0   \n",
       "4                                       0   \n",
       "\n",
       "   sale_date_Tue May 20 00:00:00 EDT 2008  \\\n",
       "0                                       0   \n",
       "1                                       0   \n",
       "2                                       0   \n",
       "3                                       0   \n",
       "4                                       0   \n",
       "\n",
       "   sale_date_Wed May 21 00:00:00 EDT 2008  \n",
       "0                                       1  \n",
       "1                                       1  \n",
       "2                                       1  \n",
       "3                                       1  \n",
       "4                                       1  \n",
       "\n",
       "[5 rows x 46 columns]"
      ]
     },
     "execution_count": 78,
     "metadata": {},
     "output_type": "execute_result"
    }
   ],
   "source": [
    "X1.head()"
   ]
  },
  {
   "cell_type": "code",
   "execution_count": 79,
   "metadata": {},
   "outputs": [
    {
     "data": {
      "text/plain": [
       "Index(['beds', 'baths', 'sq__ft', 'city_ANTELOPE', 'city_AUBURN',\n",
       "       'city_CAMERON PARK', 'city_CARMICHAEL', 'city_CITRUS HEIGHTS',\n",
       "       'city_COOL', 'city_DIAMOND SPRINGS', 'city_EL DORADO',\n",
       "       'city_EL DORADO HILLS', 'city_ELK GROVE', 'city_ELVERTA',\n",
       "       'city_FAIR OAKS', 'city_FOLSOM', 'city_GALT', 'city_GOLD RIVER',\n",
       "       'city_GRANITE BAY', 'city_GREENWOOD', 'city_LINCOLN', 'city_LOOMIS',\n",
       "       'city_MATHER', 'city_MEADOW VISTA', 'city_NORTH HIGHLANDS',\n",
       "       'city_ORANGEVALE', 'city_PENRYN', 'city_PLACERVILLE',\n",
       "       'city_POLLOCK PINES', 'city_RANCHO CORDOVA', 'city_RANCHO MURIETA',\n",
       "       'city_RIO LINDA', 'city_ROCKLIN', 'city_ROSEVILLE', 'city_SACRAMENTO',\n",
       "       'city_WALNUT GROVE', 'city_WEST SACRAMENTO', 'city_WILTON',\n",
       "       'type_Condo', 'type_Multi-Family', 'type_Residential',\n",
       "       'sale_date_Fri May 16 00:00:00 EDT 2008',\n",
       "       'sale_date_Mon May 19 00:00:00 EDT 2008',\n",
       "       'sale_date_Thu May 15 00:00:00 EDT 2008',\n",
       "       'sale_date_Tue May 20 00:00:00 EDT 2008',\n",
       "       'sale_date_Wed May 21 00:00:00 EDT 2008'],\n",
       "      dtype='object')"
      ]
     },
     "execution_count": 79,
     "metadata": {},
     "output_type": "execute_result"
    }
   ],
   "source": [
    "X1.columns"
   ]
  },
  {
   "cell_type": "code",
   "execution_count": 80,
   "metadata": {},
   "outputs": [
    {
     "name": "stdout",
     "output_type": "stream",
     "text": [
      "Slope of MLR model : [-2.04003614e+04  4.15305159e+03  1.31918414e+02 -7.44112894e+04\n",
      "  5.44799266e+04  3.62948596e+04  1.15888905e+04 -6.31444934e+04\n",
      "  2.08020894e+04 -4.24537196e+04 -2.70914533e+04 -5.85353354e+03\n",
      " -6.35902000e+04 -1.17809381e+05  1.49641048e+03  4.73419999e+04\n",
      " -6.47575982e+04 -1.65515787e+03  2.24916486e+05 -6.46529106e+04\n",
      " -2.85286795e+04  2.96660531e+05 -1.22518344e+05 -2.30173573e+04\n",
      " -9.82083026e+04 -1.67027342e+04  2.39043533e+05  8.69032561e+04\n",
      " -2.54404199e+04 -7.97240312e+04 -6.52857864e+04 -6.41894606e+04\n",
      "  6.40955699e+03 -1.99204327e+04 -7.53830389e+04  6.93371690e+04\n",
      " -5.36876036e+04  1.02751220e+05 -1.62262031e+04 -1.35290401e+04\n",
      "  2.97552432e+04  1.13276557e+03  7.65214473e+03 -1.80355998e+04\n",
      "  1.08976017e+04 -1.64691219e+03]\n",
      "Intercept of MLR model : 108999.75293381842\n",
      "R-squared Score of MLR model: 0.6803816658715139\n"
     ]
    }
   ],
   "source": [
    "lr = LinearRegression() \n",
    "lr.fit(X1,y)\n",
    "print(f\"Slope of MLR model : {lr.coef_}\")\n",
    "print(f\"Intercept of MLR model : {lr.intercept_}\") \n",
    "print(f\"R-squared Score of MLR model: {lr.score(X1,y)}\") "
   ]
  },
  {
   "cell_type": "code",
   "execution_count": 81,
   "metadata": {},
   "outputs": [],
   "source": [
    "y_preds1 = lr.predict(X1)"
   ]
  },
  {
   "cell_type": "code",
   "execution_count": 82,
   "metadata": {},
   "outputs": [],
   "source": [
    "residuals1 = y - y_preds1"
   ]
  },
  {
   "cell_type": "code",
   "execution_count": 83,
   "metadata": {},
   "outputs": [
    {
     "data": {
      "image/png": "[encoded data removed]",
      "text/plain": [
       "<Figure size 432x288 with 1 Axes>"
      ]
     },
     "metadata": {
      "needs_background": "light"
     },
     "output_type": "display_data"
    }
   ],
   "source": [
    "plt.hist(residuals1, bins=20)\n",
    "plt.axvline(np.std(residuals1), color = \"r\")\n",
    "plt.axvline(np.std(residuals1)*-1, color = \"r\");"
   ]
  },
  {
   "cell_type": "code",
   "execution_count": 84,
   "metadata": {},
   "outputs": [
    {
     "data": {
      "image/png": "[encoded data removed]",
      "text/plain": [
       "<Figure size 432x288 with 1 Axes>"
      ]
     },
     "metadata": {
      "needs_background": "light"
     },
     "output_type": "display_data"
    }
   ],
   "source": [
    "plt.scatter(y_preds,residuals1)\n",
    "plt.axhline(np.std(residuals1), color = \"r\")\n",
    "plt.axhline(np.std(residuals1)*-1, color = \"r\");"
   ]
  },
  {
   "cell_type": "code",
   "execution_count": 85,
   "metadata": {},
   "outputs": [
    {
     "name": "stdout",
     "output_type": "stream",
     "text": [
      " adj_r2_1 : 0.6791920194665693\n",
      " MSE : 4573665320.70542\n",
      " RSME : 67628.87933941698\n",
      " R^2 : 0.6803816658715139\n"
     ]
    }
   ],
   "source": [
    "print(f' adj_r2_1 : {1 - (1-metrics.r2_score(y,y_preds1))*(len(y)-1)/(len(y)-3-1)}')\n",
    "print(f' MSE : {metrics.mean_squared_error(y,y_preds1)}')\n",
    "print(f' RSME : {metrics.mean_squared_error(y,y_preds1,squared=False)}')\n",
    "print(f' R^2 : {metrics.r2_score(y,y_preds1)}')"
   ]
  },
  {
   "cell_type": "markdown",
   "metadata": {},
   "source": [
    "Model 1 has R^2 : 0.675 \n",
    "Model 2 has R^2 : 0.680 \n",
    "I decide select Model 2 to predict price of sacramento_real_estate_transactions "
   ]
  },
  {
   "cell_type": "markdown",
   "metadata": {},
   "source": [
    "### 19. Bias vs. Variance\n",
    "\n",
    "_(To be completed after the bias-variance tradeoff lecture.)_ At this point, do you think your model is high bias, high variance or in the sweet spot?"
   ]
  },
  {
   "cell_type": "markdown",
   "metadata": {},
   "source": [
    "My model is high variance because more feature to predict a price."
   ]
  }
 ],
 "metadata": {
  "anaconda-cloud": {},
  "kernelspec": {
   "display_name": "Python 3 (ipykernel)",
   "language": "python",
   "name": "python3"
  },
  "language_info": {
   "codemirror_mode": {
    "name": "ipython",
    "version": 3
   },
   "file_extension": ".py",
   "mimetype": "text/x-python",
   "name": "python",
   "nbconvert_exporter": "python",
   "pygments_lexer": "ipython3",
   "version": "3.9.12"
  }
 },
 "nbformat": 4,
 "nbformat_minor": 4
}
